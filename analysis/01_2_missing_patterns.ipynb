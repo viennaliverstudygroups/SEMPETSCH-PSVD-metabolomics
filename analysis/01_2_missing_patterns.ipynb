{
 "cells": [
  {
   "cell_type": "markdown",
   "metadata": {},
   "source": [
    "## Setup"
   ]
  },
  {
   "cell_type": "code",
   "execution_count": 1,
   "metadata": {
    "vscode": {
     "languageId": "r"
    }
   },
   "outputs": [],
   "source": [
    "source(\"2022_PSVD_metabolomics/2022_PSVD_metabolomics/R/00_setup.R\")"
   ]
  },
  {
   "cell_type": "code",
   "execution_count": 9,
   "metadata": {
    "vscode": {
     "languageId": "r"
    }
   },
   "outputs": [],
   "source": [
    "p_load(\"dplyr\", \"ggplot2\", \"mice\", \"janitor\", \"naniar\", install = FALSE)"
   ]
  },
  {
   "cell_type": "markdown",
   "metadata": {},
   "source": [
    "## Missing data points"
   ]
  },
  {
   "cell_type": "code",
   "execution_count": 10,
   "metadata": {
    "vscode": {
     "languageId": "r"
    }
   },
   "outputs": [],
   "source": [
    "lipid_raw <- read.csv(\"data/lipid.csv\", fileEncoding=\"windows-1252\", check.names = FALSE, na.strings=\"NA\")\n",
    "facid_raw <- read.csv(\"data/facid.csv\", fileEncoding=\"windows-1252\", check.names = FALSE, na.strings=\"NA\")\n",
    "metab_raw <- read.csv(\"data/metab.csv\", fileEncoding=\"windows-1252\", check.names = FALSE, na.strings=\"NA\")"
   ]
  },
  {
   "cell_type": "code",
   "execution_count": 11,
   "metadata": {
    "vscode": {
     "languageId": "r"
    }
   },
   "outputs": [],
   "source": [
    "lipid_map <- read.csv(\"data/lipid_map.csv\", fileEncoding=\"windows-1252\", check.names = FALSE, na.strings=\"NA\")\n",
    "facid_map <- read.csv(\"data/facid_map.csv\", fileEncoding=\"windows-1252\", check.names = FALSE, na.strings=\"NA\")\n",
    "metab_map <- read.csv(\"data/metab_map.csv\", fileEncoding=\"windows-1252\", check.names = FALSE, na.strings=\"NA\")"
   ]
  },
  {
   "cell_type": "code",
   "execution_count": 5,
   "metadata": {
    "vscode": {
     "languageId": "r"
    }
   },
   "outputs": [],
   "source": [
    "indices <- match(colnames(lipid_raw), lipid_map$name_original)\n",
    "colnames(lipid_raw) <- ifelse(is.na(indices), colnames(lipid_raw), lipid_map$name_corrected[indices])\n",
    "\n",
    "indices <- match(colnames(facid_raw), facid_map$name_original)\n",
    "colnames(facid_raw) <- ifelse(is.na(indices), colnames(facid_raw), facid_map$name_corrected[indices])\n",
    "\n",
    "indices <- match(colnames(metab_raw), metab_map$name_original)\n",
    "colnames(metab_raw) <- ifelse(is.na(indices), colnames(metab_raw), metab_map$name_corrected[indices])"
   ]
  },
  {
   "cell_type": "code",
   "execution_count": null,
   "metadata": {
    "vscode": {
     "languageId": "r"
    }
   },
   "outputs": [],
   "source": [
    "missing_incl_facid <- miss_var_summary(facid_raw) %>% filter(pct_miss < 100 & pct_miss > 10)\n",
    "tmp_incl_facid <- facid_raw %>% select(`Sample Description`, missing_incl_facid$variable)\n",
    "gg_miss_fct(tmp_incl_facid, fct = `Sample Description`)"
   ]
  },
  {
   "cell_type": "code",
   "execution_count": null,
   "metadata": {
    "vscode": {
     "languageId": "r"
    }
   },
   "outputs": [],
   "source": [
    "missing_incl_lipid <- miss_var_summary(lipid_raw) %>% filter(pct_miss < 100 & pct_miss > 10)\n",
    "tmp_incl_lipid <- lipid_raw %>% select(`Sample Description`, missing_incl_lipid$variable)\n",
    "gg_miss_fct(tmp_incl_lipid, fct = `Sample Description`)"
   ]
  },
  {
   "cell_type": "code",
   "execution_count": null,
   "metadata": {
    "vscode": {
     "languageId": "r"
    }
   },
   "outputs": [],
   "source": [
    "missing_incl_metab <- miss_var_summary(metab_raw) %>% filter(pct_miss < 100 & pct_miss > 10)\n",
    "tmp_incl_metab <- metab_raw %>% select(Group_123, missing_incl_metab$variable)\n",
    "gg_miss_fct(tmp_incl_metab, fct = Group_123)"
   ]
  },
  {
   "cell_type": "code",
   "execution_count": null,
   "metadata": {
    "vscode": {
     "languageId": "r"
    }
   },
   "outputs": [],
   "source": [
    "x <- as.data.frame(abs(is.na(facid_raw)))\n",
    "y <- x[which(sapply(x, sd) > 0)]\n",
    "cor(y)"
   ]
  },
  {
   "cell_type": "code",
   "execution_count": null,
   "metadata": {
    "vscode": {
     "languageId": "r"
    }
   },
   "outputs": [],
   "source": [
    "explanatory <- c(\"Group_123\", \"Sex\", \n",
    "                 \"Age\")\n",
    "dependent <- \"isobutyric_acid\"\n",
    "facid_raw %>% \n",
    "  finalfit::missing_pairs(dependent, explanatory)"
   ]
  },
  {
   "cell_type": "code",
   "execution_count": 19,
   "metadata": {
    "vscode": {
     "languageId": "r"
    }
   },
   "outputs": [],
   "source": [
    "write.csv(cbind(tmp_incl_facid, tmp_incl_lipid, tmp_incl_metab), \"outputs/01_2_missing_data_merged.csv\", row.names = FALSE, quote = FALSE)"
   ]
  }
 ],
 "metadata": {
  "kernelspec": {
   "display_name": "r-proteomics",
   "language": "R",
   "name": "r-proteomics"
  },
  "language_info": {
   "codemirror_mode": "r",
   "file_extension": ".r",
   "mimetype": "text/x-r-source",
   "name": "R",
   "pygments_lexer": "r",
   "version": "4.3.3"
  },
  "orig_nbformat": 4
 },
 "nbformat": 4,
 "nbformat_minor": 2
}
