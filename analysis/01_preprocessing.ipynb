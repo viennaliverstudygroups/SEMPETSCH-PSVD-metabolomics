{
 "cells": [
  {
   "attachments": {},
   "cell_type": "markdown",
   "metadata": {},
   "source": [
    "## Setup"
   ]
  },
  {
   "cell_type": "code",
   "execution_count": 2,
   "metadata": {
    "vscode": {
     "languageId": "r"
    }
   },
   "outputs": [],
   "source": [
    "source(\"/research/lab_reiberger/2022_PSVD_metabolomics/2022_PSVD_metabolomics/R/00_setup.R\")"
   ]
  },
  {
   "cell_type": "code",
   "execution_count": 3,
   "metadata": {
    "vscode": {
     "languageId": "r"
    }
   },
   "outputs": [],
   "source": [
    "p_load(\"dplyr\", \"ggplot2\", \"mice\", \"janitor\", \"POMA\", \"SummarizedExperiment\", install = FALSE)"
   ]
  },
  {
   "cell_type": "code",
   "execution_count": 4,
   "metadata": {
    "vscode": {
     "languageId": "r"
    }
   },
   "outputs": [],
   "source": [
    "lipid_raw <- read.csv(\"data/lipid.csv\", fileEncoding=\"windows-1252\", check.names = FALSE, na.strings=\"NA\")\n",
    "facid_raw <- read.csv(\"data/facid.csv\", fileEncoding=\"windows-1252\", check.names = FALSE, na.strings=\"NA\")\n",
    "metab_raw <- read.csv(\"data/metab.csv\", fileEncoding=\"windows-1252\", check.names = FALSE, na.strings=\"NA\")"
   ]
  },
  {
   "cell_type": "code",
   "execution_count": 9,
   "metadata": {
    "vscode": {
     "languageId": "r"
    }
   },
   "outputs": [],
   "source": [
    "metadata <- facid_raw[, 3:7]\n",
    "names(metadata) <- make_clean_names(names(metadata))\n",
    "metadata <- metadata %>% dplyr::rename(\"sample_id\" = \"sample_identification\")"
   ]
  },
  {
   "attachments": {},
   "cell_type": "markdown",
   "metadata": {},
   "source": [
    "## Data cleaning"
   ]
  },
  {
   "cell_type": "code",
   "execution_count": 11,
   "metadata": {
    "vscode": {
     "languageId": "r"
    }
   },
   "outputs": [],
   "source": [
    "missing_threshold <- 20"
   ]
  },
  {
   "cell_type": "code",
   "execution_count": 12,
   "metadata": {
    "vscode": {
     "languageId": "r"
    }
   },
   "outputs": [
    {
     "data": {
      "text/html": [
       "'Columns with &gt;20% missing values in lipid_raw: 95. New number of columns: 197. Percentage of outliers: 32.53%'"
      ],
      "text/latex": [
       "'Columns with >20\\% missing values in lipid\\_raw: 95. New number of columns: 197. Percentage of outliers: 32.53\\%'"
      ],
      "text/markdown": [
       "'Columns with &gt;20% missing values in lipid_raw: 95. New number of columns: 197. Percentage of outliers: 32.53%'"
      ],
      "text/plain": [
       "[1] \"Columns with >20% missing values in lipid_raw: 95. New number of columns: 197. Percentage of outliers: 32.53%\""
      ]
     },
     "metadata": {},
     "output_type": "display_data"
    },
    {
     "data": {
      "text/html": [
       "'Columns with &gt;20% missing values in facid_raw: 13. New number of columns: 31. Percentage of outliers: 29.55%'"
      ],
      "text/latex": [
       "'Columns with >20\\% missing values in facid\\_raw: 13. New number of columns: 31. Percentage of outliers: 29.55\\%'"
      ],
      "text/markdown": [
       "'Columns with &gt;20% missing values in facid_raw: 13. New number of columns: 31. Percentage of outliers: 29.55%'"
      ],
      "text/plain": [
       "[1] \"Columns with >20% missing values in facid_raw: 13. New number of columns: 31. Percentage of outliers: 29.55%\""
      ]
     },
     "metadata": {},
     "output_type": "display_data"
    },
    {
     "data": {
      "text/html": [
       "'Columns with &gt;20% missing values in metab_raw: 100. New number of columns: 103. Percentage of outliers: 49.26%'"
      ],
      "text/latex": [
       "'Columns with >20\\% missing values in metab\\_raw: 100. New number of columns: 103. Percentage of outliers: 49.26\\%'"
      ],
      "text/markdown": [
       "'Columns with &gt;20% missing values in metab_raw: 100. New number of columns: 103. Percentage of outliers: 49.26%'"
      ],
      "text/plain": [
       "[1] \"Columns with >20% missing values in metab_raw: 100. New number of columns: 103. Percentage of outliers: 49.26%\""
      ]
     },
     "metadata": {},
     "output_type": "display_data"
    }
   ],
   "source": [
    "lipid_raw_na <- lipid_raw %>% purrr::discard(~sum(is.na(.x))/length(.x)* 100 >= missing_threshold)\n",
    "paste0(\"Columns with >\", missing_threshold, \"% missing values in lipid_raw: \", ncol(lipid_raw) - ncol(lipid_raw_na), \". New number of columns: \", ncol(lipid_raw_na), \". Percentage of outliers: \", round((ncol(lipid_raw) - ncol(lipid_raw_na)) * 100/ncol(lipid_raw), 2), \"%\")\n",
    "\n",
    "facid_raw_na <- facid_raw %>% purrr::discard(~sum(is.na(.x))/length(.x)* 100 >= missing_threshold)\n",
    "paste0(\"Columns with >\", missing_threshold, \"% missing values in facid_raw: \", ncol(facid_raw) - ncol(facid_raw_na), \". New number of columns: \", ncol(facid_raw_na), \". Percentage of outliers: \", round((ncol(facid_raw) - ncol(facid_raw_na)) * 100/ncol(facid_raw), 2), \"%\")\n",
    "\n",
    "metab_raw_na <- metab_raw %>% purrr::discard(~sum(is.na(.x))/length(.x)* 100 >= missing_threshold)\n",
    "paste0(\"Columns with >\", missing_threshold, \"% missing values in metab_raw: \", ncol(metab_raw) - ncol(metab_raw_na), \". New number of columns: \", ncol(metab_raw_na), \". Percentage of outliers: \", round((ncol(metab_raw) - ncol(metab_raw_na)) * 100/ncol(metab_raw), 2), \"%\")"
   ]
  },
  {
   "cell_type": "code",
   "execution_count": 13,
   "metadata": {
    "vscode": {
     "languageId": "r"
    }
   },
   "outputs": [],
   "source": [
    "lipid_raw_na <- remove_constant(lipid_raw_na)\n",
    "facid_raw_na <- remove_constant(facid_raw_na)\n",
    "metab_raw_na <- remove_constant(metab_raw_na)"
   ]
  },
  {
   "cell_type": "code",
   "execution_count": 14,
   "metadata": {
    "vscode": {
     "languageId": "r"
    }
   },
   "outputs": [],
   "source": [
    "names(lipid_raw_na) <- make_clean_names(names(lipid_raw_na))\n",
    "names(facid_raw_na) <- make_clean_names(names(facid_raw_na))\n",
    "names(metab_raw_na) <- make_clean_names(names(metab_raw_na))"
   ]
  },
  {
   "cell_type": "code",
   "execution_count": 15,
   "metadata": {
    "vscode": {
     "languageId": "r"
    }
   },
   "outputs": [],
   "source": [
    "lipid_raw_na <- lipid_raw_na %>% select(-sample_id, -sample_description, -group_123, -sex, -age)\n",
    "facid_raw_na <- facid_raw_na %>% select(-sample_code, -sample_description, -group_123, -sex, -age)\n",
    "metab_raw_na <- metab_raw_na %>% select(-group_123, -sex, -age)"
   ]
  },
  {
   "cell_type": "code",
   "execution_count": 17,
   "metadata": {
    "vscode": {
     "languageId": "r"
    }
   },
   "outputs": [],
   "source": [
    "lipid_raw_na <- lipid_raw_na %>% dplyr::rename(\"sample_id\" = \"label\")\n",
    "facid_raw_na <- facid_raw_na %>% dplyr::rename(\"sample_id\" = \"sample_identification\")\n",
    "metab_raw_na <- metab_raw_na %>% dplyr::rename(\"sample_id\" = \"sample_identification\") "
   ]
  },
  {
   "attachments": {},
   "cell_type": "markdown",
   "metadata": {},
   "source": [
    "## Imputation, normalization, scaling and outliers"
   ]
  },
  {
   "cell_type": "code",
   "execution_count": 31,
   "metadata": {
    "vscode": {
     "languageId": "r"
    }
   },
   "outputs": [],
   "source": [
    "lipid_se <- PomaSummarizedExperiment(target = metadata, features = lipid_raw_na[2:ncol(lipid_raw_na)])\n",
    "facid_se <- PomaSummarizedExperiment(target = metadata, features = facid_raw_na[2:ncol(facid_raw_na)])\n",
    "metab_se <- PomaSummarizedExperiment(target = metadata, features = metab_raw_na[2:ncol(metab_raw_na)])\n"
   ]
  },
  {
   "cell_type": "code",
   "execution_count": 40,
   "metadata": {
    "vscode": {
     "languageId": "r"
    }
   },
   "outputs": [
    {
     "ename": "ERROR",
     "evalue": "Error in PomaImpute(lipid_se, ZerosAsNA = TRUE, cutoff = 20, method = \"knn\"): data is not a SummarizedExperiment object. \nSee POMA::PomaSummarizedExperiment or SummarizedExperiment::SummarizedExperiment\n",
     "output_type": "error",
     "traceback": [
      "Error in PomaImpute(lipid_se, ZerosAsNA = TRUE, cutoff = 20, method = \"knn\"): data is not a SummarizedExperiment object. \nSee POMA::PomaSummarizedExperiment or SummarizedExperiment::SummarizedExperiment\nTraceback:\n",
      "1. PomaImpute(lipid_se, ZerosAsNA = TRUE, cutoff = 20, method = \"knn\") %>% \n .     PomaNorm(method = \"log_pareto\") %>% PomaOutliers(coef = 3)",
      "2. PomaOutliers(., coef = 3)",
      "3. is(data, \"SummarizedExperiment\")",
      "4. PomaNorm(., method = \"log_pareto\")",
      "5. is(data, \"SummarizedExperiment\")",
      "6. PomaImpute(lipid_se, ZerosAsNA = TRUE, cutoff = 20, method = \"knn\")",
      "7. stop(\"data is not a SummarizedExperiment object. \\nSee POMA::PomaSummarizedExperiment or SummarizedExperiment::SummarizedExperiment\")"
     ]
    }
   ],
   "source": [
    "lipid_se <- PomaImpute(lipid_se, ZerosAsNA = TRUE, cutoff = 20, method = \"knn\") %>% PomaNorm(method = \"log_pareto\") %>% PomaOutliers(coef = 3)\n",
    "facid_se <- PomaImpute(facid_se, ZerosAsNA = TRUE, cutoff = 20, method = \"knn\") %>% PomaNorm(method = \"log_pareto\") %>% PomaOutliers(coef = 3)\n",
    "metab_se <- PomaImpute(metab_se, ZerosAsNA = TRUE, cutoff = 20, method = \"knn\") %>% PomaNorm(method = \"log_pareto\") %>% PomaOutliers(coef = 3)"
   ]
  },
  {
   "cell_type": "code",
   "execution_count": 33,
   "metadata": {
    "vscode": {
     "languageId": "r"
    }
   },
   "outputs": [],
   "source": [
    "lipid_se <- as.data.frame(t(assay(lipid_se))) %>% tibble::rownames_to_column(\"sample_id\")\n",
    "facid_se <- as.data.frame(t(assay(facid_se))) %>% tibble::rownames_to_column(\"sample_id\")\n",
    "metab_se <- as.data.frame(t(assay(metab_se))) %>% tibble::rownames_to_column(\"sample_id\")"
   ]
  },
  {
   "attachments": {},
   "cell_type": "markdown",
   "metadata": {},
   "source": [
    "## Integration"
   ]
  },
  {
   "cell_type": "code",
   "execution_count": 34,
   "metadata": {
    "vscode": {
     "languageId": "r"
    }
   },
   "outputs": [],
   "source": [
    "metabolomics_merged <- merge(lipid_se, facid_se, by=\"sample_id\")\n",
    "metabolomics_merged <- merge(metabolomics_merged, metab_se, by = \"sample_id\")"
   ]
  },
  {
   "cell_type": "code",
   "execution_count": 41,
   "metadata": {
    "vscode": {
     "languageId": "r"
    }
   },
   "outputs": [
    {
     "data": {
      "text/html": [
       "<table class=\"dataframe\">\n",
       "<caption>A data.frame: 57 × 303</caption>\n",
       "<thead>\n",
       "\t<tr><th scope=col>sample_id</th><th scope=col>ce_16_1</th><th scope=col>ce_18_0</th><th scope=col>ce_18_1</th><th scope=col>ce_18_2</th><th scope=col>ce_18_3</th><th scope=col>ce_20_3</th><th scope=col>ce_20_4</th><th scope=col>ce_22_6</th><th scope=col>cer_d34_1</th><th scope=col>⋯</th><th scope=col>tyrosine</th><th scope=col>uracil</th><th scope=col>uric_acid</th><th scope=col>uridine</th><th scope=col>uridine_diphosphohexose</th><th scope=col>uridine_monophosphate</th><th scope=col>valine</th><th scope=col>xanthine</th><th scope=col>xanthosine</th><th scope=col>xylitol</th></tr>\n",
       "\t<tr><th scope=col>&lt;chr&gt;</th><th scope=col>&lt;dbl&gt;</th><th scope=col>&lt;dbl&gt;</th><th scope=col>&lt;dbl&gt;</th><th scope=col>&lt;dbl&gt;</th><th scope=col>&lt;dbl&gt;</th><th scope=col>&lt;dbl&gt;</th><th scope=col>&lt;dbl&gt;</th><th scope=col>&lt;dbl&gt;</th><th scope=col>&lt;dbl&gt;</th><th scope=col>⋯</th><th scope=col>&lt;dbl&gt;</th><th scope=col>&lt;dbl&gt;</th><th scope=col>&lt;dbl&gt;</th><th scope=col>&lt;dbl&gt;</th><th scope=col>&lt;dbl&gt;</th><th scope=col>&lt;dbl&gt;</th><th scope=col>&lt;dbl&gt;</th><th scope=col>&lt;dbl&gt;</th><th scope=col>&lt;dbl&gt;</th><th scope=col>&lt;dbl&gt;</th></tr>\n",
       "</thead>\n",
       "<tbody>\n",
       "\t<tr><td>2341     </td><td> 0.762</td><td> 0.863</td><td> 0.451</td><td>-1.220</td><td> 0.016</td><td>-1.810</td><td>-0.412</td><td>-0.309</td><td> 0.012</td><td>⋯</td><td> 0.168</td><td> 0.710</td><td> 0.414</td><td> 1.061</td><td> 0.136</td><td> 0.806</td><td>-0.443</td><td> 0.149</td><td>-0.029</td><td>-0.059</td></tr>\n",
       "\t<tr><td>2344     </td><td>-0.525</td><td>-0.411</td><td> 0.036</td><td>-0.952</td><td>-0.224</td><td>-1.181</td><td>-1.596</td><td>-1.185</td><td> 0.283</td><td>⋯</td><td> 0.725</td><td> 0.285</td><td> 0.119</td><td> 0.381</td><td>-0.032</td><td> 0.199</td><td>-0.087</td><td> 0.134</td><td> 0.015</td><td> 0.068</td></tr>\n",
       "\t<tr><td>2358     </td><td>-0.555</td><td>-0.032</td><td>-0.041</td><td>-0.295</td><td>-0.331</td><td>-0.563</td><td>-1.474</td><td>-1.091</td><td> 0.262</td><td>⋯</td><td>-0.469</td><td> 0.048</td><td>-0.301</td><td> 0.493</td><td> 0.052</td><td> 0.147</td><td>-0.148</td><td> 1.343</td><td> 0.146</td><td>-0.212</td></tr>\n",
       "\t<tr><td>2360     </td><td> 0.156</td><td> 0.453</td><td>-0.095</td><td>-0.440</td><td>-0.051</td><td>-0.502</td><td>-0.936</td><td>-0.863</td><td> 0.462</td><td>⋯</td><td> 0.318</td><td>-0.150</td><td> 0.165</td><td>-0.564</td><td> 0.010</td><td> 0.094</td><td>-0.166</td><td>-0.380</td><td>-0.029</td><td>-0.010</td></tr>\n",
       "\t<tr><td>2390     </td><td> 0.243</td><td> 0.050</td><td> 0.313</td><td>-0.358</td><td>-0.304</td><td>-0.437</td><td>-0.837</td><td>-0.795</td><td> 0.164</td><td>⋯</td><td>-0.702</td><td> 0.285</td><td>-0.713</td><td>-0.061</td><td> 0.136</td><td> 0.326</td><td>-0.019</td><td> 0.299</td><td>-0.029</td><td>-0.226</td></tr>\n",
       "\t<tr><td>2427     </td><td>-0.833</td><td>-0.297</td><td>-0.550</td><td>-0.678</td><td>-0.449</td><td>-1.106</td><td>-0.485</td><td>-0.564</td><td>-0.031</td><td>⋯</td><td>-0.392</td><td> 0.075</td><td> 0.135</td><td> 0.093</td><td> 0.010</td><td> 0.199</td><td>-0.314</td><td> 0.214</td><td>-0.029</td><td>-0.334</td></tr>\n",
       "\t<tr><td>2432     </td><td>-0.169</td><td>-0.904</td><td>-0.459</td><td>-0.801</td><td>-0.286</td><td>-0.722</td><td>-0.910</td><td>-0.972</td><td> 0.152</td><td>⋯</td><td>-0.585</td><td> 0.021</td><td> 0.551</td><td>-0.110</td><td>-0.032</td><td> 0.040</td><td>-0.539</td><td> 0.139</td><td> 0.059</td><td> 0.703</td></tr>\n",
       "\t<tr><td>2486     </td><td> 0.005</td><td>-0.963</td><td>-0.395</td><td>-0.086</td><td>-0.729</td><td>-0.071</td><td>-0.104</td><td>-0.057</td><td>-0.091</td><td>⋯</td><td> 0.211</td><td>-0.064</td><td> 0.127</td><td>-0.314</td><td>-0.076</td><td> 0.067</td><td> 0.223</td><td> 0.234</td><td>-0.074</td><td>-0.096</td></tr>\n",
       "\t<tr><td>2536     </td><td>-0.289</td><td>-0.677</td><td>-0.427</td><td>-0.444</td><td>-0.843</td><td>-0.282</td><td>-0.211</td><td>-0.171</td><td>-0.012</td><td>⋯</td><td> 0.216</td><td>-0.035</td><td> 0.375</td><td>-0.004</td><td>-0.076</td><td> 0.199</td><td>-0.599</td><td> 0.308</td><td> 0.189</td><td> 0.170</td></tr>\n",
       "\t<tr><td>2578     </td><td>-0.182</td><td> 0.419</td><td>-0.346</td><td>-0.137</td><td>-0.039</td><td>-0.437</td><td>-0.493</td><td>-0.823</td><td> 0.138</td><td>⋯</td><td>-0.068</td><td> 0.335</td><td> 0.488</td><td>-0.191</td><td>-0.076</td><td>-0.071</td><td>-0.249</td><td>-0.302</td><td>-0.074</td><td>-0.472</td></tr>\n",
       "\t<tr><td>2588     </td><td>-0.226</td><td> 0.469</td><td> 0.376</td><td> 0.092</td><td>-0.387</td><td>-0.056</td><td>-0.228</td><td>-0.244</td><td> 0.042</td><td>⋯</td><td>-0.598</td><td> 0.102</td><td>-2.418</td><td> 0.510</td><td>-0.032</td><td>-0.042</td><td>-0.269</td><td> 1.294</td><td>-0.074</td><td>-0.519</td></tr>\n",
       "\t<tr><td>2621     </td><td>-0.006</td><td> 0.044</td><td> 0.231</td><td> 0.007</td><td>-0.155</td><td>-0.157</td><td>-0.267</td><td>-0.481</td><td> 0.136</td><td>⋯</td><td> 0.359</td><td>-0.035</td><td> 0.345</td><td> 0.216</td><td>-0.076</td><td>-0.071</td><td> 0.089</td><td> 0.980</td><td> 0.518</td><td> 0.348</td></tr>\n",
       "\t<tr><td>2658     </td><td>-0.763</td><td>-0.834</td><td>-0.795</td><td>-0.872</td><td>-0.609</td><td>-0.965</td><td>-1.776</td><td>-0.606</td><td> 0.051</td><td>⋯</td><td>-0.286</td><td>-0.092</td><td> 0.261</td><td>-0.123</td><td> 0.058</td><td>-0.015</td><td> 0.138</td><td> 0.149</td><td>-0.029</td><td>-0.649</td></tr>\n",
       "\t<tr><td>2675     </td><td>-0.157</td><td> 0.638</td><td> 0.269</td><td> 0.255</td><td> 0.575</td><td> 0.290</td><td>-0.189</td><td> 0.103</td><td> 0.038</td><td>⋯</td><td>-0.124</td><td>-0.092</td><td>-0.055</td><td>-0.024</td><td> 0.010</td><td> 0.121</td><td>-0.026</td><td> 0.267</td><td>-0.029</td><td> 0.022</td></tr>\n",
       "\t<tr><td>2757     </td><td>-0.073</td><td>-0.167</td><td> 0.014</td><td>-0.854</td><td>-0.895</td><td>-0.711</td><td>-0.122</td><td>-0.345</td><td> 0.055</td><td>⋯</td><td>-0.274</td><td> 0.075</td><td>-0.399</td><td>-0.139</td><td>-0.119</td><td>-0.015</td><td> 0.122</td><td> 0.001</td><td>-0.029</td><td>-0.441</td></tr>\n",
       "\t<tr><td>2799     </td><td> 0.242</td><td> 0.291</td><td>-0.472</td><td>-0.420</td><td>-0.659</td><td>-0.434</td><td>-0.880</td><td>-0.849</td><td>-0.203</td><td>⋯</td><td> 0.917</td><td>-0.064</td><td> 0.275</td><td>-0.416</td><td>-0.032</td><td>-0.015</td><td> 0.230</td><td>-0.016</td><td>-0.029</td><td> 0.032</td></tr>\n",
       "\t<tr><td>2805     </td><td>-0.565</td><td>-0.352</td><td>-0.312</td><td>-0.247</td><td>-0.870</td><td>-0.516</td><td>-0.412</td><td>-0.477</td><td>-0.095</td><td>⋯</td><td>-0.636</td><td>-0.007</td><td> 0.305</td><td>-0.064</td><td>-0.076</td><td>-0.071</td><td>-0.015</td><td>-0.229</td><td>-0.074</td><td>-0.332</td></tr>\n",
       "\t<tr><td>2841     </td><td> 0.573</td><td> 0.838</td><td> 0.270</td><td> 0.003</td><td> 0.167</td><td> 0.232</td><td> 0.283</td><td>-0.078</td><td> 0.139</td><td>⋯</td><td> 0.356</td><td>-0.121</td><td> 0.269</td><td> 0.075</td><td>-0.119</td><td>-0.099</td><td> 0.000</td><td>-0.022</td><td>-0.029</td><td>-0.079</td></tr>\n",
       "\t<tr><td>2889     </td><td> 1.262</td><td>-0.017</td><td>-0.099</td><td>-1.074</td><td>-0.315</td><td>-0.793</td><td>-1.162</td><td>-0.289</td><td>-0.200</td><td>⋯</td><td> 0.478</td><td> 0.156</td><td> 0.134</td><td> 0.958</td><td>-0.119</td><td>-0.042</td><td>-0.599</td><td> 0.013</td><td> 0.103</td><td> 2.084</td></tr>\n",
       "\t<tr><td>2895     </td><td> 0.029</td><td> 0.253</td><td> 0.309</td><td> 0.081</td><td> 0.250</td><td> 0.022</td><td>-0.102</td><td>-0.170</td><td>-0.115</td><td>⋯</td><td> 0.300</td><td>-0.121</td><td>-0.021</td><td> 0.392</td><td>-0.076</td><td>-0.042</td><td> 0.256</td><td> 0.075</td><td>-0.029</td><td> 0.007</td></tr>\n",
       "\t<tr><td>2915     </td><td> 0.409</td><td> 0.399</td><td> 0.291</td><td>-0.016</td><td> 0.225</td><td> 0.290</td><td> 0.025</td><td>-0.006</td><td>-0.123</td><td>⋯</td><td> 0.631</td><td>-0.150</td><td> 0.129</td><td> 0.350</td><td>-0.076</td><td>-0.127</td><td> 0.199</td><td> 0.344</td><td> 0.103</td><td>-0.214</td></tr>\n",
       "\t<tr><td>2956     </td><td>-0.521</td><td> 0.231</td><td>-0.001</td><td> 0.125</td><td>-0.654</td><td>-0.117</td><td>-0.054</td><td>-0.066</td><td> 0.138</td><td>⋯</td><td> 0.340</td><td> 0.021</td><td>-0.401</td><td> 0.257</td><td> 0.094</td><td> 0.013</td><td> 0.536</td><td> 0.584</td><td> 0.015</td><td>-0.226</td></tr>\n",
       "\t<tr><td>2978     </td><td>-0.426</td><td>-0.114</td><td>-0.592</td><td>-0.212</td><td>-0.462</td><td>-0.258</td><td>-0.020</td><td>-0.358</td><td>-0.096</td><td>⋯</td><td> 0.410</td><td> 0.021</td><td> 0.210</td><td>-0.473</td><td> 0.052</td><td> 0.094</td><td> 0.173</td><td>-0.244</td><td>-0.029</td><td> 0.438</td></tr>\n",
       "\t<tr><td>2985     </td><td>-0.081</td><td> 0.058</td><td>-0.006</td><td>-0.078</td><td>-0.505</td><td>-0.538</td><td>-0.612</td><td>-0.734</td><td> 0.229</td><td>⋯</td><td>-0.554</td><td> 0.048</td><td> 0.347</td><td>-0.147</td><td>-0.119</td><td>-0.071</td><td>-0.497</td><td> 0.013</td><td>-0.029</td><td> 0.241</td></tr>\n",
       "\t<tr><td>3058     </td><td>-0.531</td><td> 0.000</td><td>-0.401</td><td>-0.281</td><td> 0.069</td><td>-0.146</td><td> 0.139</td><td>-0.080</td><td> 0.022</td><td>⋯</td><td>-0.347</td><td> 0.182</td><td> 0.424</td><td> 0.011</td><td>-0.119</td><td>-0.099</td><td> 0.480</td><td>-0.251</td><td> 0.146</td><td> 0.607</td></tr>\n",
       "\t<tr><td>3116     </td><td>-0.368</td><td>-0.121</td><td>-0.163</td><td>-0.042</td><td>-0.155</td><td> 0.090</td><td>-0.011</td><td>-0.057</td><td>-0.098</td><td>⋯</td><td>-0.493</td><td>-0.035</td><td> 0.330</td><td>-0.324</td><td>-0.076</td><td>-0.099</td><td>-0.438</td><td>-0.040</td><td> 0.059</td><td>-0.126</td></tr>\n",
       "\t<tr><td>3220     </td><td> 0.131</td><td>-0.037</td><td>-0.026</td><td> 0.056</td><td>-0.039</td><td> 0.125</td><td> 0.191</td><td> 0.011</td><td> 0.014</td><td>⋯</td><td>-0.390</td><td>-0.121</td><td> 0.123</td><td>-0.327</td><td>-0.076</td><td>-0.071</td><td> 0.002</td><td>-0.010</td><td>-0.029</td><td>-0.021</td></tr>\n",
       "\t<tr><td>3251     </td><td>-0.201</td><td>-0.001</td><td> 0.017</td><td> 0.162</td><td> 0.054</td><td> 0.040</td><td> 0.252</td><td> 0.230</td><td> 0.122</td><td>⋯</td><td> 0.149</td><td> 0.075</td><td>-0.185</td><td>-0.104</td><td>-0.076</td><td>-0.071</td><td> 0.087</td><td> 0.118</td><td> 0.103</td><td>-0.041</td></tr>\n",
       "\t<tr><td>3272     </td><td> 0.854</td><td> 0.595</td><td> 0.245</td><td> 0.013</td><td>-0.145</td><td> 0.208</td><td> 0.051</td><td> 0.058</td><td>-0.079</td><td>⋯</td><td> 0.218</td><td>-0.150</td><td> 0.051</td><td>-0.436</td><td>-0.076</td><td>-0.099</td><td>-0.564</td><td>-0.215</td><td>-0.029</td><td> 0.286</td></tr>\n",
       "\t<tr><td>3295     </td><td> 1.297</td><td>-0.703</td><td> 0.018</td><td>-0.459</td><td>-0.173</td><td>-0.192</td><td>-0.302</td><td>-0.493</td><td> 0.105</td><td>⋯</td><td> 0.184</td><td>-0.035</td><td> 0.213</td><td>-0.309</td><td> 0.218</td><td>-0.071</td><td> 0.097</td><td>-0.096</td><td> 0.015</td><td> 0.602</td></tr>\n",
       "\t<tr><td>3310     </td><td>-0.541</td><td>-0.417</td><td>-0.293</td><td>-0.203</td><td>-0.463</td><td>-0.120</td><td> 0.253</td><td> 0.251</td><td> 0.000</td><td>⋯</td><td>-0.320</td><td>-0.150</td><td>-0.121</td><td>-0.548</td><td> 0.073</td><td>-0.127</td><td>-0.810</td><td>-0.244</td><td>-0.029</td><td>-0.638</td></tr>\n",
       "\t<tr><td>3364     </td><td>-0.368</td><td>-0.024</td><td>-0.098</td><td> 0.095</td><td> 0.278</td><td> 0.123</td><td> 0.181</td><td>-0.362</td><td> 0.107</td><td>⋯</td><td> 0.009</td><td>-0.092</td><td> 0.004</td><td>-0.077</td><td>-0.076</td><td>-0.071</td><td>-0.383</td><td>-0.058</td><td>-0.029</td><td> 0.193</td></tr>\n",
       "\t<tr><td>3446     </td><td>-0.310</td><td>-0.069</td><td> 0.198</td><td> 0.035</td><td> 0.037</td><td> 0.093</td><td> 0.198</td><td> 0.145</td><td> 0.311</td><td>⋯</td><td>-0.104</td><td>-0.150</td><td>-0.213</td><td>-0.858</td><td>-0.032</td><td>-0.042</td><td>-0.105</td><td>-0.265</td><td> 0.015</td><td> 0.706</td></tr>\n",
       "\t<tr><td>3516     </td><td>-0.550</td><td>-0.655</td><td>-0.377</td><td> 0.221</td><td>-0.230</td><td>-0.013</td><td> 0.032</td><td>-0.240</td><td>-0.094</td><td>⋯</td><td>-0.246</td><td> 0.021</td><td>-0.235</td><td>-0.456</td><td>-0.032</td><td>-0.127</td><td>-0.211</td><td>-0.302</td><td>-0.074</td><td>-0.401</td></tr>\n",
       "\t<tr><td>3531     </td><td>-0.252</td><td>-0.212</td><td>-0.080</td><td> 0.215</td><td> 0.066</td><td> 0.165</td><td> 0.079</td><td> 0.273</td><td>-0.071</td><td>⋯</td><td>-0.305</td><td>-0.121</td><td>-0.181</td><td>-0.438</td><td>-0.076</td><td>-0.071</td><td>-0.276</td><td>-0.108</td><td>-0.074</td><td>-0.472</td></tr>\n",
       "\t<tr><td>CON1     </td><td>-0.458</td><td> 0.315</td><td>-0.239</td><td> 0.143</td><td>-0.663</td><td> 0.041</td><td> 0.245</td><td> 0.014</td><td> 0.286</td><td>⋯</td><td>-0.090</td><td>-0.007</td><td>-0.426</td><td> 0.351</td><td>-0.076</td><td>-0.116</td><td> 0.034</td><td>-0.380</td><td>-0.074</td><td>-0.558</td></tr>\n",
       "\t<tr><td>CON11    </td><td>-0.604</td><td>-1.040</td><td>-0.526</td><td> 0.136</td><td> 0.093</td><td> 0.188</td><td> 0.534</td><td> 0.285</td><td>-0.262</td><td>⋯</td><td> 0.164</td><td>-0.035</td><td>-0.208</td><td>-0.110</td><td> 0.010</td><td>-0.071</td><td>-0.055</td><td>-0.317</td><td>-0.074</td><td>-0.516</td></tr>\n",
       "\t<tr><td>CON12    </td><td> 0.235</td><td> 0.040</td><td> 0.291</td><td> 0.477</td><td> 0.596</td><td> 0.613</td><td> 0.496</td><td> 0.767</td><td>-0.120</td><td>⋯</td><td>-0.104</td><td>-0.092</td><td> 0.366</td><td> 0.719</td><td> 0.052</td><td> 0.094</td><td> 0.376</td><td> 0.001</td><td> 0.015</td><td>-0.137</td></tr>\n",
       "\t<tr><td>CON17    </td><td> 0.071</td><td> 0.017</td><td> 0.288</td><td> 0.770</td><td> 1.041</td><td> 0.805</td><td> 0.956</td><td> 0.915</td><td>-0.178</td><td>⋯</td><td> 0.162</td><td> 0.021</td><td>-0.002</td><td> 0.789</td><td>-0.032</td><td>-0.071</td><td> 0.439</td><td>-0.396</td><td>-0.074</td><td>-0.300</td></tr>\n",
       "\t<tr><td>CON18    </td><td> 0.132</td><td> 0.390</td><td> 0.290</td><td> 0.843</td><td> 0.763</td><td> 0.933</td><td> 1.042</td><td> 1.327</td><td>-0.124</td><td>⋯</td><td> 0.060</td><td>-0.092</td><td> 0.448</td><td>-0.071</td><td> 0.094</td><td> 0.040</td><td> 0.392</td><td>-0.543</td><td>-0.074</td><td> 0.064</td></tr>\n",
       "\t<tr><td>CON19    </td><td>-0.066</td><td>-0.114</td><td> 0.365</td><td> 0.555</td><td> 0.184</td><td> 0.394</td><td> 0.368</td><td> 0.684</td><td>-0.010</td><td>⋯</td><td> 0.038</td><td>-0.121</td><td> 0.040</td><td>-0.131</td><td> 0.010</td><td>-0.015</td><td>-0.027</td><td>-0.348</td><td>-0.074</td><td>-0.055</td></tr>\n",
       "\t<tr><td>CON2     </td><td> 0.204</td><td> 0.117</td><td> 0.179</td><td> 0.534</td><td> 0.768</td><td> 0.653</td><td> 0.745</td><td> 1.010</td><td>-0.220</td><td>⋯</td><td>-0.469</td><td>-0.035</td><td>-0.106</td><td> 0.110</td><td> 0.177</td><td>-0.071</td><td>-0.172</td><td>-0.251</td><td>-0.029</td><td> 0.005</td></tr>\n",
       "\t<tr><td>CON20    </td><td> 0.573</td><td> 0.097</td><td> 0.377</td><td> 0.448</td><td> 1.139</td><td> 0.611</td><td> 0.788</td><td> 0.551</td><td>-0.327</td><td>⋯</td><td> 0.132</td><td> 0.048</td><td>-0.176</td><td> 0.144</td><td> 0.094</td><td> 0.013</td><td>-0.152</td><td>-0.412</td><td>-0.074</td><td> 0.106</td></tr>\n",
       "\t<tr><td>CON21    </td><td>-0.434</td><td>-0.173</td><td>-0.015</td><td> 0.214</td><td> 0.595</td><td> 0.190</td><td> 0.459</td><td> 0.575</td><td>-0.128</td><td>⋯</td><td>-0.344</td><td> 0.021</td><td> 0.255</td><td> 0.101</td><td> 0.416</td><td> 0.067</td><td> 0.567</td><td>-0.429</td><td> 0.210</td><td>-0.191</td></tr>\n",
       "\t<tr><td>CON22    </td><td> 0.613</td><td> 0.480</td><td> 0.446</td><td> 0.888</td><td> 0.772</td><td> 1.164</td><td> 1.230</td><td> 1.245</td><td> 0.024</td><td>⋯</td><td>-0.157</td><td> 0.021</td><td> 0.259</td><td> 0.056</td><td> 0.010</td><td>-0.042</td><td> 0.450</td><td>-0.201</td><td>-0.029</td><td> 0.721</td></tr>\n",
       "\t<tr><td>CON23    </td><td> 0.010</td><td>-0.657</td><td>-0.132</td><td> 0.282</td><td> 0.299</td><td> 0.420</td><td> 0.368</td><td> 0.457</td><td>-0.244</td><td>⋯</td><td> 0.620</td><td> 0.048</td><td> 0.004</td><td>-0.165</td><td>-0.032</td><td>-0.071</td><td> 0.427</td><td>-0.040</td><td>-0.029</td><td> 0.363</td></tr>\n",
       "\t<tr><td>CON24    </td><td> 0.441</td><td> 0.814</td><td> 0.509</td><td> 0.867</td><td> 0.756</td><td> 1.120</td><td> 1.172</td><td> 0.988</td><td> 0.192</td><td>⋯</td><td> 0.576</td><td>-0.007</td><td> 0.267</td><td> 0.082</td><td> 0.094</td><td>-0.015</td><td> 0.478</td><td>-0.034</td><td> 0.015</td><td> 0.048</td></tr>\n",
       "\t<tr><td>CON25    </td><td> 0.194</td><td>-0.052</td><td> 0.166</td><td> 0.539</td><td> 0.552</td><td> 0.546</td><td> 0.880</td><td> 1.123</td><td>-0.181</td><td>⋯</td><td> 0.076</td><td> 0.048</td><td>-0.168</td><td>-0.690</td><td>-0.032</td><td>-0.042</td><td> 0.204</td><td>-0.273</td><td>-0.074</td><td>-0.305</td></tr>\n",
       "\t<tr><td>CON26    </td><td> 0.266</td><td> 0.485</td><td> 0.462</td><td> 0.518</td><td> 0.496</td><td> 0.555</td><td> 0.465</td><td> 0.477</td><td>-0.091</td><td>⋯</td><td>-0.091</td><td>-0.035</td><td> 0.041</td><td> 0.590</td><td> 0.010</td><td> 0.013</td><td> 0.238</td><td>-0.065</td><td>-0.029</td><td> 0.138</td></tr>\n",
       "\t<tr><td>CON3     </td><td>-0.036</td><td>-0.365</td><td> 0.224</td><td> 0.368</td><td> 0.383</td><td> 0.451</td><td> 0.681</td><td> 0.936</td><td>-0.253</td><td>⋯</td><td>-0.128</td><td>-0.064</td><td>-0.228</td><td>-0.091</td><td> 0.052</td><td>-0.127</td><td>-0.019</td><td>-0.141</td><td>-0.029</td><td>-0.384</td></tr>\n",
       "\t<tr><td>CON4     </td><td>-0.269</td><td> 0.146</td><td>-0.215</td><td> 0.100</td><td>-0.356</td><td> 0.216</td><td> 0.576</td><td> 0.499</td><td>-0.101</td><td>⋯</td><td> 0.176</td><td> 0.075</td><td>-0.019</td><td> 0.820</td><td>-0.076</td><td>-0.042</td><td> 0.255</td><td>-0.046</td><td> 0.059</td><td>-0.084</td></tr>\n",
       "\t<tr><td>CON5     </td><td>-0.347</td><td>-0.095</td><td>-0.069</td><td> 0.148</td><td>-0.322</td><td> 0.033</td><td> 0.431</td><td> 0.241</td><td>-0.226</td><td>⋯</td><td>-0.080</td><td>-0.064</td><td>-0.102</td><td>-0.106</td><td> 0.010</td><td>-0.071</td><td> 0.183</td><td>-0.251</td><td>-0.074</td><td> 0.080</td></tr>\n",
       "\t<tr><td>CON6     </td><td> 1.173</td><td> 0.372</td><td> 0.815</td><td> 1.057</td><td> 1.376</td><td> 1.111</td><td> 1.053</td><td> 1.467</td><td>-0.042</td><td>⋯</td><td> 0.194</td><td> 0.021</td><td>-0.147</td><td>-0.343</td><td> 0.010</td><td>-0.071</td><td> 0.346</td><td>-0.244</td><td>-0.029</td><td> 0.096</td></tr>\n",
       "\t<tr><td>CON7     </td><td>-0.262</td><td>-0.031</td><td> 0.058</td><td> 0.328</td><td> 0.234</td><td> 0.603</td><td> 0.611</td><td> 0.638</td><td>-0.285</td><td>⋯</td><td>-0.224</td><td>-0.007</td><td> 0.176</td><td>-0.143</td><td> 0.136</td><td> 0.067</td><td> 0.324</td><td>-0.102</td><td>-0.029</td><td>-0.280</td></tr>\n",
       "\t<tr><td>CON8     </td><td>-0.442</td><td>-0.458</td><td> 0.082</td><td> 0.238</td><td> 0.082</td><td> 0.275</td><td> 0.411</td><td> 0.650</td><td>-0.167</td><td>⋯</td><td>-0.014</td><td>-0.150</td><td> 0.094</td><td> 0.874</td><td> 0.052</td><td>-0.042</td><td> 0.452</td><td>-0.108</td><td>-0.029</td><td>-0.159</td></tr>\n",
       "\t<tr><td>VALID-104</td><td> 0.018</td><td>-0.176</td><td>-0.070</td><td>-0.156</td><td>-0.112</td><td> 0.110</td><td> 0.025</td><td>-0.391</td><td> 0.066</td><td>⋯</td><td>-0.057</td><td>-0.092</td><td> 0.111</td><td> 0.185</td><td> 0.010</td><td> 0.121</td><td>-0.053</td><td> 0.399</td><td>-0.029</td><td>-0.195</td></tr>\n",
       "\t<tr><td>VALID-172</td><td>-0.106</td><td> 0.767</td><td> 0.061</td><td> 0.148</td><td> 0.200</td><td> 0.090</td><td>-0.127</td><td>-0.545</td><td> 0.222</td><td>⋯</td><td> 0.706</td><td>-0.092</td><td>-0.291</td><td>-0.548</td><td>-0.076</td><td>-0.042</td><td> 0.296</td><td>-0.034</td><td>-0.029</td><td>-0.197</td></tr>\n",
       "</tbody>\n",
       "</table>\n"
      ],
      "text/latex": [
       "A data.frame: 57 × 303\n",
       "\\begin{tabular}{lllllllllllllllllllll}\n",
       " sample\\_id & ce\\_16\\_1 & ce\\_18\\_0 & ce\\_18\\_1 & ce\\_18\\_2 & ce\\_18\\_3 & ce\\_20\\_3 & ce\\_20\\_4 & ce\\_22\\_6 & cer\\_d34\\_1 & ⋯ & tyrosine & uracil & uric\\_acid & uridine & uridine\\_diphosphohexose & uridine\\_monophosphate & valine & xanthine & xanthosine & xylitol\\\\\n",
       " <chr> & <dbl> & <dbl> & <dbl> & <dbl> & <dbl> & <dbl> & <dbl> & <dbl> & <dbl> & ⋯ & <dbl> & <dbl> & <dbl> & <dbl> & <dbl> & <dbl> & <dbl> & <dbl> & <dbl> & <dbl>\\\\\n",
       "\\hline\n",
       "\t 2341      &  0.762 &  0.863 &  0.451 & -1.220 &  0.016 & -1.810 & -0.412 & -0.309 &  0.012 & ⋯ &  0.168 &  0.710 &  0.414 &  1.061 &  0.136 &  0.806 & -0.443 &  0.149 & -0.029 & -0.059\\\\\n",
       "\t 2344      & -0.525 & -0.411 &  0.036 & -0.952 & -0.224 & -1.181 & -1.596 & -1.185 &  0.283 & ⋯ &  0.725 &  0.285 &  0.119 &  0.381 & -0.032 &  0.199 & -0.087 &  0.134 &  0.015 &  0.068\\\\\n",
       "\t 2358      & -0.555 & -0.032 & -0.041 & -0.295 & -0.331 & -0.563 & -1.474 & -1.091 &  0.262 & ⋯ & -0.469 &  0.048 & -0.301 &  0.493 &  0.052 &  0.147 & -0.148 &  1.343 &  0.146 & -0.212\\\\\n",
       "\t 2360      &  0.156 &  0.453 & -0.095 & -0.440 & -0.051 & -0.502 & -0.936 & -0.863 &  0.462 & ⋯ &  0.318 & -0.150 &  0.165 & -0.564 &  0.010 &  0.094 & -0.166 & -0.380 & -0.029 & -0.010\\\\\n",
       "\t 2390      &  0.243 &  0.050 &  0.313 & -0.358 & -0.304 & -0.437 & -0.837 & -0.795 &  0.164 & ⋯ & -0.702 &  0.285 & -0.713 & -0.061 &  0.136 &  0.326 & -0.019 &  0.299 & -0.029 & -0.226\\\\\n",
       "\t 2427      & -0.833 & -0.297 & -0.550 & -0.678 & -0.449 & -1.106 & -0.485 & -0.564 & -0.031 & ⋯ & -0.392 &  0.075 &  0.135 &  0.093 &  0.010 &  0.199 & -0.314 &  0.214 & -0.029 & -0.334\\\\\n",
       "\t 2432      & -0.169 & -0.904 & -0.459 & -0.801 & -0.286 & -0.722 & -0.910 & -0.972 &  0.152 & ⋯ & -0.585 &  0.021 &  0.551 & -0.110 & -0.032 &  0.040 & -0.539 &  0.139 &  0.059 &  0.703\\\\\n",
       "\t 2486      &  0.005 & -0.963 & -0.395 & -0.086 & -0.729 & -0.071 & -0.104 & -0.057 & -0.091 & ⋯ &  0.211 & -0.064 &  0.127 & -0.314 & -0.076 &  0.067 &  0.223 &  0.234 & -0.074 & -0.096\\\\\n",
       "\t 2536      & -0.289 & -0.677 & -0.427 & -0.444 & -0.843 & -0.282 & -0.211 & -0.171 & -0.012 & ⋯ &  0.216 & -0.035 &  0.375 & -0.004 & -0.076 &  0.199 & -0.599 &  0.308 &  0.189 &  0.170\\\\\n",
       "\t 2578      & -0.182 &  0.419 & -0.346 & -0.137 & -0.039 & -0.437 & -0.493 & -0.823 &  0.138 & ⋯ & -0.068 &  0.335 &  0.488 & -0.191 & -0.076 & -0.071 & -0.249 & -0.302 & -0.074 & -0.472\\\\\n",
       "\t 2588      & -0.226 &  0.469 &  0.376 &  0.092 & -0.387 & -0.056 & -0.228 & -0.244 &  0.042 & ⋯ & -0.598 &  0.102 & -2.418 &  0.510 & -0.032 & -0.042 & -0.269 &  1.294 & -0.074 & -0.519\\\\\n",
       "\t 2621      & -0.006 &  0.044 &  0.231 &  0.007 & -0.155 & -0.157 & -0.267 & -0.481 &  0.136 & ⋯ &  0.359 & -0.035 &  0.345 &  0.216 & -0.076 & -0.071 &  0.089 &  0.980 &  0.518 &  0.348\\\\\n",
       "\t 2658      & -0.763 & -0.834 & -0.795 & -0.872 & -0.609 & -0.965 & -1.776 & -0.606 &  0.051 & ⋯ & -0.286 & -0.092 &  0.261 & -0.123 &  0.058 & -0.015 &  0.138 &  0.149 & -0.029 & -0.649\\\\\n",
       "\t 2675      & -0.157 &  0.638 &  0.269 &  0.255 &  0.575 &  0.290 & -0.189 &  0.103 &  0.038 & ⋯ & -0.124 & -0.092 & -0.055 & -0.024 &  0.010 &  0.121 & -0.026 &  0.267 & -0.029 &  0.022\\\\\n",
       "\t 2757      & -0.073 & -0.167 &  0.014 & -0.854 & -0.895 & -0.711 & -0.122 & -0.345 &  0.055 & ⋯ & -0.274 &  0.075 & -0.399 & -0.139 & -0.119 & -0.015 &  0.122 &  0.001 & -0.029 & -0.441\\\\\n",
       "\t 2799      &  0.242 &  0.291 & -0.472 & -0.420 & -0.659 & -0.434 & -0.880 & -0.849 & -0.203 & ⋯ &  0.917 & -0.064 &  0.275 & -0.416 & -0.032 & -0.015 &  0.230 & -0.016 & -0.029 &  0.032\\\\\n",
       "\t 2805      & -0.565 & -0.352 & -0.312 & -0.247 & -0.870 & -0.516 & -0.412 & -0.477 & -0.095 & ⋯ & -0.636 & -0.007 &  0.305 & -0.064 & -0.076 & -0.071 & -0.015 & -0.229 & -0.074 & -0.332\\\\\n",
       "\t 2841      &  0.573 &  0.838 &  0.270 &  0.003 &  0.167 &  0.232 &  0.283 & -0.078 &  0.139 & ⋯ &  0.356 & -0.121 &  0.269 &  0.075 & -0.119 & -0.099 &  0.000 & -0.022 & -0.029 & -0.079\\\\\n",
       "\t 2889      &  1.262 & -0.017 & -0.099 & -1.074 & -0.315 & -0.793 & -1.162 & -0.289 & -0.200 & ⋯ &  0.478 &  0.156 &  0.134 &  0.958 & -0.119 & -0.042 & -0.599 &  0.013 &  0.103 &  2.084\\\\\n",
       "\t 2895      &  0.029 &  0.253 &  0.309 &  0.081 &  0.250 &  0.022 & -0.102 & -0.170 & -0.115 & ⋯ &  0.300 & -0.121 & -0.021 &  0.392 & -0.076 & -0.042 &  0.256 &  0.075 & -0.029 &  0.007\\\\\n",
       "\t 2915      &  0.409 &  0.399 &  0.291 & -0.016 &  0.225 &  0.290 &  0.025 & -0.006 & -0.123 & ⋯ &  0.631 & -0.150 &  0.129 &  0.350 & -0.076 & -0.127 &  0.199 &  0.344 &  0.103 & -0.214\\\\\n",
       "\t 2956      & -0.521 &  0.231 & -0.001 &  0.125 & -0.654 & -0.117 & -0.054 & -0.066 &  0.138 & ⋯ &  0.340 &  0.021 & -0.401 &  0.257 &  0.094 &  0.013 &  0.536 &  0.584 &  0.015 & -0.226\\\\\n",
       "\t 2978      & -0.426 & -0.114 & -0.592 & -0.212 & -0.462 & -0.258 & -0.020 & -0.358 & -0.096 & ⋯ &  0.410 &  0.021 &  0.210 & -0.473 &  0.052 &  0.094 &  0.173 & -0.244 & -0.029 &  0.438\\\\\n",
       "\t 2985      & -0.081 &  0.058 & -0.006 & -0.078 & -0.505 & -0.538 & -0.612 & -0.734 &  0.229 & ⋯ & -0.554 &  0.048 &  0.347 & -0.147 & -0.119 & -0.071 & -0.497 &  0.013 & -0.029 &  0.241\\\\\n",
       "\t 3058      & -0.531 &  0.000 & -0.401 & -0.281 &  0.069 & -0.146 &  0.139 & -0.080 &  0.022 & ⋯ & -0.347 &  0.182 &  0.424 &  0.011 & -0.119 & -0.099 &  0.480 & -0.251 &  0.146 &  0.607\\\\\n",
       "\t 3116      & -0.368 & -0.121 & -0.163 & -0.042 & -0.155 &  0.090 & -0.011 & -0.057 & -0.098 & ⋯ & -0.493 & -0.035 &  0.330 & -0.324 & -0.076 & -0.099 & -0.438 & -0.040 &  0.059 & -0.126\\\\\n",
       "\t 3220      &  0.131 & -0.037 & -0.026 &  0.056 & -0.039 &  0.125 &  0.191 &  0.011 &  0.014 & ⋯ & -0.390 & -0.121 &  0.123 & -0.327 & -0.076 & -0.071 &  0.002 & -0.010 & -0.029 & -0.021\\\\\n",
       "\t 3251      & -0.201 & -0.001 &  0.017 &  0.162 &  0.054 &  0.040 &  0.252 &  0.230 &  0.122 & ⋯ &  0.149 &  0.075 & -0.185 & -0.104 & -0.076 & -0.071 &  0.087 &  0.118 &  0.103 & -0.041\\\\\n",
       "\t 3272      &  0.854 &  0.595 &  0.245 &  0.013 & -0.145 &  0.208 &  0.051 &  0.058 & -0.079 & ⋯ &  0.218 & -0.150 &  0.051 & -0.436 & -0.076 & -0.099 & -0.564 & -0.215 & -0.029 &  0.286\\\\\n",
       "\t 3295      &  1.297 & -0.703 &  0.018 & -0.459 & -0.173 & -0.192 & -0.302 & -0.493 &  0.105 & ⋯ &  0.184 & -0.035 &  0.213 & -0.309 &  0.218 & -0.071 &  0.097 & -0.096 &  0.015 &  0.602\\\\\n",
       "\t 3310      & -0.541 & -0.417 & -0.293 & -0.203 & -0.463 & -0.120 &  0.253 &  0.251 &  0.000 & ⋯ & -0.320 & -0.150 & -0.121 & -0.548 &  0.073 & -0.127 & -0.810 & -0.244 & -0.029 & -0.638\\\\\n",
       "\t 3364      & -0.368 & -0.024 & -0.098 &  0.095 &  0.278 &  0.123 &  0.181 & -0.362 &  0.107 & ⋯ &  0.009 & -0.092 &  0.004 & -0.077 & -0.076 & -0.071 & -0.383 & -0.058 & -0.029 &  0.193\\\\\n",
       "\t 3446      & -0.310 & -0.069 &  0.198 &  0.035 &  0.037 &  0.093 &  0.198 &  0.145 &  0.311 & ⋯ & -0.104 & -0.150 & -0.213 & -0.858 & -0.032 & -0.042 & -0.105 & -0.265 &  0.015 &  0.706\\\\\n",
       "\t 3516      & -0.550 & -0.655 & -0.377 &  0.221 & -0.230 & -0.013 &  0.032 & -0.240 & -0.094 & ⋯ & -0.246 &  0.021 & -0.235 & -0.456 & -0.032 & -0.127 & -0.211 & -0.302 & -0.074 & -0.401\\\\\n",
       "\t 3531      & -0.252 & -0.212 & -0.080 &  0.215 &  0.066 &  0.165 &  0.079 &  0.273 & -0.071 & ⋯ & -0.305 & -0.121 & -0.181 & -0.438 & -0.076 & -0.071 & -0.276 & -0.108 & -0.074 & -0.472\\\\\n",
       "\t CON1      & -0.458 &  0.315 & -0.239 &  0.143 & -0.663 &  0.041 &  0.245 &  0.014 &  0.286 & ⋯ & -0.090 & -0.007 & -0.426 &  0.351 & -0.076 & -0.116 &  0.034 & -0.380 & -0.074 & -0.558\\\\\n",
       "\t CON11     & -0.604 & -1.040 & -0.526 &  0.136 &  0.093 &  0.188 &  0.534 &  0.285 & -0.262 & ⋯ &  0.164 & -0.035 & -0.208 & -0.110 &  0.010 & -0.071 & -0.055 & -0.317 & -0.074 & -0.516\\\\\n",
       "\t CON12     &  0.235 &  0.040 &  0.291 &  0.477 &  0.596 &  0.613 &  0.496 &  0.767 & -0.120 & ⋯ & -0.104 & -0.092 &  0.366 &  0.719 &  0.052 &  0.094 &  0.376 &  0.001 &  0.015 & -0.137\\\\\n",
       "\t CON17     &  0.071 &  0.017 &  0.288 &  0.770 &  1.041 &  0.805 &  0.956 &  0.915 & -0.178 & ⋯ &  0.162 &  0.021 & -0.002 &  0.789 & -0.032 & -0.071 &  0.439 & -0.396 & -0.074 & -0.300\\\\\n",
       "\t CON18     &  0.132 &  0.390 &  0.290 &  0.843 &  0.763 &  0.933 &  1.042 &  1.327 & -0.124 & ⋯ &  0.060 & -0.092 &  0.448 & -0.071 &  0.094 &  0.040 &  0.392 & -0.543 & -0.074 &  0.064\\\\\n",
       "\t CON19     & -0.066 & -0.114 &  0.365 &  0.555 &  0.184 &  0.394 &  0.368 &  0.684 & -0.010 & ⋯ &  0.038 & -0.121 &  0.040 & -0.131 &  0.010 & -0.015 & -0.027 & -0.348 & -0.074 & -0.055\\\\\n",
       "\t CON2      &  0.204 &  0.117 &  0.179 &  0.534 &  0.768 &  0.653 &  0.745 &  1.010 & -0.220 & ⋯ & -0.469 & -0.035 & -0.106 &  0.110 &  0.177 & -0.071 & -0.172 & -0.251 & -0.029 &  0.005\\\\\n",
       "\t CON20     &  0.573 &  0.097 &  0.377 &  0.448 &  1.139 &  0.611 &  0.788 &  0.551 & -0.327 & ⋯ &  0.132 &  0.048 & -0.176 &  0.144 &  0.094 &  0.013 & -0.152 & -0.412 & -0.074 &  0.106\\\\\n",
       "\t CON21     & -0.434 & -0.173 & -0.015 &  0.214 &  0.595 &  0.190 &  0.459 &  0.575 & -0.128 & ⋯ & -0.344 &  0.021 &  0.255 &  0.101 &  0.416 &  0.067 &  0.567 & -0.429 &  0.210 & -0.191\\\\\n",
       "\t CON22     &  0.613 &  0.480 &  0.446 &  0.888 &  0.772 &  1.164 &  1.230 &  1.245 &  0.024 & ⋯ & -0.157 &  0.021 &  0.259 &  0.056 &  0.010 & -0.042 &  0.450 & -0.201 & -0.029 &  0.721\\\\\n",
       "\t CON23     &  0.010 & -0.657 & -0.132 &  0.282 &  0.299 &  0.420 &  0.368 &  0.457 & -0.244 & ⋯ &  0.620 &  0.048 &  0.004 & -0.165 & -0.032 & -0.071 &  0.427 & -0.040 & -0.029 &  0.363\\\\\n",
       "\t CON24     &  0.441 &  0.814 &  0.509 &  0.867 &  0.756 &  1.120 &  1.172 &  0.988 &  0.192 & ⋯ &  0.576 & -0.007 &  0.267 &  0.082 &  0.094 & -0.015 &  0.478 & -0.034 &  0.015 &  0.048\\\\\n",
       "\t CON25     &  0.194 & -0.052 &  0.166 &  0.539 &  0.552 &  0.546 &  0.880 &  1.123 & -0.181 & ⋯ &  0.076 &  0.048 & -0.168 & -0.690 & -0.032 & -0.042 &  0.204 & -0.273 & -0.074 & -0.305\\\\\n",
       "\t CON26     &  0.266 &  0.485 &  0.462 &  0.518 &  0.496 &  0.555 &  0.465 &  0.477 & -0.091 & ⋯ & -0.091 & -0.035 &  0.041 &  0.590 &  0.010 &  0.013 &  0.238 & -0.065 & -0.029 &  0.138\\\\\n",
       "\t CON3      & -0.036 & -0.365 &  0.224 &  0.368 &  0.383 &  0.451 &  0.681 &  0.936 & -0.253 & ⋯ & -0.128 & -0.064 & -0.228 & -0.091 &  0.052 & -0.127 & -0.019 & -0.141 & -0.029 & -0.384\\\\\n",
       "\t CON4      & -0.269 &  0.146 & -0.215 &  0.100 & -0.356 &  0.216 &  0.576 &  0.499 & -0.101 & ⋯ &  0.176 &  0.075 & -0.019 &  0.820 & -0.076 & -0.042 &  0.255 & -0.046 &  0.059 & -0.084\\\\\n",
       "\t CON5      & -0.347 & -0.095 & -0.069 &  0.148 & -0.322 &  0.033 &  0.431 &  0.241 & -0.226 & ⋯ & -0.080 & -0.064 & -0.102 & -0.106 &  0.010 & -0.071 &  0.183 & -0.251 & -0.074 &  0.080\\\\\n",
       "\t CON6      &  1.173 &  0.372 &  0.815 &  1.057 &  1.376 &  1.111 &  1.053 &  1.467 & -0.042 & ⋯ &  0.194 &  0.021 & -0.147 & -0.343 &  0.010 & -0.071 &  0.346 & -0.244 & -0.029 &  0.096\\\\\n",
       "\t CON7      & -0.262 & -0.031 &  0.058 &  0.328 &  0.234 &  0.603 &  0.611 &  0.638 & -0.285 & ⋯ & -0.224 & -0.007 &  0.176 & -0.143 &  0.136 &  0.067 &  0.324 & -0.102 & -0.029 & -0.280\\\\\n",
       "\t CON8      & -0.442 & -0.458 &  0.082 &  0.238 &  0.082 &  0.275 &  0.411 &  0.650 & -0.167 & ⋯ & -0.014 & -0.150 &  0.094 &  0.874 &  0.052 & -0.042 &  0.452 & -0.108 & -0.029 & -0.159\\\\\n",
       "\t VALID-104 &  0.018 & -0.176 & -0.070 & -0.156 & -0.112 &  0.110 &  0.025 & -0.391 &  0.066 & ⋯ & -0.057 & -0.092 &  0.111 &  0.185 &  0.010 &  0.121 & -0.053 &  0.399 & -0.029 & -0.195\\\\\n",
       "\t VALID-172 & -0.106 &  0.767 &  0.061 &  0.148 &  0.200 &  0.090 & -0.127 & -0.545 &  0.222 & ⋯ &  0.706 & -0.092 & -0.291 & -0.548 & -0.076 & -0.042 &  0.296 & -0.034 & -0.029 & -0.197\\\\\n",
       "\\end{tabular}\n"
      ],
      "text/markdown": [
       "\n",
       "A data.frame: 57 × 303\n",
       "\n",
       "| sample_id &lt;chr&gt; | ce_16_1 &lt;dbl&gt; | ce_18_0 &lt;dbl&gt; | ce_18_1 &lt;dbl&gt; | ce_18_2 &lt;dbl&gt; | ce_18_3 &lt;dbl&gt; | ce_20_3 &lt;dbl&gt; | ce_20_4 &lt;dbl&gt; | ce_22_6 &lt;dbl&gt; | cer_d34_1 &lt;dbl&gt; | ⋯ ⋯ | tyrosine &lt;dbl&gt; | uracil &lt;dbl&gt; | uric_acid &lt;dbl&gt; | uridine &lt;dbl&gt; | uridine_diphosphohexose &lt;dbl&gt; | uridine_monophosphate &lt;dbl&gt; | valine &lt;dbl&gt; | xanthine &lt;dbl&gt; | xanthosine &lt;dbl&gt; | xylitol &lt;dbl&gt; |\n",
       "|---|---|---|---|---|---|---|---|---|---|---|---|---|---|---|---|---|---|---|---|---|\n",
       "| 2341      |  0.762 |  0.863 |  0.451 | -1.220 |  0.016 | -1.810 | -0.412 | -0.309 |  0.012 | ⋯ |  0.168 |  0.710 |  0.414 |  1.061 |  0.136 |  0.806 | -0.443 |  0.149 | -0.029 | -0.059 |\n",
       "| 2344      | -0.525 | -0.411 |  0.036 | -0.952 | -0.224 | -1.181 | -1.596 | -1.185 |  0.283 | ⋯ |  0.725 |  0.285 |  0.119 |  0.381 | -0.032 |  0.199 | -0.087 |  0.134 |  0.015 |  0.068 |\n",
       "| 2358      | -0.555 | -0.032 | -0.041 | -0.295 | -0.331 | -0.563 | -1.474 | -1.091 |  0.262 | ⋯ | -0.469 |  0.048 | -0.301 |  0.493 |  0.052 |  0.147 | -0.148 |  1.343 |  0.146 | -0.212 |\n",
       "| 2360      |  0.156 |  0.453 | -0.095 | -0.440 | -0.051 | -0.502 | -0.936 | -0.863 |  0.462 | ⋯ |  0.318 | -0.150 |  0.165 | -0.564 |  0.010 |  0.094 | -0.166 | -0.380 | -0.029 | -0.010 |\n",
       "| 2390      |  0.243 |  0.050 |  0.313 | -0.358 | -0.304 | -0.437 | -0.837 | -0.795 |  0.164 | ⋯ | -0.702 |  0.285 | -0.713 | -0.061 |  0.136 |  0.326 | -0.019 |  0.299 | -0.029 | -0.226 |\n",
       "| 2427      | -0.833 | -0.297 | -0.550 | -0.678 | -0.449 | -1.106 | -0.485 | -0.564 | -0.031 | ⋯ | -0.392 |  0.075 |  0.135 |  0.093 |  0.010 |  0.199 | -0.314 |  0.214 | -0.029 | -0.334 |\n",
       "| 2432      | -0.169 | -0.904 | -0.459 | -0.801 | -0.286 | -0.722 | -0.910 | -0.972 |  0.152 | ⋯ | -0.585 |  0.021 |  0.551 | -0.110 | -0.032 |  0.040 | -0.539 |  0.139 |  0.059 |  0.703 |\n",
       "| 2486      |  0.005 | -0.963 | -0.395 | -0.086 | -0.729 | -0.071 | -0.104 | -0.057 | -0.091 | ⋯ |  0.211 | -0.064 |  0.127 | -0.314 | -0.076 |  0.067 |  0.223 |  0.234 | -0.074 | -0.096 |\n",
       "| 2536      | -0.289 | -0.677 | -0.427 | -0.444 | -0.843 | -0.282 | -0.211 | -0.171 | -0.012 | ⋯ |  0.216 | -0.035 |  0.375 | -0.004 | -0.076 |  0.199 | -0.599 |  0.308 |  0.189 |  0.170 |\n",
       "| 2578      | -0.182 |  0.419 | -0.346 | -0.137 | -0.039 | -0.437 | -0.493 | -0.823 |  0.138 | ⋯ | -0.068 |  0.335 |  0.488 | -0.191 | -0.076 | -0.071 | -0.249 | -0.302 | -0.074 | -0.472 |\n",
       "| 2588      | -0.226 |  0.469 |  0.376 |  0.092 | -0.387 | -0.056 | -0.228 | -0.244 |  0.042 | ⋯ | -0.598 |  0.102 | -2.418 |  0.510 | -0.032 | -0.042 | -0.269 |  1.294 | -0.074 | -0.519 |\n",
       "| 2621      | -0.006 |  0.044 |  0.231 |  0.007 | -0.155 | -0.157 | -0.267 | -0.481 |  0.136 | ⋯ |  0.359 | -0.035 |  0.345 |  0.216 | -0.076 | -0.071 |  0.089 |  0.980 |  0.518 |  0.348 |\n",
       "| 2658      | -0.763 | -0.834 | -0.795 | -0.872 | -0.609 | -0.965 | -1.776 | -0.606 |  0.051 | ⋯ | -0.286 | -0.092 |  0.261 | -0.123 |  0.058 | -0.015 |  0.138 |  0.149 | -0.029 | -0.649 |\n",
       "| 2675      | -0.157 |  0.638 |  0.269 |  0.255 |  0.575 |  0.290 | -0.189 |  0.103 |  0.038 | ⋯ | -0.124 | -0.092 | -0.055 | -0.024 |  0.010 |  0.121 | -0.026 |  0.267 | -0.029 |  0.022 |\n",
       "| 2757      | -0.073 | -0.167 |  0.014 | -0.854 | -0.895 | -0.711 | -0.122 | -0.345 |  0.055 | ⋯ | -0.274 |  0.075 | -0.399 | -0.139 | -0.119 | -0.015 |  0.122 |  0.001 | -0.029 | -0.441 |\n",
       "| 2799      |  0.242 |  0.291 | -0.472 | -0.420 | -0.659 | -0.434 | -0.880 | -0.849 | -0.203 | ⋯ |  0.917 | -0.064 |  0.275 | -0.416 | -0.032 | -0.015 |  0.230 | -0.016 | -0.029 |  0.032 |\n",
       "| 2805      | -0.565 | -0.352 | -0.312 | -0.247 | -0.870 | -0.516 | -0.412 | -0.477 | -0.095 | ⋯ | -0.636 | -0.007 |  0.305 | -0.064 | -0.076 | -0.071 | -0.015 | -0.229 | -0.074 | -0.332 |\n",
       "| 2841      |  0.573 |  0.838 |  0.270 |  0.003 |  0.167 |  0.232 |  0.283 | -0.078 |  0.139 | ⋯ |  0.356 | -0.121 |  0.269 |  0.075 | -0.119 | -0.099 |  0.000 | -0.022 | -0.029 | -0.079 |\n",
       "| 2889      |  1.262 | -0.017 | -0.099 | -1.074 | -0.315 | -0.793 | -1.162 | -0.289 | -0.200 | ⋯ |  0.478 |  0.156 |  0.134 |  0.958 | -0.119 | -0.042 | -0.599 |  0.013 |  0.103 |  2.084 |\n",
       "| 2895      |  0.029 |  0.253 |  0.309 |  0.081 |  0.250 |  0.022 | -0.102 | -0.170 | -0.115 | ⋯ |  0.300 | -0.121 | -0.021 |  0.392 | -0.076 | -0.042 |  0.256 |  0.075 | -0.029 |  0.007 |\n",
       "| 2915      |  0.409 |  0.399 |  0.291 | -0.016 |  0.225 |  0.290 |  0.025 | -0.006 | -0.123 | ⋯ |  0.631 | -0.150 |  0.129 |  0.350 | -0.076 | -0.127 |  0.199 |  0.344 |  0.103 | -0.214 |\n",
       "| 2956      | -0.521 |  0.231 | -0.001 |  0.125 | -0.654 | -0.117 | -0.054 | -0.066 |  0.138 | ⋯ |  0.340 |  0.021 | -0.401 |  0.257 |  0.094 |  0.013 |  0.536 |  0.584 |  0.015 | -0.226 |\n",
       "| 2978      | -0.426 | -0.114 | -0.592 | -0.212 | -0.462 | -0.258 | -0.020 | -0.358 | -0.096 | ⋯ |  0.410 |  0.021 |  0.210 | -0.473 |  0.052 |  0.094 |  0.173 | -0.244 | -0.029 |  0.438 |\n",
       "| 2985      | -0.081 |  0.058 | -0.006 | -0.078 | -0.505 | -0.538 | -0.612 | -0.734 |  0.229 | ⋯ | -0.554 |  0.048 |  0.347 | -0.147 | -0.119 | -0.071 | -0.497 |  0.013 | -0.029 |  0.241 |\n",
       "| 3058      | -0.531 |  0.000 | -0.401 | -0.281 |  0.069 | -0.146 |  0.139 | -0.080 |  0.022 | ⋯ | -0.347 |  0.182 |  0.424 |  0.011 | -0.119 | -0.099 |  0.480 | -0.251 |  0.146 |  0.607 |\n",
       "| 3116      | -0.368 | -0.121 | -0.163 | -0.042 | -0.155 |  0.090 | -0.011 | -0.057 | -0.098 | ⋯ | -0.493 | -0.035 |  0.330 | -0.324 | -0.076 | -0.099 | -0.438 | -0.040 |  0.059 | -0.126 |\n",
       "| 3220      |  0.131 | -0.037 | -0.026 |  0.056 | -0.039 |  0.125 |  0.191 |  0.011 |  0.014 | ⋯ | -0.390 | -0.121 |  0.123 | -0.327 | -0.076 | -0.071 |  0.002 | -0.010 | -0.029 | -0.021 |\n",
       "| 3251      | -0.201 | -0.001 |  0.017 |  0.162 |  0.054 |  0.040 |  0.252 |  0.230 |  0.122 | ⋯ |  0.149 |  0.075 | -0.185 | -0.104 | -0.076 | -0.071 |  0.087 |  0.118 |  0.103 | -0.041 |\n",
       "| 3272      |  0.854 |  0.595 |  0.245 |  0.013 | -0.145 |  0.208 |  0.051 |  0.058 | -0.079 | ⋯ |  0.218 | -0.150 |  0.051 | -0.436 | -0.076 | -0.099 | -0.564 | -0.215 | -0.029 |  0.286 |\n",
       "| 3295      |  1.297 | -0.703 |  0.018 | -0.459 | -0.173 | -0.192 | -0.302 | -0.493 |  0.105 | ⋯ |  0.184 | -0.035 |  0.213 | -0.309 |  0.218 | -0.071 |  0.097 | -0.096 |  0.015 |  0.602 |\n",
       "| 3310      | -0.541 | -0.417 | -0.293 | -0.203 | -0.463 | -0.120 |  0.253 |  0.251 |  0.000 | ⋯ | -0.320 | -0.150 | -0.121 | -0.548 |  0.073 | -0.127 | -0.810 | -0.244 | -0.029 | -0.638 |\n",
       "| 3364      | -0.368 | -0.024 | -0.098 |  0.095 |  0.278 |  0.123 |  0.181 | -0.362 |  0.107 | ⋯ |  0.009 | -0.092 |  0.004 | -0.077 | -0.076 | -0.071 | -0.383 | -0.058 | -0.029 |  0.193 |\n",
       "| 3446      | -0.310 | -0.069 |  0.198 |  0.035 |  0.037 |  0.093 |  0.198 |  0.145 |  0.311 | ⋯ | -0.104 | -0.150 | -0.213 | -0.858 | -0.032 | -0.042 | -0.105 | -0.265 |  0.015 |  0.706 |\n",
       "| 3516      | -0.550 | -0.655 | -0.377 |  0.221 | -0.230 | -0.013 |  0.032 | -0.240 | -0.094 | ⋯ | -0.246 |  0.021 | -0.235 | -0.456 | -0.032 | -0.127 | -0.211 | -0.302 | -0.074 | -0.401 |\n",
       "| 3531      | -0.252 | -0.212 | -0.080 |  0.215 |  0.066 |  0.165 |  0.079 |  0.273 | -0.071 | ⋯ | -0.305 | -0.121 | -0.181 | -0.438 | -0.076 | -0.071 | -0.276 | -0.108 | -0.074 | -0.472 |\n",
       "| CON1      | -0.458 |  0.315 | -0.239 |  0.143 | -0.663 |  0.041 |  0.245 |  0.014 |  0.286 | ⋯ | -0.090 | -0.007 | -0.426 |  0.351 | -0.076 | -0.116 |  0.034 | -0.380 | -0.074 | -0.558 |\n",
       "| CON11     | -0.604 | -1.040 | -0.526 |  0.136 |  0.093 |  0.188 |  0.534 |  0.285 | -0.262 | ⋯ |  0.164 | -0.035 | -0.208 | -0.110 |  0.010 | -0.071 | -0.055 | -0.317 | -0.074 | -0.516 |\n",
       "| CON12     |  0.235 |  0.040 |  0.291 |  0.477 |  0.596 |  0.613 |  0.496 |  0.767 | -0.120 | ⋯ | -0.104 | -0.092 |  0.366 |  0.719 |  0.052 |  0.094 |  0.376 |  0.001 |  0.015 | -0.137 |\n",
       "| CON17     |  0.071 |  0.017 |  0.288 |  0.770 |  1.041 |  0.805 |  0.956 |  0.915 | -0.178 | ⋯ |  0.162 |  0.021 | -0.002 |  0.789 | -0.032 | -0.071 |  0.439 | -0.396 | -0.074 | -0.300 |\n",
       "| CON18     |  0.132 |  0.390 |  0.290 |  0.843 |  0.763 |  0.933 |  1.042 |  1.327 | -0.124 | ⋯ |  0.060 | -0.092 |  0.448 | -0.071 |  0.094 |  0.040 |  0.392 | -0.543 | -0.074 |  0.064 |\n",
       "| CON19     | -0.066 | -0.114 |  0.365 |  0.555 |  0.184 |  0.394 |  0.368 |  0.684 | -0.010 | ⋯ |  0.038 | -0.121 |  0.040 | -0.131 |  0.010 | -0.015 | -0.027 | -0.348 | -0.074 | -0.055 |\n",
       "| CON2      |  0.204 |  0.117 |  0.179 |  0.534 |  0.768 |  0.653 |  0.745 |  1.010 | -0.220 | ⋯ | -0.469 | -0.035 | -0.106 |  0.110 |  0.177 | -0.071 | -0.172 | -0.251 | -0.029 |  0.005 |\n",
       "| CON20     |  0.573 |  0.097 |  0.377 |  0.448 |  1.139 |  0.611 |  0.788 |  0.551 | -0.327 | ⋯ |  0.132 |  0.048 | -0.176 |  0.144 |  0.094 |  0.013 | -0.152 | -0.412 | -0.074 |  0.106 |\n",
       "| CON21     | -0.434 | -0.173 | -0.015 |  0.214 |  0.595 |  0.190 |  0.459 |  0.575 | -0.128 | ⋯ | -0.344 |  0.021 |  0.255 |  0.101 |  0.416 |  0.067 |  0.567 | -0.429 |  0.210 | -0.191 |\n",
       "| CON22     |  0.613 |  0.480 |  0.446 |  0.888 |  0.772 |  1.164 |  1.230 |  1.245 |  0.024 | ⋯ | -0.157 |  0.021 |  0.259 |  0.056 |  0.010 | -0.042 |  0.450 | -0.201 | -0.029 |  0.721 |\n",
       "| CON23     |  0.010 | -0.657 | -0.132 |  0.282 |  0.299 |  0.420 |  0.368 |  0.457 | -0.244 | ⋯ |  0.620 |  0.048 |  0.004 | -0.165 | -0.032 | -0.071 |  0.427 | -0.040 | -0.029 |  0.363 |\n",
       "| CON24     |  0.441 |  0.814 |  0.509 |  0.867 |  0.756 |  1.120 |  1.172 |  0.988 |  0.192 | ⋯ |  0.576 | -0.007 |  0.267 |  0.082 |  0.094 | -0.015 |  0.478 | -0.034 |  0.015 |  0.048 |\n",
       "| CON25     |  0.194 | -0.052 |  0.166 |  0.539 |  0.552 |  0.546 |  0.880 |  1.123 | -0.181 | ⋯ |  0.076 |  0.048 | -0.168 | -0.690 | -0.032 | -0.042 |  0.204 | -0.273 | -0.074 | -0.305 |\n",
       "| CON26     |  0.266 |  0.485 |  0.462 |  0.518 |  0.496 |  0.555 |  0.465 |  0.477 | -0.091 | ⋯ | -0.091 | -0.035 |  0.041 |  0.590 |  0.010 |  0.013 |  0.238 | -0.065 | -0.029 |  0.138 |\n",
       "| CON3      | -0.036 | -0.365 |  0.224 |  0.368 |  0.383 |  0.451 |  0.681 |  0.936 | -0.253 | ⋯ | -0.128 | -0.064 | -0.228 | -0.091 |  0.052 | -0.127 | -0.019 | -0.141 | -0.029 | -0.384 |\n",
       "| CON4      | -0.269 |  0.146 | -0.215 |  0.100 | -0.356 |  0.216 |  0.576 |  0.499 | -0.101 | ⋯ |  0.176 |  0.075 | -0.019 |  0.820 | -0.076 | -0.042 |  0.255 | -0.046 |  0.059 | -0.084 |\n",
       "| CON5      | -0.347 | -0.095 | -0.069 |  0.148 | -0.322 |  0.033 |  0.431 |  0.241 | -0.226 | ⋯ | -0.080 | -0.064 | -0.102 | -0.106 |  0.010 | -0.071 |  0.183 | -0.251 | -0.074 |  0.080 |\n",
       "| CON6      |  1.173 |  0.372 |  0.815 |  1.057 |  1.376 |  1.111 |  1.053 |  1.467 | -0.042 | ⋯ |  0.194 |  0.021 | -0.147 | -0.343 |  0.010 | -0.071 |  0.346 | -0.244 | -0.029 |  0.096 |\n",
       "| CON7      | -0.262 | -0.031 |  0.058 |  0.328 |  0.234 |  0.603 |  0.611 |  0.638 | -0.285 | ⋯ | -0.224 | -0.007 |  0.176 | -0.143 |  0.136 |  0.067 |  0.324 | -0.102 | -0.029 | -0.280 |\n",
       "| CON8      | -0.442 | -0.458 |  0.082 |  0.238 |  0.082 |  0.275 |  0.411 |  0.650 | -0.167 | ⋯ | -0.014 | -0.150 |  0.094 |  0.874 |  0.052 | -0.042 |  0.452 | -0.108 | -0.029 | -0.159 |\n",
       "| VALID-104 |  0.018 | -0.176 | -0.070 | -0.156 | -0.112 |  0.110 |  0.025 | -0.391 |  0.066 | ⋯ | -0.057 | -0.092 |  0.111 |  0.185 |  0.010 |  0.121 | -0.053 |  0.399 | -0.029 | -0.195 |\n",
       "| VALID-172 | -0.106 |  0.767 |  0.061 |  0.148 |  0.200 |  0.090 | -0.127 | -0.545 |  0.222 | ⋯ |  0.706 | -0.092 | -0.291 | -0.548 | -0.076 | -0.042 |  0.296 | -0.034 | -0.029 | -0.197 |\n",
       "\n"
      ],
      "text/plain": [
       "   sample_id ce_16_1 ce_18_0 ce_18_1 ce_18_2 ce_18_3 ce_20_3 ce_20_4 ce_22_6\n",
       "1  2341       0.762   0.863   0.451  -1.220   0.016  -1.810  -0.412  -0.309 \n",
       "2  2344      -0.525  -0.411   0.036  -0.952  -0.224  -1.181  -1.596  -1.185 \n",
       "3  2358      -0.555  -0.032  -0.041  -0.295  -0.331  -0.563  -1.474  -1.091 \n",
       "4  2360       0.156   0.453  -0.095  -0.440  -0.051  -0.502  -0.936  -0.863 \n",
       "5  2390       0.243   0.050   0.313  -0.358  -0.304  -0.437  -0.837  -0.795 \n",
       "6  2427      -0.833  -0.297  -0.550  -0.678  -0.449  -1.106  -0.485  -0.564 \n",
       "7  2432      -0.169  -0.904  -0.459  -0.801  -0.286  -0.722  -0.910  -0.972 \n",
       "8  2486       0.005  -0.963  -0.395  -0.086  -0.729  -0.071  -0.104  -0.057 \n",
       "9  2536      -0.289  -0.677  -0.427  -0.444  -0.843  -0.282  -0.211  -0.171 \n",
       "10 2578      -0.182   0.419  -0.346  -0.137  -0.039  -0.437  -0.493  -0.823 \n",
       "11 2588      -0.226   0.469   0.376   0.092  -0.387  -0.056  -0.228  -0.244 \n",
       "12 2621      -0.006   0.044   0.231   0.007  -0.155  -0.157  -0.267  -0.481 \n",
       "13 2658      -0.763  -0.834  -0.795  -0.872  -0.609  -0.965  -1.776  -0.606 \n",
       "14 2675      -0.157   0.638   0.269   0.255   0.575   0.290  -0.189   0.103 \n",
       "15 2757      -0.073  -0.167   0.014  -0.854  -0.895  -0.711  -0.122  -0.345 \n",
       "16 2799       0.242   0.291  -0.472  -0.420  -0.659  -0.434  -0.880  -0.849 \n",
       "17 2805      -0.565  -0.352  -0.312  -0.247  -0.870  -0.516  -0.412  -0.477 \n",
       "18 2841       0.573   0.838   0.270   0.003   0.167   0.232   0.283  -0.078 \n",
       "19 2889       1.262  -0.017  -0.099  -1.074  -0.315  -0.793  -1.162  -0.289 \n",
       "20 2895       0.029   0.253   0.309   0.081   0.250   0.022  -0.102  -0.170 \n",
       "21 2915       0.409   0.399   0.291  -0.016   0.225   0.290   0.025  -0.006 \n",
       "22 2956      -0.521   0.231  -0.001   0.125  -0.654  -0.117  -0.054  -0.066 \n",
       "23 2978      -0.426  -0.114  -0.592  -0.212  -0.462  -0.258  -0.020  -0.358 \n",
       "24 2985      -0.081   0.058  -0.006  -0.078  -0.505  -0.538  -0.612  -0.734 \n",
       "25 3058      -0.531   0.000  -0.401  -0.281   0.069  -0.146   0.139  -0.080 \n",
       "26 3116      -0.368  -0.121  -0.163  -0.042  -0.155   0.090  -0.011  -0.057 \n",
       "27 3220       0.131  -0.037  -0.026   0.056  -0.039   0.125   0.191   0.011 \n",
       "28 3251      -0.201  -0.001   0.017   0.162   0.054   0.040   0.252   0.230 \n",
       "29 3272       0.854   0.595   0.245   0.013  -0.145   0.208   0.051   0.058 \n",
       "30 3295       1.297  -0.703   0.018  -0.459  -0.173  -0.192  -0.302  -0.493 \n",
       "31 3310      -0.541  -0.417  -0.293  -0.203  -0.463  -0.120   0.253   0.251 \n",
       "32 3364      -0.368  -0.024  -0.098   0.095   0.278   0.123   0.181  -0.362 \n",
       "33 3446      -0.310  -0.069   0.198   0.035   0.037   0.093   0.198   0.145 \n",
       "34 3516      -0.550  -0.655  -0.377   0.221  -0.230  -0.013   0.032  -0.240 \n",
       "35 3531      -0.252  -0.212  -0.080   0.215   0.066   0.165   0.079   0.273 \n",
       "36 CON1      -0.458   0.315  -0.239   0.143  -0.663   0.041   0.245   0.014 \n",
       "37 CON11     -0.604  -1.040  -0.526   0.136   0.093   0.188   0.534   0.285 \n",
       "38 CON12      0.235   0.040   0.291   0.477   0.596   0.613   0.496   0.767 \n",
       "39 CON17      0.071   0.017   0.288   0.770   1.041   0.805   0.956   0.915 \n",
       "40 CON18      0.132   0.390   0.290   0.843   0.763   0.933   1.042   1.327 \n",
       "41 CON19     -0.066  -0.114   0.365   0.555   0.184   0.394   0.368   0.684 \n",
       "42 CON2       0.204   0.117   0.179   0.534   0.768   0.653   0.745   1.010 \n",
       "43 CON20      0.573   0.097   0.377   0.448   1.139   0.611   0.788   0.551 \n",
       "44 CON21     -0.434  -0.173  -0.015   0.214   0.595   0.190   0.459   0.575 \n",
       "45 CON22      0.613   0.480   0.446   0.888   0.772   1.164   1.230   1.245 \n",
       "46 CON23      0.010  -0.657  -0.132   0.282   0.299   0.420   0.368   0.457 \n",
       "47 CON24      0.441   0.814   0.509   0.867   0.756   1.120   1.172   0.988 \n",
       "48 CON25      0.194  -0.052   0.166   0.539   0.552   0.546   0.880   1.123 \n",
       "49 CON26      0.266   0.485   0.462   0.518   0.496   0.555   0.465   0.477 \n",
       "50 CON3      -0.036  -0.365   0.224   0.368   0.383   0.451   0.681   0.936 \n",
       "51 CON4      -0.269   0.146  -0.215   0.100  -0.356   0.216   0.576   0.499 \n",
       "52 CON5      -0.347  -0.095  -0.069   0.148  -0.322   0.033   0.431   0.241 \n",
       "53 CON6       1.173   0.372   0.815   1.057   1.376   1.111   1.053   1.467 \n",
       "54 CON7      -0.262  -0.031   0.058   0.328   0.234   0.603   0.611   0.638 \n",
       "55 CON8      -0.442  -0.458   0.082   0.238   0.082   0.275   0.411   0.650 \n",
       "56 VALID-104  0.018  -0.176  -0.070  -0.156  -0.112   0.110   0.025  -0.391 \n",
       "57 VALID-172 -0.106   0.767   0.061   0.148   0.200   0.090  -0.127  -0.545 \n",
       "   cer_d34_1 ⋯ tyrosine uracil uric_acid uridine uridine_diphosphohexose\n",
       "1   0.012    ⋯  0.168    0.710  0.414     1.061   0.136                 \n",
       "2   0.283    ⋯  0.725    0.285  0.119     0.381  -0.032                 \n",
       "3   0.262    ⋯ -0.469    0.048 -0.301     0.493   0.052                 \n",
       "4   0.462    ⋯  0.318   -0.150  0.165    -0.564   0.010                 \n",
       "5   0.164    ⋯ -0.702    0.285 -0.713    -0.061   0.136                 \n",
       "6  -0.031    ⋯ -0.392    0.075  0.135     0.093   0.010                 \n",
       "7   0.152    ⋯ -0.585    0.021  0.551    -0.110  -0.032                 \n",
       "8  -0.091    ⋯  0.211   -0.064  0.127    -0.314  -0.076                 \n",
       "9  -0.012    ⋯  0.216   -0.035  0.375    -0.004  -0.076                 \n",
       "10  0.138    ⋯ -0.068    0.335  0.488    -0.191  -0.076                 \n",
       "11  0.042    ⋯ -0.598    0.102 -2.418     0.510  -0.032                 \n",
       "12  0.136    ⋯  0.359   -0.035  0.345     0.216  -0.076                 \n",
       "13  0.051    ⋯ -0.286   -0.092  0.261    -0.123   0.058                 \n",
       "14  0.038    ⋯ -0.124   -0.092 -0.055    -0.024   0.010                 \n",
       "15  0.055    ⋯ -0.274    0.075 -0.399    -0.139  -0.119                 \n",
       "16 -0.203    ⋯  0.917   -0.064  0.275    -0.416  -0.032                 \n",
       "17 -0.095    ⋯ -0.636   -0.007  0.305    -0.064  -0.076                 \n",
       "18  0.139    ⋯  0.356   -0.121  0.269     0.075  -0.119                 \n",
       "19 -0.200    ⋯  0.478    0.156  0.134     0.958  -0.119                 \n",
       "20 -0.115    ⋯  0.300   -0.121 -0.021     0.392  -0.076                 \n",
       "21 -0.123    ⋯  0.631   -0.150  0.129     0.350  -0.076                 \n",
       "22  0.138    ⋯  0.340    0.021 -0.401     0.257   0.094                 \n",
       "23 -0.096    ⋯  0.410    0.021  0.210    -0.473   0.052                 \n",
       "24  0.229    ⋯ -0.554    0.048  0.347    -0.147  -0.119                 \n",
       "25  0.022    ⋯ -0.347    0.182  0.424     0.011  -0.119                 \n",
       "26 -0.098    ⋯ -0.493   -0.035  0.330    -0.324  -0.076                 \n",
       "27  0.014    ⋯ -0.390   -0.121  0.123    -0.327  -0.076                 \n",
       "28  0.122    ⋯  0.149    0.075 -0.185    -0.104  -0.076                 \n",
       "29 -0.079    ⋯  0.218   -0.150  0.051    -0.436  -0.076                 \n",
       "30  0.105    ⋯  0.184   -0.035  0.213    -0.309   0.218                 \n",
       "31  0.000    ⋯ -0.320   -0.150 -0.121    -0.548   0.073                 \n",
       "32  0.107    ⋯  0.009   -0.092  0.004    -0.077  -0.076                 \n",
       "33  0.311    ⋯ -0.104   -0.150 -0.213    -0.858  -0.032                 \n",
       "34 -0.094    ⋯ -0.246    0.021 -0.235    -0.456  -0.032                 \n",
       "35 -0.071    ⋯ -0.305   -0.121 -0.181    -0.438  -0.076                 \n",
       "36  0.286    ⋯ -0.090   -0.007 -0.426     0.351  -0.076                 \n",
       "37 -0.262    ⋯  0.164   -0.035 -0.208    -0.110   0.010                 \n",
       "38 -0.120    ⋯ -0.104   -0.092  0.366     0.719   0.052                 \n",
       "39 -0.178    ⋯  0.162    0.021 -0.002     0.789  -0.032                 \n",
       "40 -0.124    ⋯  0.060   -0.092  0.448    -0.071   0.094                 \n",
       "41 -0.010    ⋯  0.038   -0.121  0.040    -0.131   0.010                 \n",
       "42 -0.220    ⋯ -0.469   -0.035 -0.106     0.110   0.177                 \n",
       "43 -0.327    ⋯  0.132    0.048 -0.176     0.144   0.094                 \n",
       "44 -0.128    ⋯ -0.344    0.021  0.255     0.101   0.416                 \n",
       "45  0.024    ⋯ -0.157    0.021  0.259     0.056   0.010                 \n",
       "46 -0.244    ⋯  0.620    0.048  0.004    -0.165  -0.032                 \n",
       "47  0.192    ⋯  0.576   -0.007  0.267     0.082   0.094                 \n",
       "48 -0.181    ⋯  0.076    0.048 -0.168    -0.690  -0.032                 \n",
       "49 -0.091    ⋯ -0.091   -0.035  0.041     0.590   0.010                 \n",
       "50 -0.253    ⋯ -0.128   -0.064 -0.228    -0.091   0.052                 \n",
       "51 -0.101    ⋯  0.176    0.075 -0.019     0.820  -0.076                 \n",
       "52 -0.226    ⋯ -0.080   -0.064 -0.102    -0.106   0.010                 \n",
       "53 -0.042    ⋯  0.194    0.021 -0.147    -0.343   0.010                 \n",
       "54 -0.285    ⋯ -0.224   -0.007  0.176    -0.143   0.136                 \n",
       "55 -0.167    ⋯ -0.014   -0.150  0.094     0.874   0.052                 \n",
       "56  0.066    ⋯ -0.057   -0.092  0.111     0.185   0.010                 \n",
       "57  0.222    ⋯  0.706   -0.092 -0.291    -0.548  -0.076                 \n",
       "   uridine_monophosphate valine xanthine xanthosine xylitol\n",
       "1   0.806                -0.443  0.149   -0.029     -0.059 \n",
       "2   0.199                -0.087  0.134    0.015      0.068 \n",
       "3   0.147                -0.148  1.343    0.146     -0.212 \n",
       "4   0.094                -0.166 -0.380   -0.029     -0.010 \n",
       "5   0.326                -0.019  0.299   -0.029     -0.226 \n",
       "6   0.199                -0.314  0.214   -0.029     -0.334 \n",
       "7   0.040                -0.539  0.139    0.059      0.703 \n",
       "8   0.067                 0.223  0.234   -0.074     -0.096 \n",
       "9   0.199                -0.599  0.308    0.189      0.170 \n",
       "10 -0.071                -0.249 -0.302   -0.074     -0.472 \n",
       "11 -0.042                -0.269  1.294   -0.074     -0.519 \n",
       "12 -0.071                 0.089  0.980    0.518      0.348 \n",
       "13 -0.015                 0.138  0.149   -0.029     -0.649 \n",
       "14  0.121                -0.026  0.267   -0.029      0.022 \n",
       "15 -0.015                 0.122  0.001   -0.029     -0.441 \n",
       "16 -0.015                 0.230 -0.016   -0.029      0.032 \n",
       "17 -0.071                -0.015 -0.229   -0.074     -0.332 \n",
       "18 -0.099                 0.000 -0.022   -0.029     -0.079 \n",
       "19 -0.042                -0.599  0.013    0.103      2.084 \n",
       "20 -0.042                 0.256  0.075   -0.029      0.007 \n",
       "21 -0.127                 0.199  0.344    0.103     -0.214 \n",
       "22  0.013                 0.536  0.584    0.015     -0.226 \n",
       "23  0.094                 0.173 -0.244   -0.029      0.438 \n",
       "24 -0.071                -0.497  0.013   -0.029      0.241 \n",
       "25 -0.099                 0.480 -0.251    0.146      0.607 \n",
       "26 -0.099                -0.438 -0.040    0.059     -0.126 \n",
       "27 -0.071                 0.002 -0.010   -0.029     -0.021 \n",
       "28 -0.071                 0.087  0.118    0.103     -0.041 \n",
       "29 -0.099                -0.564 -0.215   -0.029      0.286 \n",
       "30 -0.071                 0.097 -0.096    0.015      0.602 \n",
       "31 -0.127                -0.810 -0.244   -0.029     -0.638 \n",
       "32 -0.071                -0.383 -0.058   -0.029      0.193 \n",
       "33 -0.042                -0.105 -0.265    0.015      0.706 \n",
       "34 -0.127                -0.211 -0.302   -0.074     -0.401 \n",
       "35 -0.071                -0.276 -0.108   -0.074     -0.472 \n",
       "36 -0.116                 0.034 -0.380   -0.074     -0.558 \n",
       "37 -0.071                -0.055 -0.317   -0.074     -0.516 \n",
       "38  0.094                 0.376  0.001    0.015     -0.137 \n",
       "39 -0.071                 0.439 -0.396   -0.074     -0.300 \n",
       "40  0.040                 0.392 -0.543   -0.074      0.064 \n",
       "41 -0.015                -0.027 -0.348   -0.074     -0.055 \n",
       "42 -0.071                -0.172 -0.251   -0.029      0.005 \n",
       "43  0.013                -0.152 -0.412   -0.074      0.106 \n",
       "44  0.067                 0.567 -0.429    0.210     -0.191 \n",
       "45 -0.042                 0.450 -0.201   -0.029      0.721 \n",
       "46 -0.071                 0.427 -0.040   -0.029      0.363 \n",
       "47 -0.015                 0.478 -0.034    0.015      0.048 \n",
       "48 -0.042                 0.204 -0.273   -0.074     -0.305 \n",
       "49  0.013                 0.238 -0.065   -0.029      0.138 \n",
       "50 -0.127                -0.019 -0.141   -0.029     -0.384 \n",
       "51 -0.042                 0.255 -0.046    0.059     -0.084 \n",
       "52 -0.071                 0.183 -0.251   -0.074      0.080 \n",
       "53 -0.071                 0.346 -0.244   -0.029      0.096 \n",
       "54  0.067                 0.324 -0.102   -0.029     -0.280 \n",
       "55 -0.042                 0.452 -0.108   -0.029     -0.159 \n",
       "56  0.121                -0.053  0.399   -0.029     -0.195 \n",
       "57 -0.042                 0.296 -0.034   -0.029     -0.197 "
      ]
     },
     "metadata": {},
     "output_type": "display_data"
    }
   ],
   "source": [
    "metabolomics_merged"
   ]
  },
  {
   "cell_type": "code",
   "execution_count": 37,
   "metadata": {
    "vscode": {
     "languageId": "r"
    }
   },
   "outputs": [],
   "source": [
    "write.csv(metabolomics_merged, \"outputs/01_metabolomics_merged.csv\")"
   ]
  },
  {
   "cell_type": "code",
   "execution_count": 38,
   "metadata": {
    "vscode": {
     "languageId": "r"
    }
   },
   "outputs": [],
   "source": [
    "write.csv(metadata, \"outputs/01_metadata.csv\")"
   ]
  }
 ],
 "metadata": {
  "kernelspec": {
   "display_name": "2022_PSVD_metabolomics",
   "language": "R",
   "name": "2022_psvd_metabolomics"
  },
  "language_info": {
   "codemirror_mode": "r",
   "file_extension": ".r",
   "mimetype": "text/x-r-source",
   "name": "R",
   "pygments_lexer": "r",
   "version": "4.2.2"
  },
  "orig_nbformat": 4
 },
 "nbformat": 4,
 "nbformat_minor": 2
}
