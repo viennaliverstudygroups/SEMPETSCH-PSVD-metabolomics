{
 "cells": [
  {
   "attachments": {},
   "cell_type": "markdown",
   "metadata": {},
   "source": [
    "## Setup"
   ]
  },
  {
   "cell_type": "code",
   "execution_count": 1,
   "metadata": {
    "vscode": {
     "languageId": "r"
    }
   },
   "outputs": [],
   "source": [
    "source(\"2022_PSVD_metabolomics/2022_PSVD_metabolomics/R/00_setup.R\")"
   ]
  },
  {
   "cell_type": "code",
   "execution_count": null,
   "metadata": {
    "vscode": {
     "languageId": "r"
    }
   },
   "outputs": [],
   "source": [
    "p_load(\"dplyr\", \"ggplot2\", \"mice\", \"janitor\", \"POMA\", \"SummarizedExperiment\", \"DESeq2\", install = FALSE)"
   ]
  },
  {
   "cell_type": "code",
   "execution_count": 27,
   "metadata": {
    "vscode": {
     "languageId": "r"
    }
   },
   "outputs": [],
   "source": [
    "lipid_raw <- read.csv(\"data/lipid.csv\", fileEncoding=\"windows-1252\", check.names = FALSE, na.strings=\"NA\")\n",
    "facid_raw <- read.csv(\"data/facid.csv\", fileEncoding=\"windows-1252\", check.names = FALSE, na.strings=\"NA\")\n",
    "metab_raw <- read.csv(\"data/metab.csv\", fileEncoding=\"windows-1252\", check.names = FALSE, na.strings=\"NA\")"
   ]
  },
  {
   "cell_type": "code",
   "execution_count": 28,
   "metadata": {
    "vscode": {
     "languageId": "r"
    }
   },
   "outputs": [],
   "source": [
    "lipid_map <- read.csv(\"data/lipid_map.csv\", fileEncoding=\"windows-1252\", check.names = FALSE, na.strings=\"NA\")\n",
    "facid_map <- read.csv(\"data/facid_map.csv\", fileEncoding=\"windows-1252\", check.names = FALSE, na.strings=\"NA\")\n",
    "metab_map <- read.csv(\"data/metab_map.csv\", fileEncoding=\"windows-1252\", check.names = FALSE, na.strings=\"NA\")"
   ]
  },
  {
   "cell_type": "code",
   "execution_count": 29,
   "metadata": {
    "vscode": {
     "languageId": "r"
    }
   },
   "outputs": [],
   "source": [
    "lipid_map_fix <- lipid_map %>% dplyr::select(c(name_original, name_corrected, HMDB)) %>% mutate(HMDB = if_else(stringr::str_starts(HMDB, \"HMDB\"), HMDB, name_corrected)) %>% dplyr::rename()\n",
    "facid_map_fix <- facid_map %>% dplyr::select(c(name_original, name_corrected, HMDB)) %>% mutate(HMDB = if_else(stringr::str_starts(HMDB, \"HMDB\"), HMDB, name_corrected))\n",
    "metab_map_fix <- metab_map %>% dplyr::select(c(name_original, name_corrected, HMDB)) %>% mutate(HMDB = if_else(stringr::str_starts(HMDB, \"HMDB\"), HMDB, name_corrected))"
   ]
  },
  {
   "cell_type": "code",
   "execution_count": 31,
   "metadata": {
    "vscode": {
     "languageId": "r"
    }
   },
   "outputs": [],
   "source": [
    "metadata <- facid_raw[, 3:7]\n",
    "names(metadata) <- make_clean_names(names(metadata))\n",
    "metadata <- metadata %>% dplyr::rename(\"sample_id\" = \"sample_identification\")"
   ]
  },
  {
   "cell_type": "code",
   "execution_count": 33,
   "metadata": {
    "vscode": {
     "languageId": "r"
    }
   },
   "outputs": [],
   "source": [
    "indices <- match(colnames(lipid_raw), lipid_map_fix$name_original)\n",
    "colnames(lipid_raw) <- ifelse(is.na(indices), colnames(lipid_raw), lipid_map_fix$HMDB[indices])\n",
    "\n",
    "indices <- match(colnames(facid_raw), facid_map_fix$name_original)\n",
    "colnames(facid_raw) <- ifelse(is.na(indices), colnames(facid_raw), facid_map_fix$HMDB[indices])\n",
    "\n",
    "indices <- match(colnames(metab_raw), metab_map_fix$name_original)\n",
    "colnames(metab_raw) <- ifelse(is.na(indices), colnames(metab_raw), metab_map_fix$HMDB[indices])"
   ]
  },
  {
   "attachments": {},
   "cell_type": "markdown",
   "metadata": {},
   "source": [
    "## Data cleaning"
   ]
  },
  {
   "cell_type": "code",
   "execution_count": 35,
   "metadata": {
    "vscode": {
     "languageId": "r"
    }
   },
   "outputs": [],
   "source": [
    "missing_threshold <- 10"
   ]
  },
  {
   "cell_type": "code",
   "execution_count": null,
   "metadata": {
    "vscode": {
     "languageId": "r"
    }
   },
   "outputs": [],
   "source": [
    "lipid_raw_na <- lipid_raw %>% purrr::discard(~sum(is.na(.x))/length(.x)* 100 >= missing_threshold)\n",
    "paste0(\"Columns with >\", missing_threshold, \"% missing values in lipid_raw: \", ncol(lipid_raw) - ncol(lipid_raw_na), \". New number of columns: \", ncol(lipid_raw_na), \". Percentage of outliers: \", round((ncol(lipid_raw) - ncol(lipid_raw_na)) * 100/ncol(lipid_raw), 2), \"%\")\n",
    "\n",
    "facid_raw_na <- facid_raw %>% purrr::discard(~sum(is.na(.x))/length(.x)* 100 >= missing_threshold)\n",
    "paste0(\"Columns with >\", missing_threshold, \"% missing values in facid_raw: \", ncol(facid_raw) - ncol(facid_raw_na), \". New number of columns: \", ncol(facid_raw_na), \". Percentage of outliers: \", round((ncol(facid_raw) - ncol(facid_raw_na)) * 100/ncol(facid_raw), 2), \"%\")\n",
    "\n",
    "metab_raw_na <- metab_raw %>% purrr::discard(~sum(is.na(.x))/length(.x)* 100 >= missing_threshold)\n",
    "paste0(\"Columns with >\", missing_threshold, \"% missing values in metab_raw: \", ncol(metab_raw) - ncol(metab_raw_na), \". New number of columns: \", ncol(metab_raw_na), \". Percentage of outliers: \", round((ncol(metab_raw) - ncol(metab_raw_na)) * 100/ncol(metab_raw), 2), \"%\")"
   ]
  },
  {
   "cell_type": "code",
   "execution_count": 39,
   "metadata": {
    "vscode": {
     "languageId": "r"
    }
   },
   "outputs": [],
   "source": [
    "lipid_raw_na <- remove_constant(lipid_raw_na)\n",
    "facid_raw_na <- remove_constant(facid_raw_na)\n",
    "metab_raw_na <- remove_constant(metab_raw_na)"
   ]
  },
  {
   "cell_type": "code",
   "execution_count": 40,
   "metadata": {
    "vscode": {
     "languageId": "r"
    }
   },
   "outputs": [],
   "source": [
    "names(lipid_raw_na)[1:6] <- make_clean_names(names(lipid_raw_na)[1:6])\n",
    "names(facid_raw_na)[1:6] <- make_clean_names(names(facid_raw_na)[1:6])\n",
    "names(metab_raw_na)[1:4] <- make_clean_names(names(metab_raw_na)[1:4])"
   ]
  },
  {
   "cell_type": "code",
   "execution_count": 41,
   "metadata": {
    "vscode": {
     "languageId": "r"
    }
   },
   "outputs": [],
   "source": [
    "lipid_raw_na <- lipid_raw_na %>% select(-sample_id, -sample_description, -group_123, -sex, -age)\n",
    "facid_raw_na <- facid_raw_na %>% select(-sample_code, -sample_description, -group_123, -sex, -age)\n",
    "metab_raw_na <- metab_raw_na %>% select(-group_123, -sex, -age)"
   ]
  },
  {
   "cell_type": "code",
   "execution_count": 42,
   "metadata": {
    "vscode": {
     "languageId": "r"
    }
   },
   "outputs": [],
   "source": [
    "lipid_raw_na <- lipid_raw_na %>% dplyr::rename(\"sample_id\" = \"label\")\n",
    "facid_raw_na <- facid_raw_na %>% dplyr::rename(\"sample_id\" = \"sample_identification\")\n",
    "metab_raw_na <- metab_raw_na %>% dplyr::rename(\"sample_id\" = \"sample_identification\") "
   ]
  },
  {
   "attachments": {},
   "cell_type": "markdown",
   "metadata": {},
   "source": [
    "## Imputation, normalization, scaling and outliers"
   ]
  },
  {
   "cell_type": "code",
   "execution_count": 43,
   "metadata": {
    "vscode": {
     "languageId": "r"
    }
   },
   "outputs": [],
   "source": [
    "lipid_se_raw <- PomaSummarizedExperiment(target = metadata, features = lipid_raw_na[2:ncol(lipid_raw_na)])\n",
    "facid_se_raw <- PomaSummarizedExperiment(target = metadata, features = facid_raw_na[2:ncol(facid_raw_na)])\n",
    "metab_se_raw <- PomaSummarizedExperiment(target = metadata, features = metab_raw_na[2:ncol(metab_raw_na)])"
   ]
  },
  {
   "cell_type": "code",
   "execution_count": null,
   "metadata": {
    "vscode": {
     "languageId": "r"
    }
   },
   "outputs": [],
   "source": [
    "lipid_se <- PomaImpute(lipid_se_raw, ZerosAsNA = TRUE, cutoff = 20, method = \"knn\") %>% PomaNorm(method = \"log_pareto\") %>% PomaOutliers(coef = 3)\n",
    "facid_se <- PomaImpute(facid_se_raw, ZerosAsNA = TRUE, cutoff = 20, method = \"knn\") %>% PomaNorm(method = \"log_pareto\") %>% PomaOutliers(coef = 3)\n",
    "metab_se <- PomaImpute(metab_se_raw, ZerosAsNA = TRUE, cutoff = 20, method = \"knn\") %>% PomaNorm(method = \"log_pareto\") %>% PomaOutliers(coef = 3)\n",
    "\n",
    "lipid_se_o <- PomaImpute(lipid_se_raw, ZerosAsNA = TRUE, cutoff = 20, method = \"knn\") %>% PomaNorm(method = \"log_pareto\")\n",
    "facid_se_o <- PomaImpute(facid_se_raw, ZerosAsNA = TRUE, cutoff = 20, method = \"knn\") %>% PomaNorm(method = \"log_pareto\") \n",
    "metab_se_o <- PomaImpute(metab_se_raw, ZerosAsNA = TRUE, cutoff = 20, method = \"knn\") %>% PomaNorm(method = \"log_pareto\")\n",
    "\n",
    "lipid_se <- as.data.frame(t(assay(lipid_se))) %>% tibble::rownames_to_column(\"sample_id\")\n",
    "facid_se <- as.data.frame(t(assay(facid_se))) %>% tibble::rownames_to_column(\"sample_id\")\n",
    "metab_se <- as.data.frame(t(assay(metab_se))) %>% tibble::rownames_to_column(\"sample_id\")\n",
    "\n",
    "\n",
    "lipid_se_o <- as.data.frame(t(assay(lipid_se_o))) %>% tibble::rownames_to_column(\"sample_id\")\n",
    "facid_se_o <- as.data.frame(t(assay(facid_se_o))) %>% tibble::rownames_to_column(\"sample_id\")\n",
    "metab_se_o <- as.data.frame(t(assay(metab_se_o))) %>% tibble::rownames_to_column(\"sample_id\")"
   ]
  },
  {
   "cell_type": "code",
   "execution_count": 45,
   "metadata": {
    "vscode": {
     "languageId": "r"
    }
   },
   "outputs": [],
   "source": [
    "lipid_se <- lipid_se %>% tibble::column_to_rownames(\"sample_id\") %>% as.matrix()\n",
    "lipid_se <- t(scale(t(lipid_se)))\n",
    "lipid_se <- lipid_se %>% as.data.frame() %>% tibble::rownames_to_column(\"sample_id\")\n",
    "\n",
    "facid_se <- facid_se %>% tibble::column_to_rownames(\"sample_id\") %>% as.matrix()\n",
    "facid_se <- t(scale(t(facid_se)))\n",
    "facid_se <- facid_se %>% as.data.frame() %>% tibble::rownames_to_column(\"sample_id\")\n",
    "\n",
    "metab_se <- metab_se %>% tibble::column_to_rownames(\"sample_id\") %>% as.matrix()\n",
    "metab_se <- t(scale(t(metab_se)))\n",
    "metab_se <- metab_se %>% as.data.frame() %>% tibble::rownames_to_column(\"sample_id\")\n",
    "\n",
    "lipid_se_o <- lipid_se_o %>% tibble::column_to_rownames(\"sample_id\") %>% as.matrix()\n",
    "lipid_se_o <- t(scale(t(lipid_se_o)))\n",
    "lipid_se_o <- lipid_se_o %>% as.data.frame() %>% tibble::rownames_to_column(\"sample_id\")\n",
    "\n",
    "facid_se_o <- facid_se_o %>% tibble::column_to_rownames(\"sample_id\") %>% as.matrix()\n",
    "facid_se_o <- t(scale(t(facid_se_o)))\n",
    "facid_se_o <- facid_se_o %>% as.data.frame() %>% tibble::rownames_to_column(\"sample_id\")\n",
    "\n",
    "metab_se_o <- metab_se_o %>% tibble::column_to_rownames(\"sample_id\") %>% as.matrix()\n",
    "metab_se_o <- t(scale(t(metab_se_o)))\n",
    "metab_se_o <- metab_se_o %>% as.data.frame() %>% tibble::rownames_to_column(\"sample_id\")"
   ]
  },
  {
   "attachments": {},
   "cell_type": "markdown",
   "metadata": {},
   "source": [
    "## Integration"
   ]
  },
  {
   "cell_type": "code",
   "execution_count": 49,
   "metadata": {
    "vscode": {
     "languageId": "r"
    }
   },
   "outputs": [],
   "source": [
    "metabolomics_merged <- merge(lipid_se, facid_se, by=\"sample_id\")\n",
    "metabolomics_merged <- merge(metabolomics_merged, metab_se, by = \"sample_id\")\n",
    "\n",
    "metabolomics_merged_o <- merge(lipid_se_o, facid_se_o, by=\"sample_id\")\n",
    "metabolomics_merged_o <- merge(metabolomics_merged_o, metab_se_o, by = \"sample_id\")"
   ]
  },
  {
   "cell_type": "code",
   "execution_count": null,
   "metadata": {
    "vscode": {
     "languageId": "r"
    }
   },
   "outputs": [],
   "source": [
    "metabolomics_merged %>% t() %>% as.data.frame() %>% tibble::rownames_to_column(\"sample_id\") %>% distinct(sample_id) #%>% filter(sample_id %in%)"
   ]
  },
  {
   "cell_type": "code",
   "execution_count": 51,
   "metadata": {
    "vscode": {
     "languageId": "r"
    }
   },
   "outputs": [],
   "source": [
    "metabolites_mapped <- rbind(facid_map, lipid_map, metab_map)"
   ]
  },
  {
   "cell_type": "code",
   "execution_count": null,
   "metadata": {
    "vscode": {
     "languageId": "r"
    }
   },
   "outputs": [],
   "source": [
    "matching_hmdb <- intersect(metabolites_mapped$HMDB, colnames(metabolomics_merged))\n",
    "name_mapping <- setNames(metabolites_mapped$name_corrected[metabolites_mapped$HMDB %in% matching_hmdb], matching_hmdb)\n",
    "colnames(metabolomics_merged) <- ifelse(colnames(metabolomics_merged) %in% names(name_mapping), name_mapping[colnames(metabolomics_merged)], colnames(metabolomics_merged))\n",
    "print(metabolomics_merged)\n"
   ]
  },
  {
   "cell_type": "code",
   "execution_count": 26,
   "metadata": {
    "vscode": {
     "languageId": "r"
    }
   },
   "outputs": [],
   "source": [
    "write.csv(metabolomics_merged, \"outputs/01_metabolomics_merged.csv\")\n",
    "write.csv(metabolomics_merged_o, \"outputs/01_metabolomics_merged_outliers.csv\")\n",
    "write.csv(metabolites_mapped, \"outputs/01_metabolites_mapped.csv\")"
   ]
  },
  {
   "cell_type": "code",
   "execution_count": 32,
   "metadata": {
    "vscode": {
     "languageId": "r"
    }
   },
   "outputs": [],
   "source": [
    "write.csv(lipid_raw, \"outputs/lipid_hmdb.csv\", quote = FALSE)\n",
    "write.csv(facid_raw, \"outputs/facid_hmdb.csv\", quote = FALSE)\n",
    "write.csv(metab_raw, \"outputs/metab_hmdb.csv\", quote = FALSE)"
   ]
  },
  {
   "cell_type": "code",
   "execution_count": 38,
   "metadata": {
    "vscode": {
     "languageId": "r"
    }
   },
   "outputs": [],
   "source": [
    "write.csv(metadata, \"outputs/01_metadata.csv\")"
   ]
  },
  {
   "cell_type": "code",
   "execution_count": 48,
   "metadata": {
    "vscode": {
     "languageId": "r"
    }
   },
   "outputs": [],
   "source": [
    "write.csv(metab_se_o, \"outputs/metab_se_o.csv\")"
   ]
  }
 ],
 "metadata": {
  "kernelspec": {
   "display_name": "r-proteomics",
   "language": "R",
   "name": "r-proteomics"
  },
  "language_info": {
   "codemirror_mode": "r",
   "file_extension": ".r",
   "mimetype": "text/x-r-source",
   "name": "R",
   "pygments_lexer": "r",
   "version": "4.3.1"
  },
  "orig_nbformat": 4
 },
 "nbformat": 4,
 "nbformat_minor": 2
}
