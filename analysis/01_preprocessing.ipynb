{
 "cells": [
  {
   "attachments": {},
   "cell_type": "markdown",
   "metadata": {},
   "source": [
    "## Setup"
   ]
  },
  {
   "cell_type": "code",
   "execution_count": 1,
   "metadata": {
    "vscode": {
     "languageId": "r"
    }
   },
   "outputs": [],
   "source": [
    "source(\"/research/lab_reiberger/2022_PSVD_metabolomics/2022_PSVD_metabolomics/R/00_setup.R\")"
   ]
  },
  {
   "cell_type": "code",
   "execution_count": 25,
   "metadata": {
    "vscode": {
     "languageId": "r"
    }
   },
   "outputs": [],
   "source": [
    "p_load(\"dplyr\", \"ggplot2\", \"mice\", \"janitor\", \"POMA\", \"SummarizedExperiment\", \"DESeq2\", install = FALSE)"
   ]
  },
  {
   "cell_type": "code",
   "execution_count": 3,
   "metadata": {
    "vscode": {
     "languageId": "r"
    }
   },
   "outputs": [],
   "source": [
    "lipid_raw <- read.csv(\"data/lipid.csv\", fileEncoding=\"windows-1252\", check.names = FALSE, na.strings=\"NA\")\n",
    "facid_raw <- read.csv(\"data/facid.csv\", fileEncoding=\"windows-1252\", check.names = FALSE, na.strings=\"NA\")\n",
    "metab_raw <- read.csv(\"data/metab.csv\", fileEncoding=\"windows-1252\", check.names = FALSE, na.strings=\"NA\")"
   ]
  },
  {
   "cell_type": "code",
   "execution_count": 61,
   "metadata": {
    "vscode": {
     "languageId": "r"
    }
   },
   "outputs": [
    {
     "data": {
      "text/html": [
       "<table class=\"dataframe\">\n",
       "<caption>A data.frame: 60 × 44</caption>\n",
       "<thead>\n",
       "\t<tr><th scope=col>RunID</th><th scope=col>Sample Code</th><th scope=col>Sample Identification</th><th scope=col>Sample Description</th><th scope=col>Group_123</th><th scope=col>Sex</th><th scope=col>Age</th><th scope=col>Specimen</th><th scope=col>Unit</th><th scope=col>Formic acid (C1:0)</th><th scope=col>⋯</th><th scope=col>Linolenic acid (C18:3)</th><th scope=col>Nonadecanoic acid (C19:0)</th><th scope=col>isononadecanoic acid (17-Me-18:0)</th><th scope=col>Arachidic (C20:0)</th><th scope=col>Arachidonic acid (20:4)</th><th scope=col>Behenic acid (C22:0)</th><th scope=col>Erucic acid (C22:1)</th><th scope=col>cis-4,7,10,13,16,19-Docosahexaenoic acid (C22:6)</th><th scope=col>Lignoceric acid (C24:0)</th><th scope=col>Nervonic acid (C24:1)</th></tr>\n",
       "\t<tr><th scope=col>&lt;chr&gt;</th><th scope=col>&lt;int&gt;</th><th scope=col>&lt;chr&gt;</th><th scope=col>&lt;chr&gt;</th><th scope=col>&lt;int&gt;</th><th scope=col>&lt;int&gt;</th><th scope=col>&lt;dbl&gt;</th><th scope=col>&lt;chr&gt;</th><th scope=col>&lt;chr&gt;</th><th scope=col>&lt;lgl&gt;</th><th scope=col>⋯</th><th scope=col>&lt;dbl&gt;</th><th scope=col>&lt;lgl&gt;</th><th scope=col>&lt;lgl&gt;</th><th scope=col>&lt;dbl&gt;</th><th scope=col>&lt;dbl&gt;</th><th scope=col>&lt;dbl&gt;</th><th scope=col>&lt;dbl&gt;</th><th scope=col>&lt;dbl&gt;</th><th scope=col>&lt;dbl&gt;</th><th scope=col>&lt;dbl&gt;</th></tr>\n",
       "</thead>\n",
       "<tbody>\n",
       "\t<tr><td>R100323</td><td>113402</td><td>2341     </td><td>Cirrhosis</td><td>1</td><td>1</td><td>44.7</td><td>Human</td><td>µM</td><td>NA</td><td>⋯</td><td>1.59</td><td>NA</td><td>NA</td><td>  NA</td><td>1.91</td><td>  NA</td><td>0.23</td><td>0.26</td><td>  NA</td><td>1.63</td></tr>\n",
       "\t<tr><td>R100323</td><td>113403</td><td>2344     </td><td>Cirrhosis</td><td>1</td><td>1</td><td>40.8</td><td>Human</td><td>µM</td><td>NA</td><td>⋯</td><td>2.50</td><td>NA</td><td>NA</td><td>  NA</td><td>1.94</td><td>  NA</td><td>0.20</td><td>0.39</td><td>2.32</td><td>1.64</td></tr>\n",
       "\t<tr><td>R100323</td><td>113404</td><td>2358     </td><td>PSVD     </td><td>2</td><td>2</td><td>34.3</td><td>Human</td><td>µM</td><td>NA</td><td>⋯</td><td>2.17</td><td>NA</td><td>NA</td><td>  NA</td><td>1.88</td><td>  NA</td><td>0.12</td><td>0.33</td><td>  NA</td><td>1.63</td></tr>\n",
       "\t<tr><td>R100323</td><td>113405</td><td>2360     </td><td>Cirrhosis</td><td>1</td><td>2</td><td>48.5</td><td>Human</td><td>µM</td><td>NA</td><td>⋯</td><td>1.67</td><td>NA</td><td>NA</td><td>2.27</td><td>1.99</td><td>  NA</td><td>0.08</td><td>0.33</td><td>2.27</td><td>1.63</td></tr>\n",
       "\t<tr><td>R100323</td><td>113406</td><td>2390     </td><td>PSVD     </td><td>2</td><td>2</td><td>40.3</td><td>Human</td><td>µM</td><td>NA</td><td>⋯</td><td>1.74</td><td>NA</td><td>NA</td><td>2.29</td><td>1.87</td><td>  NA</td><td>0.15</td><td>0.33</td><td>2.28</td><td>1.65</td></tr>\n",
       "\t<tr><td>R100323</td><td>113407</td><td>2427     </td><td>PSVD     </td><td>2</td><td>1</td><td>57.8</td><td>Human</td><td>µM</td><td>NA</td><td>⋯</td><td>1.62</td><td>NA</td><td>NA</td><td>2.30</td><td>1.97</td><td>  NA</td><td>0.19</td><td>0.35</td><td>  NA</td><td>1.65</td></tr>\n",
       "\t<tr><td>R100323</td><td>113408</td><td>2432     </td><td>PSVD     </td><td>2</td><td>2</td><td>46.0</td><td>Human</td><td>µM</td><td>NA</td><td>⋯</td><td>1.73</td><td>NA</td><td>NA</td><td>  NA</td><td>1.91</td><td>  NA</td><td>0.07</td><td>0.30</td><td>  NA</td><td>1.63</td></tr>\n",
       "\t<tr><td>R100323</td><td>113409</td><td>2486     </td><td>Cirrhosis</td><td>1</td><td>1</td><td>53.7</td><td>Human</td><td>µM</td><td>NA</td><td>⋯</td><td>1.76</td><td>NA</td><td>NA</td><td>2.30</td><td>1.85</td><td>  NA</td><td>0.06</td><td>0.29</td><td>  NA</td><td>1.63</td></tr>\n",
       "\t<tr><td>R100323</td><td>113410</td><td>2536     </td><td>Cirrhosis</td><td>1</td><td>1</td><td>64.9</td><td>Human</td><td>µM</td><td>NA</td><td>⋯</td><td>1.65</td><td>NA</td><td>NA</td><td>2.30</td><td>1.87</td><td>  NA</td><td>0.04</td><td>0.32</td><td>  NA</td><td>1.63</td></tr>\n",
       "\t<tr><td>R100323</td><td>113411</td><td>2578     </td><td>Cirrhosis</td><td>1</td><td>1</td><td>48.2</td><td>Human</td><td>µM</td><td>NA</td><td>⋯</td><td>1.59</td><td>NA</td><td>NA</td><td>2.26</td><td>1.86</td><td>  NA</td><td>0.04</td><td>0.28</td><td>  NA</td><td>1.64</td></tr>\n",
       "\t<tr><td>R100323</td><td>113412</td><td>2588     </td><td>PSVD     </td><td>2</td><td>2</td><td>37.0</td><td>Human</td><td>µM</td><td>NA</td><td>⋯</td><td>3.05</td><td>NA</td><td>NA</td><td>2.34</td><td>2.25</td><td>  NA</td><td>0.35</td><td>0.64</td><td>  NA</td><td>1.66</td></tr>\n",
       "\t<tr><td>R100323</td><td>113413</td><td>2621     </td><td>PSVD     </td><td>2</td><td>1</td><td>54.9</td><td>Human</td><td>µM</td><td>NA</td><td>⋯</td><td>1.72</td><td>NA</td><td>NA</td><td>  NA</td><td>2.08</td><td>  NA</td><td>0.10</td><td>0.40</td><td>  NA</td><td>  NA</td></tr>\n",
       "\t<tr><td>R100323</td><td>113414</td><td>2658     </td><td>PSVD     </td><td>2</td><td>1</td><td>19.3</td><td>Human</td><td>µM</td><td>NA</td><td>⋯</td><td>2.01</td><td>NA</td><td>NA</td><td>2.28</td><td>1.87</td><td>  NA</td><td>0.15</td><td>0.29</td><td>2.30</td><td>1.63</td></tr>\n",
       "\t<tr><td>R100323</td><td>113415</td><td>2675     </td><td>PSVD     </td><td>2</td><td>2</td><td>52.8</td><td>Human</td><td>µM</td><td>NA</td><td>⋯</td><td>2.20</td><td>NA</td><td>NA</td><td>  NA</td><td>2.09</td><td>  NA</td><td>0.13</td><td>0.56</td><td>  NA</td><td>1.63</td></tr>\n",
       "\t<tr><td>R100323</td><td>113416</td><td>2757     </td><td>Cirrhosis</td><td>1</td><td>1</td><td>59.4</td><td>Human</td><td>µM</td><td>NA</td><td>⋯</td><td>1.97</td><td>NA</td><td>NA</td><td>  NA</td><td>1.99</td><td>  NA</td><td>0.30</td><td>0.38</td><td>  NA</td><td>1.63</td></tr>\n",
       "\t<tr><td>R100323</td><td>113417</td><td>2792     </td><td>Cirrhosis</td><td>1</td><td>2</td><td>52.2</td><td>Human</td><td>µM</td><td>NA</td><td>⋯</td><td>4.18</td><td>NA</td><td>NA</td><td>2.34</td><td>2.19</td><td>  NA</td><td>0.68</td><td>0.50</td><td>  NA</td><td>1.64</td></tr>\n",
       "\t<tr><td>R100323</td><td>113418</td><td>2799     </td><td>Cirrhosis</td><td>1</td><td>1</td><td>40.7</td><td>Human</td><td>µM</td><td>NA</td><td>⋯</td><td>1.72</td><td>NA</td><td>NA</td><td>  NA</td><td>1.84</td><td>  NA</td><td>0.05</td><td>0.28</td><td>2.25</td><td>  NA</td></tr>\n",
       "\t<tr><td>R100323</td><td>113419</td><td>2805     </td><td>PSVD     </td><td>2</td><td>1</td><td>20.6</td><td>Human</td><td>µM</td><td>NA</td><td>⋯</td><td>1.81</td><td>NA</td><td>NA</td><td>2.28</td><td>1.90</td><td>  NA</td><td>0.07</td><td>0.31</td><td>  NA</td><td>  NA</td></tr>\n",
       "\t<tr><td>R100323</td><td>113420</td><td>2807     </td><td>Cirrhosis</td><td>1</td><td>1</td><td>68.7</td><td>Human</td><td>µM</td><td>NA</td><td>⋯</td><td>4.26</td><td>NA</td><td>NA</td><td>  NA</td><td>2.16</td><td>  NA</td><td>0.34</td><td>0.39</td><td>  NA</td><td>  NA</td></tr>\n",
       "\t<tr><td>R100323</td><td>113421</td><td>2841     </td><td>Cirrhosis</td><td>1</td><td>1</td><td>72.5</td><td>Human</td><td>µM</td><td>NA</td><td>⋯</td><td>1.76</td><td>NA</td><td>NA</td><td>  NA</td><td>2.03</td><td>  NA</td><td>0.12</td><td>0.35</td><td>  NA</td><td>1.64</td></tr>\n",
       "\t<tr><td>R100323</td><td>113422</td><td>2874     </td><td>Cirrhosis</td><td>1</td><td>2</td><td>54.9</td><td>Human</td><td>µM</td><td>NA</td><td>⋯</td><td>  NA</td><td>NA</td><td>NA</td><td>  NA</td><td>2.16</td><td>2.71</td><td>0.74</td><td>0.59</td><td>  NA</td><td>  NA</td></tr>\n",
       "\t<tr><td>R100323</td><td>113423</td><td>2889     </td><td>Cirrhosis</td><td>1</td><td>1</td><td>55.3</td><td>Human</td><td>µM</td><td>NA</td><td>⋯</td><td>1.55</td><td>NA</td><td>NA</td><td>  NA</td><td>1.82</td><td>  NA</td><td>0.09</td><td>0.26</td><td>  NA</td><td>1.63</td></tr>\n",
       "\t<tr><td>R100323</td><td>113424</td><td>2895     </td><td>Cirrhosis</td><td>1</td><td>1</td><td>42.0</td><td>Human</td><td>µM</td><td>NA</td><td>⋯</td><td>1.67</td><td>NA</td><td>NA</td><td>  NA</td><td>2.03</td><td>  NA</td><td>0.17</td><td>0.43</td><td>  NA</td><td>  NA</td></tr>\n",
       "\t<tr><td>R100323</td><td>113425</td><td>2915     </td><td>Cirrhosis</td><td>1</td><td>1</td><td>40.8</td><td>Human</td><td>µM</td><td>NA</td><td>⋯</td><td>2.70</td><td>NA</td><td>NA</td><td>  NA</td><td>2.07</td><td>2.93</td><td>0.25</td><td>0.51</td><td>  NA</td><td>1.63</td></tr>\n",
       "\t<tr><td>R100323</td><td>113426</td><td>2956     </td><td>Cirrhosis</td><td>1</td><td>1</td><td>49.2</td><td>Human</td><td>µM</td><td>NA</td><td>⋯</td><td>1.73</td><td>NA</td><td>NA</td><td>  NA</td><td>2.28</td><td>  NA</td><td>0.15</td><td>0.58</td><td>  NA</td><td>1.63</td></tr>\n",
       "\t<tr><td>R100323</td><td>113427</td><td>2978     </td><td>Cirrhosis</td><td>1</td><td>1</td><td>62.2</td><td>Human</td><td>µM</td><td>NA</td><td>⋯</td><td>1.81</td><td>NA</td><td>NA</td><td>2.30</td><td>1.93</td><td>  NA</td><td>0.04</td><td>0.32</td><td>  NA</td><td>1.63</td></tr>\n",
       "\t<tr><td>R100323</td><td>113428</td><td>2985     </td><td>Cirrhosis</td><td>1</td><td>1</td><td>57.4</td><td>Human</td><td>µM</td><td>NA</td><td>⋯</td><td>2.14</td><td>NA</td><td>NA</td><td>  NA</td><td>1.91</td><td>2.66</td><td>0.32</td><td>0.33</td><td>  NA</td><td>  NA</td></tr>\n",
       "\t<tr><td>R100323</td><td>113429</td><td>3058     </td><td>PSVD     </td><td>2</td><td>1</td><td>56.2</td><td>Human</td><td>µM</td><td>NA</td><td>⋯</td><td>1.72</td><td>NA</td><td>NA</td><td>  NA</td><td>1.91</td><td>  NA</td><td>0.12</td><td>0.33</td><td>  NA</td><td>  NA</td></tr>\n",
       "\t<tr><td>R100323</td><td>113430</td><td>3116     </td><td>PSVD     </td><td>2</td><td>1</td><td>49.9</td><td>Human</td><td>µM</td><td>NA</td><td>⋯</td><td>1.78</td><td>NA</td><td>NA</td><td>  NA</td><td>1.95</td><td>  NA</td><td>0.16</td><td>0.35</td><td>  NA</td><td>  NA</td></tr>\n",
       "\t<tr><td>R100323</td><td>113431</td><td>3220     </td><td>PSVD     </td><td>2</td><td>1</td><td>60.0</td><td>Human</td><td>µM</td><td>NA</td><td>⋯</td><td>2.11</td><td>NA</td><td>NA</td><td>2.28</td><td>2.12</td><td>  NA</td><td>0.18</td><td>0.47</td><td>  NA</td><td>1.63</td></tr>\n",
       "\t<tr><td>R100323</td><td>113432</td><td>3251     </td><td>PSVD     </td><td>2</td><td>2</td><td>57.5</td><td>Human</td><td>µM</td><td>NA</td><td>⋯</td><td>2.39</td><td>NA</td><td>NA</td><td>  NA</td><td>2.14</td><td>3.02</td><td>0.29</td><td>0.60</td><td>  NA</td><td>1.63</td></tr>\n",
       "\t<tr><td>R100323</td><td>113433</td><td>3272     </td><td>Cirrhosis</td><td>1</td><td>2</td><td>40.4</td><td>Human</td><td>µM</td><td>NA</td><td>⋯</td><td>1.54</td><td>NA</td><td>NA</td><td>  NA</td><td>2.03</td><td>2.50</td><td>0.28</td><td>0.42</td><td>2.40</td><td>  NA</td></tr>\n",
       "\t<tr><td>R100323</td><td>113434</td><td>3295     </td><td>Cirrhosis</td><td>1</td><td>1</td><td>64.6</td><td>Human</td><td>µM</td><td>NA</td><td>⋯</td><td>1.63</td><td>NA</td><td>NA</td><td>  NA</td><td>1.86</td><td>  NA</td><td>0.06</td><td>0.32</td><td>  NA</td><td>1.63</td></tr>\n",
       "\t<tr><td>R100323</td><td>113435</td><td>3310     </td><td>PSVD     </td><td>2</td><td>1</td><td>53.9</td><td>Human</td><td>µM</td><td>NA</td><td>⋯</td><td>1.59</td><td>NA</td><td>NA</td><td>2.30</td><td>1.88</td><td>  NA</td><td>0.10</td><td>0.33</td><td>  NA</td><td>  NA</td></tr>\n",
       "\t<tr><td>R100323</td><td>113436</td><td>3364     </td><td>PSVD     </td><td>2</td><td>1</td><td>40.8</td><td>Human</td><td>µM</td><td>NA</td><td>⋯</td><td>1.55</td><td>NA</td><td>NA</td><td>  NA</td><td>1.88</td><td>  NA</td><td>0.05</td><td>0.28</td><td>2.27</td><td>  NA</td></tr>\n",
       "\t<tr><td>R100323</td><td>113437</td><td>3446     </td><td>PSVD     </td><td>2</td><td>1</td><td>55.1</td><td>Human</td><td>µM</td><td>NA</td><td>⋯</td><td>1.65</td><td>NA</td><td>NA</td><td>2.27</td><td>1.86</td><td>  NA</td><td>0.05</td><td>0.29</td><td>  NA</td><td>  NA</td></tr>\n",
       "\t<tr><td>R100323</td><td>113438</td><td>3531     </td><td>PSVD     </td><td>2</td><td>2</td><td>34.2</td><td>Human</td><td>µM</td><td>NA</td><td>⋯</td><td>2.56</td><td>NA</td><td>NA</td><td>  NA</td><td>1.89</td><td>  NA</td><td>0.39</td><td>0.39</td><td>2.41</td><td>  NA</td></tr>\n",
       "\t<tr><td>R100323</td><td>113439</td><td>3516     </td><td>PSVD     </td><td>2</td><td>1</td><td>19.0</td><td>Human</td><td>µM</td><td>NA</td><td>⋯</td><td>1.67</td><td>NA</td><td>NA</td><td>  NA</td><td>1.87</td><td>  NA</td><td>0.14</td><td>0.30</td><td>2.29</td><td>  NA</td></tr>\n",
       "\t<tr><td>R100323</td><td>113440</td><td>VALID-104</td><td>PSVD     </td><td>2</td><td>1</td><td>52.0</td><td>Human</td><td>µM</td><td>NA</td><td>⋯</td><td>1.80</td><td>NA</td><td>NA</td><td>  NA</td><td>1.99</td><td>  NA</td><td>0.16</td><td>0.37</td><td>  NA</td><td>  NA</td></tr>\n",
       "\t<tr><td>R100323</td><td>113441</td><td>VALID-172</td><td>PSVD     </td><td>2</td><td>1</td><td>54.5</td><td>Human</td><td>µM</td><td>NA</td><td>⋯</td><td>1.74</td><td>NA</td><td>NA</td><td>  NA</td><td>1.85</td><td>  NA</td><td>0.07</td><td>0.30</td><td>  NA</td><td>1.63</td></tr>\n",
       "\t<tr><td>R100323</td><td>113442</td><td>CON1     </td><td>Control  </td><td>3</td><td>2</td><td>29.3</td><td>Human</td><td>µM</td><td>NA</td><td>⋯</td><td>1.56</td><td>NA</td><td>NA</td><td>  NA</td><td>1.89</td><td>  NA</td><td>0.16</td><td>0.30</td><td>  NA</td><td>  NA</td></tr>\n",
       "\t<tr><td>R100323</td><td>113443</td><td>CON2     </td><td>Control  </td><td>3</td><td>2</td><td>37.8</td><td>Human</td><td>µM</td><td>NA</td><td>⋯</td><td>1.65</td><td>NA</td><td>NA</td><td>  NA</td><td>1.87</td><td>  NA</td><td>0.10</td><td>0.39</td><td>  NA</td><td>1.63</td></tr>\n",
       "\t<tr><td>R100323</td><td>113444</td><td>CON3     </td><td>Control  </td><td>3</td><td>2</td><td>54.5</td><td>Human</td><td>µM</td><td>NA</td><td>⋯</td><td>1.70</td><td>NA</td><td>NA</td><td>2.29</td><td>1.83</td><td>  NA</td><td>  NA</td><td>0.30</td><td>2.25</td><td>1.62</td></tr>\n",
       "\t<tr><td>R100323</td><td>113445</td><td>CON4     </td><td>Control  </td><td>3</td><td>1</td><td>75.6</td><td>Human</td><td>µM</td><td>NA</td><td>⋯</td><td>1.92</td><td>NA</td><td>NA</td><td>  NA</td><td>2.00</td><td>  NA</td><td>0.13</td><td>0.45</td><td>  NA</td><td>  NA</td></tr>\n",
       "\t<tr><td>R100323</td><td>113446</td><td>CON5     </td><td>Control  </td><td>3</td><td>1</td><td>43.4</td><td>Human</td><td>µM</td><td>NA</td><td>⋯</td><td>1.66</td><td>NA</td><td>NA</td><td>  NA</td><td>1.88</td><td>  NA</td><td>0.18</td><td>0.31</td><td>  NA</td><td>  NA</td></tr>\n",
       "\t<tr><td>R100323</td><td>113447</td><td>CON6     </td><td>Control  </td><td>3</td><td>2</td><td>62.6</td><td>Human</td><td>µM</td><td>NA</td><td>⋯</td><td>1.71</td><td>NA</td><td>NA</td><td>  NA</td><td>1.91</td><td>  NA</td><td>0.20</td><td>0.44</td><td>  NA</td><td>  NA</td></tr>\n",
       "\t<tr><td>R100323</td><td>113448</td><td>CON7     </td><td>Control  </td><td>3</td><td>1</td><td>30.5</td><td>Human</td><td>µM</td><td>NA</td><td>⋯</td><td>1.53</td><td>NA</td><td>NA</td><td>  NA</td><td>1.89</td><td>  NA</td><td>0.07</td><td>0.34</td><td>  NA</td><td>1.63</td></tr>\n",
       "\t<tr><td>R100323</td><td>113449</td><td>CON8     </td><td>Control  </td><td>3</td><td>1</td><td>53.8</td><td>Human</td><td>µM</td><td>NA</td><td>⋯</td><td>1.70</td><td>NA</td><td>NA</td><td>  NA</td><td>1.86</td><td>  NA</td><td>0.02</td><td>0.33</td><td>  NA</td><td>  NA</td></tr>\n",
       "\t<tr><td>R100323</td><td>113450</td><td>CON11    </td><td>Control  </td><td>3</td><td>1</td><td>52.3</td><td>Human</td><td>µM</td><td>NA</td><td>⋯</td><td>2.05</td><td>NA</td><td>NA</td><td>  NA</td><td>1.89</td><td>  NA</td><td>0.24</td><td>0.33</td><td>  NA</td><td>1.63</td></tr>\n",
       "\t<tr><td>R100323</td><td>113451</td><td>CON12    </td><td>Control  </td><td>3</td><td>1</td><td>62.5</td><td>Human</td><td>µM</td><td>NA</td><td>⋯</td><td>1.68</td><td>NA</td><td>NA</td><td>  NA</td><td>1.91</td><td>  NA</td><td>0.22</td><td>0.42</td><td>  NA</td><td>  NA</td></tr>\n",
       "\t<tr><td>R100323</td><td>113452</td><td>CON17    </td><td>Control  </td><td>3</td><td>1</td><td>40.3</td><td>Human</td><td>µM</td><td>NA</td><td>⋯</td><td>1.64</td><td>NA</td><td>NA</td><td>  NA</td><td>1.93</td><td>  NA</td><td>0.12</td><td>0.39</td><td>  NA</td><td>  NA</td></tr>\n",
       "\t<tr><td>R100323</td><td>113453</td><td>CON18    </td><td>Control  </td><td>3</td><td>1</td><td>32.8</td><td>Human</td><td>µM</td><td>NA</td><td>⋯</td><td>1.72</td><td>NA</td><td>NA</td><td>  NA</td><td>1.88</td><td>  NA</td><td>0.13</td><td>0.37</td><td>  NA</td><td>  NA</td></tr>\n",
       "\t<tr><td>R100323</td><td>113454</td><td>CON19    </td><td>Control  </td><td>3</td><td>2</td><td>43.2</td><td>Human</td><td>µM</td><td>NA</td><td>⋯</td><td>1.63</td><td>NA</td><td>NA</td><td>  NA</td><td>1.84</td><td>  NA</td><td>0.14</td><td>0.35</td><td>  NA</td><td>  NA</td></tr>\n",
       "\t<tr><td>R100323</td><td>113455</td><td>CON20    </td><td>Control  </td><td>3</td><td>1</td><td>43.1</td><td>Human</td><td>µM</td><td>NA</td><td>⋯</td><td>1.80</td><td>NA</td><td>NA</td><td>  NA</td><td>1.93</td><td>  NA</td><td>0.11</td><td>0.41</td><td>  NA</td><td>1.63</td></tr>\n",
       "\t<tr><td>R100323</td><td>113456</td><td>CON21    </td><td>Control  </td><td>3</td><td>1</td><td>34.7</td><td>Human</td><td>µM</td><td>NA</td><td>⋯</td><td>1.51</td><td>NA</td><td>NA</td><td>  NA</td><td>1.85</td><td>  NA</td><td>0.17</td><td>0.32</td><td>  NA</td><td>  NA</td></tr>\n",
       "\t<tr><td>R100323</td><td>113457</td><td>CON22    </td><td>Control  </td><td>3</td><td>1</td><td>64.3</td><td>Human</td><td>µM</td><td>NA</td><td>⋯</td><td>1.97</td><td>NA</td><td>NA</td><td>2.33</td><td>1.90</td><td>2.81</td><td>0.51</td><td>0.36</td><td>2.39</td><td>1.64</td></tr>\n",
       "\t<tr><td>R100323</td><td>113458</td><td>CON23    </td><td>Control  </td><td>3</td><td>2</td><td>63.5</td><td>Human</td><td>µM</td><td>NA</td><td>⋯</td><td>1.59</td><td>NA</td><td>NA</td><td>  NA</td><td>1.84</td><td>  NA</td><td>0.15</td><td>0.32</td><td>  NA</td><td>1.63</td></tr>\n",
       "\t<tr><td>R100323</td><td>113459</td><td>CON24    </td><td>Control  </td><td>3</td><td>1</td><td>55.8</td><td>Human</td><td>µM</td><td>NA</td><td>⋯</td><td>1.59</td><td>NA</td><td>NA</td><td>  NA</td><td>1.88</td><td>  NA</td><td>0.17</td><td>0.34</td><td>  NA</td><td>  NA</td></tr>\n",
       "\t<tr><td>R100323</td><td>113460</td><td>CON25    </td><td>Control  </td><td>3</td><td>2</td><td>52.1</td><td>Human</td><td>µM</td><td>NA</td><td>⋯</td><td>1.86</td><td>NA</td><td>NA</td><td>  NA</td><td>1.90</td><td>  NA</td><td>0.12</td><td>0.40</td><td>  NA</td><td>1.63</td></tr>\n",
       "\t<tr><td>R100323</td><td>113461</td><td>CON26    </td><td>Control  </td><td>3</td><td>1</td><td>57.7</td><td>Human</td><td>µM</td><td>NA</td><td>⋯</td><td>1.65</td><td>NA</td><td>NA</td><td>2.35</td><td>1.85</td><td>  NA</td><td>0.12</td><td>0.35</td><td>  NA</td><td>  NA</td></tr>\n",
       "</tbody>\n",
       "</table>\n"
      ],
      "text/latex": [
       "A data.frame: 60 × 44\n",
       "\\begin{tabular}{lllllllllllllllllllll}\n",
       " RunID & Sample Code & Sample Identification & Sample Description & Group\\_123 & Sex & Age & Specimen & Unit & Formic acid (C1:0) & ⋯ & Linolenic acid (C18:3) & Nonadecanoic acid (C19:0) & isononadecanoic acid (17-Me-18:0) & Arachidic (C20:0) & Arachidonic acid (20:4) & Behenic acid (C22:0) & Erucic acid (C22:1) & cis-4,7,10,13,16,19-Docosahexaenoic acid (C22:6) & Lignoceric acid (C24:0) & Nervonic acid (C24:1)\\\\\n",
       " <chr> & <int> & <chr> & <chr> & <int> & <int> & <dbl> & <chr> & <chr> & <lgl> & ⋯ & <dbl> & <lgl> & <lgl> & <dbl> & <dbl> & <dbl> & <dbl> & <dbl> & <dbl> & <dbl>\\\\\n",
       "\\hline\n",
       "\t R100323 & 113402 & 2341      & Cirrhosis & 1 & 1 & 44.7 & Human & µM & NA & ⋯ & 1.59 & NA & NA &   NA & 1.91 &   NA & 0.23 & 0.26 &   NA & 1.63\\\\\n",
       "\t R100323 & 113403 & 2344      & Cirrhosis & 1 & 1 & 40.8 & Human & µM & NA & ⋯ & 2.50 & NA & NA &   NA & 1.94 &   NA & 0.20 & 0.39 & 2.32 & 1.64\\\\\n",
       "\t R100323 & 113404 & 2358      & PSVD      & 2 & 2 & 34.3 & Human & µM & NA & ⋯ & 2.17 & NA & NA &   NA & 1.88 &   NA & 0.12 & 0.33 &   NA & 1.63\\\\\n",
       "\t R100323 & 113405 & 2360      & Cirrhosis & 1 & 2 & 48.5 & Human & µM & NA & ⋯ & 1.67 & NA & NA & 2.27 & 1.99 &   NA & 0.08 & 0.33 & 2.27 & 1.63\\\\\n",
       "\t R100323 & 113406 & 2390      & PSVD      & 2 & 2 & 40.3 & Human & µM & NA & ⋯ & 1.74 & NA & NA & 2.29 & 1.87 &   NA & 0.15 & 0.33 & 2.28 & 1.65\\\\\n",
       "\t R100323 & 113407 & 2427      & PSVD      & 2 & 1 & 57.8 & Human & µM & NA & ⋯ & 1.62 & NA & NA & 2.30 & 1.97 &   NA & 0.19 & 0.35 &   NA & 1.65\\\\\n",
       "\t R100323 & 113408 & 2432      & PSVD      & 2 & 2 & 46.0 & Human & µM & NA & ⋯ & 1.73 & NA & NA &   NA & 1.91 &   NA & 0.07 & 0.30 &   NA & 1.63\\\\\n",
       "\t R100323 & 113409 & 2486      & Cirrhosis & 1 & 1 & 53.7 & Human & µM & NA & ⋯ & 1.76 & NA & NA & 2.30 & 1.85 &   NA & 0.06 & 0.29 &   NA & 1.63\\\\\n",
       "\t R100323 & 113410 & 2536      & Cirrhosis & 1 & 1 & 64.9 & Human & µM & NA & ⋯ & 1.65 & NA & NA & 2.30 & 1.87 &   NA & 0.04 & 0.32 &   NA & 1.63\\\\\n",
       "\t R100323 & 113411 & 2578      & Cirrhosis & 1 & 1 & 48.2 & Human & µM & NA & ⋯ & 1.59 & NA & NA & 2.26 & 1.86 &   NA & 0.04 & 0.28 &   NA & 1.64\\\\\n",
       "\t R100323 & 113412 & 2588      & PSVD      & 2 & 2 & 37.0 & Human & µM & NA & ⋯ & 3.05 & NA & NA & 2.34 & 2.25 &   NA & 0.35 & 0.64 &   NA & 1.66\\\\\n",
       "\t R100323 & 113413 & 2621      & PSVD      & 2 & 1 & 54.9 & Human & µM & NA & ⋯ & 1.72 & NA & NA &   NA & 2.08 &   NA & 0.10 & 0.40 &   NA &   NA\\\\\n",
       "\t R100323 & 113414 & 2658      & PSVD      & 2 & 1 & 19.3 & Human & µM & NA & ⋯ & 2.01 & NA & NA & 2.28 & 1.87 &   NA & 0.15 & 0.29 & 2.30 & 1.63\\\\\n",
       "\t R100323 & 113415 & 2675      & PSVD      & 2 & 2 & 52.8 & Human & µM & NA & ⋯ & 2.20 & NA & NA &   NA & 2.09 &   NA & 0.13 & 0.56 &   NA & 1.63\\\\\n",
       "\t R100323 & 113416 & 2757      & Cirrhosis & 1 & 1 & 59.4 & Human & µM & NA & ⋯ & 1.97 & NA & NA &   NA & 1.99 &   NA & 0.30 & 0.38 &   NA & 1.63\\\\\n",
       "\t R100323 & 113417 & 2792      & Cirrhosis & 1 & 2 & 52.2 & Human & µM & NA & ⋯ & 4.18 & NA & NA & 2.34 & 2.19 &   NA & 0.68 & 0.50 &   NA & 1.64\\\\\n",
       "\t R100323 & 113418 & 2799      & Cirrhosis & 1 & 1 & 40.7 & Human & µM & NA & ⋯ & 1.72 & NA & NA &   NA & 1.84 &   NA & 0.05 & 0.28 & 2.25 &   NA\\\\\n",
       "\t R100323 & 113419 & 2805      & PSVD      & 2 & 1 & 20.6 & Human & µM & NA & ⋯ & 1.81 & NA & NA & 2.28 & 1.90 &   NA & 0.07 & 0.31 &   NA &   NA\\\\\n",
       "\t R100323 & 113420 & 2807      & Cirrhosis & 1 & 1 & 68.7 & Human & µM & NA & ⋯ & 4.26 & NA & NA &   NA & 2.16 &   NA & 0.34 & 0.39 &   NA &   NA\\\\\n",
       "\t R100323 & 113421 & 2841      & Cirrhosis & 1 & 1 & 72.5 & Human & µM & NA & ⋯ & 1.76 & NA & NA &   NA & 2.03 &   NA & 0.12 & 0.35 &   NA & 1.64\\\\\n",
       "\t R100323 & 113422 & 2874      & Cirrhosis & 1 & 2 & 54.9 & Human & µM & NA & ⋯ &   NA & NA & NA &   NA & 2.16 & 2.71 & 0.74 & 0.59 &   NA &   NA\\\\\n",
       "\t R100323 & 113423 & 2889      & Cirrhosis & 1 & 1 & 55.3 & Human & µM & NA & ⋯ & 1.55 & NA & NA &   NA & 1.82 &   NA & 0.09 & 0.26 &   NA & 1.63\\\\\n",
       "\t R100323 & 113424 & 2895      & Cirrhosis & 1 & 1 & 42.0 & Human & µM & NA & ⋯ & 1.67 & NA & NA &   NA & 2.03 &   NA & 0.17 & 0.43 &   NA &   NA\\\\\n",
       "\t R100323 & 113425 & 2915      & Cirrhosis & 1 & 1 & 40.8 & Human & µM & NA & ⋯ & 2.70 & NA & NA &   NA & 2.07 & 2.93 & 0.25 & 0.51 &   NA & 1.63\\\\\n",
       "\t R100323 & 113426 & 2956      & Cirrhosis & 1 & 1 & 49.2 & Human & µM & NA & ⋯ & 1.73 & NA & NA &   NA & 2.28 &   NA & 0.15 & 0.58 &   NA & 1.63\\\\\n",
       "\t R100323 & 113427 & 2978      & Cirrhosis & 1 & 1 & 62.2 & Human & µM & NA & ⋯ & 1.81 & NA & NA & 2.30 & 1.93 &   NA & 0.04 & 0.32 &   NA & 1.63\\\\\n",
       "\t R100323 & 113428 & 2985      & Cirrhosis & 1 & 1 & 57.4 & Human & µM & NA & ⋯ & 2.14 & NA & NA &   NA & 1.91 & 2.66 & 0.32 & 0.33 &   NA &   NA\\\\\n",
       "\t R100323 & 113429 & 3058      & PSVD      & 2 & 1 & 56.2 & Human & µM & NA & ⋯ & 1.72 & NA & NA &   NA & 1.91 &   NA & 0.12 & 0.33 &   NA &   NA\\\\\n",
       "\t R100323 & 113430 & 3116      & PSVD      & 2 & 1 & 49.9 & Human & µM & NA & ⋯ & 1.78 & NA & NA &   NA & 1.95 &   NA & 0.16 & 0.35 &   NA &   NA\\\\\n",
       "\t R100323 & 113431 & 3220      & PSVD      & 2 & 1 & 60.0 & Human & µM & NA & ⋯ & 2.11 & NA & NA & 2.28 & 2.12 &   NA & 0.18 & 0.47 &   NA & 1.63\\\\\n",
       "\t R100323 & 113432 & 3251      & PSVD      & 2 & 2 & 57.5 & Human & µM & NA & ⋯ & 2.39 & NA & NA &   NA & 2.14 & 3.02 & 0.29 & 0.60 &   NA & 1.63\\\\\n",
       "\t R100323 & 113433 & 3272      & Cirrhosis & 1 & 2 & 40.4 & Human & µM & NA & ⋯ & 1.54 & NA & NA &   NA & 2.03 & 2.50 & 0.28 & 0.42 & 2.40 &   NA\\\\\n",
       "\t R100323 & 113434 & 3295      & Cirrhosis & 1 & 1 & 64.6 & Human & µM & NA & ⋯ & 1.63 & NA & NA &   NA & 1.86 &   NA & 0.06 & 0.32 &   NA & 1.63\\\\\n",
       "\t R100323 & 113435 & 3310      & PSVD      & 2 & 1 & 53.9 & Human & µM & NA & ⋯ & 1.59 & NA & NA & 2.30 & 1.88 &   NA & 0.10 & 0.33 &   NA &   NA\\\\\n",
       "\t R100323 & 113436 & 3364      & PSVD      & 2 & 1 & 40.8 & Human & µM & NA & ⋯ & 1.55 & NA & NA &   NA & 1.88 &   NA & 0.05 & 0.28 & 2.27 &   NA\\\\\n",
       "\t R100323 & 113437 & 3446      & PSVD      & 2 & 1 & 55.1 & Human & µM & NA & ⋯ & 1.65 & NA & NA & 2.27 & 1.86 &   NA & 0.05 & 0.29 &   NA &   NA\\\\\n",
       "\t R100323 & 113438 & 3531      & PSVD      & 2 & 2 & 34.2 & Human & µM & NA & ⋯ & 2.56 & NA & NA &   NA & 1.89 &   NA & 0.39 & 0.39 & 2.41 &   NA\\\\\n",
       "\t R100323 & 113439 & 3516      & PSVD      & 2 & 1 & 19.0 & Human & µM & NA & ⋯ & 1.67 & NA & NA &   NA & 1.87 &   NA & 0.14 & 0.30 & 2.29 &   NA\\\\\n",
       "\t R100323 & 113440 & VALID-104 & PSVD      & 2 & 1 & 52.0 & Human & µM & NA & ⋯ & 1.80 & NA & NA &   NA & 1.99 &   NA & 0.16 & 0.37 &   NA &   NA\\\\\n",
       "\t R100323 & 113441 & VALID-172 & PSVD      & 2 & 1 & 54.5 & Human & µM & NA & ⋯ & 1.74 & NA & NA &   NA & 1.85 &   NA & 0.07 & 0.30 &   NA & 1.63\\\\\n",
       "\t R100323 & 113442 & CON1      & Control   & 3 & 2 & 29.3 & Human & µM & NA & ⋯ & 1.56 & NA & NA &   NA & 1.89 &   NA & 0.16 & 0.30 &   NA &   NA\\\\\n",
       "\t R100323 & 113443 & CON2      & Control   & 3 & 2 & 37.8 & Human & µM & NA & ⋯ & 1.65 & NA & NA &   NA & 1.87 &   NA & 0.10 & 0.39 &   NA & 1.63\\\\\n",
       "\t R100323 & 113444 & CON3      & Control   & 3 & 2 & 54.5 & Human & µM & NA & ⋯ & 1.70 & NA & NA & 2.29 & 1.83 &   NA &   NA & 0.30 & 2.25 & 1.62\\\\\n",
       "\t R100323 & 113445 & CON4      & Control   & 3 & 1 & 75.6 & Human & µM & NA & ⋯ & 1.92 & NA & NA &   NA & 2.00 &   NA & 0.13 & 0.45 &   NA &   NA\\\\\n",
       "\t R100323 & 113446 & CON5      & Control   & 3 & 1 & 43.4 & Human & µM & NA & ⋯ & 1.66 & NA & NA &   NA & 1.88 &   NA & 0.18 & 0.31 &   NA &   NA\\\\\n",
       "\t R100323 & 113447 & CON6      & Control   & 3 & 2 & 62.6 & Human & µM & NA & ⋯ & 1.71 & NA & NA &   NA & 1.91 &   NA & 0.20 & 0.44 &   NA &   NA\\\\\n",
       "\t R100323 & 113448 & CON7      & Control   & 3 & 1 & 30.5 & Human & µM & NA & ⋯ & 1.53 & NA & NA &   NA & 1.89 &   NA & 0.07 & 0.34 &   NA & 1.63\\\\\n",
       "\t R100323 & 113449 & CON8      & Control   & 3 & 1 & 53.8 & Human & µM & NA & ⋯ & 1.70 & NA & NA &   NA & 1.86 &   NA & 0.02 & 0.33 &   NA &   NA\\\\\n",
       "\t R100323 & 113450 & CON11     & Control   & 3 & 1 & 52.3 & Human & µM & NA & ⋯ & 2.05 & NA & NA &   NA & 1.89 &   NA & 0.24 & 0.33 &   NA & 1.63\\\\\n",
       "\t R100323 & 113451 & CON12     & Control   & 3 & 1 & 62.5 & Human & µM & NA & ⋯ & 1.68 & NA & NA &   NA & 1.91 &   NA & 0.22 & 0.42 &   NA &   NA\\\\\n",
       "\t R100323 & 113452 & CON17     & Control   & 3 & 1 & 40.3 & Human & µM & NA & ⋯ & 1.64 & NA & NA &   NA & 1.93 &   NA & 0.12 & 0.39 &   NA &   NA\\\\\n",
       "\t R100323 & 113453 & CON18     & Control   & 3 & 1 & 32.8 & Human & µM & NA & ⋯ & 1.72 & NA & NA &   NA & 1.88 &   NA & 0.13 & 0.37 &   NA &   NA\\\\\n",
       "\t R100323 & 113454 & CON19     & Control   & 3 & 2 & 43.2 & Human & µM & NA & ⋯ & 1.63 & NA & NA &   NA & 1.84 &   NA & 0.14 & 0.35 &   NA &   NA\\\\\n",
       "\t R100323 & 113455 & CON20     & Control   & 3 & 1 & 43.1 & Human & µM & NA & ⋯ & 1.80 & NA & NA &   NA & 1.93 &   NA & 0.11 & 0.41 &   NA & 1.63\\\\\n",
       "\t R100323 & 113456 & CON21     & Control   & 3 & 1 & 34.7 & Human & µM & NA & ⋯ & 1.51 & NA & NA &   NA & 1.85 &   NA & 0.17 & 0.32 &   NA &   NA\\\\\n",
       "\t R100323 & 113457 & CON22     & Control   & 3 & 1 & 64.3 & Human & µM & NA & ⋯ & 1.97 & NA & NA & 2.33 & 1.90 & 2.81 & 0.51 & 0.36 & 2.39 & 1.64\\\\\n",
       "\t R100323 & 113458 & CON23     & Control   & 3 & 2 & 63.5 & Human & µM & NA & ⋯ & 1.59 & NA & NA &   NA & 1.84 &   NA & 0.15 & 0.32 &   NA & 1.63\\\\\n",
       "\t R100323 & 113459 & CON24     & Control   & 3 & 1 & 55.8 & Human & µM & NA & ⋯ & 1.59 & NA & NA &   NA & 1.88 &   NA & 0.17 & 0.34 &   NA &   NA\\\\\n",
       "\t R100323 & 113460 & CON25     & Control   & 3 & 2 & 52.1 & Human & µM & NA & ⋯ & 1.86 & NA & NA &   NA & 1.90 &   NA & 0.12 & 0.40 &   NA & 1.63\\\\\n",
       "\t R100323 & 113461 & CON26     & Control   & 3 & 1 & 57.7 & Human & µM & NA & ⋯ & 1.65 & NA & NA & 2.35 & 1.85 &   NA & 0.12 & 0.35 &   NA &   NA\\\\\n",
       "\\end{tabular}\n"
      ],
      "text/markdown": [
       "\n",
       "A data.frame: 60 × 44\n",
       "\n",
       "| RunID &lt;chr&gt; | Sample Code &lt;int&gt; | Sample Identification &lt;chr&gt; | Sample Description &lt;chr&gt; | Group_123 &lt;int&gt; | Sex &lt;int&gt; | Age &lt;dbl&gt; | Specimen &lt;chr&gt; | Unit &lt;chr&gt; | Formic acid (C1:0) &lt;lgl&gt; | ⋯ ⋯ | Linolenic acid (C18:3) &lt;dbl&gt; | Nonadecanoic acid (C19:0) &lt;lgl&gt; | isononadecanoic acid (17-Me-18:0) &lt;lgl&gt; | Arachidic (C20:0) &lt;dbl&gt; | Arachidonic acid (20:4) &lt;dbl&gt; | Behenic acid (C22:0) &lt;dbl&gt; | Erucic acid (C22:1) &lt;dbl&gt; | cis-4,7,10,13,16,19-Docosahexaenoic acid (C22:6) &lt;dbl&gt; | Lignoceric acid (C24:0) &lt;dbl&gt; | Nervonic acid (C24:1) &lt;dbl&gt; |\n",
       "|---|---|---|---|---|---|---|---|---|---|---|---|---|---|---|---|---|---|---|---|---|\n",
       "| R100323 | 113402 | 2341      | Cirrhosis | 1 | 1 | 44.7 | Human | µM | NA | ⋯ | 1.59 | NA | NA |   NA | 1.91 |   NA | 0.23 | 0.26 |   NA | 1.63 |\n",
       "| R100323 | 113403 | 2344      | Cirrhosis | 1 | 1 | 40.8 | Human | µM | NA | ⋯ | 2.50 | NA | NA |   NA | 1.94 |   NA | 0.20 | 0.39 | 2.32 | 1.64 |\n",
       "| R100323 | 113404 | 2358      | PSVD      | 2 | 2 | 34.3 | Human | µM | NA | ⋯ | 2.17 | NA | NA |   NA | 1.88 |   NA | 0.12 | 0.33 |   NA | 1.63 |\n",
       "| R100323 | 113405 | 2360      | Cirrhosis | 1 | 2 | 48.5 | Human | µM | NA | ⋯ | 1.67 | NA | NA | 2.27 | 1.99 |   NA | 0.08 | 0.33 | 2.27 | 1.63 |\n",
       "| R100323 | 113406 | 2390      | PSVD      | 2 | 2 | 40.3 | Human | µM | NA | ⋯ | 1.74 | NA | NA | 2.29 | 1.87 |   NA | 0.15 | 0.33 | 2.28 | 1.65 |\n",
       "| R100323 | 113407 | 2427      | PSVD      | 2 | 1 | 57.8 | Human | µM | NA | ⋯ | 1.62 | NA | NA | 2.30 | 1.97 |   NA | 0.19 | 0.35 |   NA | 1.65 |\n",
       "| R100323 | 113408 | 2432      | PSVD      | 2 | 2 | 46.0 | Human | µM | NA | ⋯ | 1.73 | NA | NA |   NA | 1.91 |   NA | 0.07 | 0.30 |   NA | 1.63 |\n",
       "| R100323 | 113409 | 2486      | Cirrhosis | 1 | 1 | 53.7 | Human | µM | NA | ⋯ | 1.76 | NA | NA | 2.30 | 1.85 |   NA | 0.06 | 0.29 |   NA | 1.63 |\n",
       "| R100323 | 113410 | 2536      | Cirrhosis | 1 | 1 | 64.9 | Human | µM | NA | ⋯ | 1.65 | NA | NA | 2.30 | 1.87 |   NA | 0.04 | 0.32 |   NA | 1.63 |\n",
       "| R100323 | 113411 | 2578      | Cirrhosis | 1 | 1 | 48.2 | Human | µM | NA | ⋯ | 1.59 | NA | NA | 2.26 | 1.86 |   NA | 0.04 | 0.28 |   NA | 1.64 |\n",
       "| R100323 | 113412 | 2588      | PSVD      | 2 | 2 | 37.0 | Human | µM | NA | ⋯ | 3.05 | NA | NA | 2.34 | 2.25 |   NA | 0.35 | 0.64 |   NA | 1.66 |\n",
       "| R100323 | 113413 | 2621      | PSVD      | 2 | 1 | 54.9 | Human | µM | NA | ⋯ | 1.72 | NA | NA |   NA | 2.08 |   NA | 0.10 | 0.40 |   NA |   NA |\n",
       "| R100323 | 113414 | 2658      | PSVD      | 2 | 1 | 19.3 | Human | µM | NA | ⋯ | 2.01 | NA | NA | 2.28 | 1.87 |   NA | 0.15 | 0.29 | 2.30 | 1.63 |\n",
       "| R100323 | 113415 | 2675      | PSVD      | 2 | 2 | 52.8 | Human | µM | NA | ⋯ | 2.20 | NA | NA |   NA | 2.09 |   NA | 0.13 | 0.56 |   NA | 1.63 |\n",
       "| R100323 | 113416 | 2757      | Cirrhosis | 1 | 1 | 59.4 | Human | µM | NA | ⋯ | 1.97 | NA | NA |   NA | 1.99 |   NA | 0.30 | 0.38 |   NA | 1.63 |\n",
       "| R100323 | 113417 | 2792      | Cirrhosis | 1 | 2 | 52.2 | Human | µM | NA | ⋯ | 4.18 | NA | NA | 2.34 | 2.19 |   NA | 0.68 | 0.50 |   NA | 1.64 |\n",
       "| R100323 | 113418 | 2799      | Cirrhosis | 1 | 1 | 40.7 | Human | µM | NA | ⋯ | 1.72 | NA | NA |   NA | 1.84 |   NA | 0.05 | 0.28 | 2.25 |   NA |\n",
       "| R100323 | 113419 | 2805      | PSVD      | 2 | 1 | 20.6 | Human | µM | NA | ⋯ | 1.81 | NA | NA | 2.28 | 1.90 |   NA | 0.07 | 0.31 |   NA |   NA |\n",
       "| R100323 | 113420 | 2807      | Cirrhosis | 1 | 1 | 68.7 | Human | µM | NA | ⋯ | 4.26 | NA | NA |   NA | 2.16 |   NA | 0.34 | 0.39 |   NA |   NA |\n",
       "| R100323 | 113421 | 2841      | Cirrhosis | 1 | 1 | 72.5 | Human | µM | NA | ⋯ | 1.76 | NA | NA |   NA | 2.03 |   NA | 0.12 | 0.35 |   NA | 1.64 |\n",
       "| R100323 | 113422 | 2874      | Cirrhosis | 1 | 2 | 54.9 | Human | µM | NA | ⋯ |   NA | NA | NA |   NA | 2.16 | 2.71 | 0.74 | 0.59 |   NA |   NA |\n",
       "| R100323 | 113423 | 2889      | Cirrhosis | 1 | 1 | 55.3 | Human | µM | NA | ⋯ | 1.55 | NA | NA |   NA | 1.82 |   NA | 0.09 | 0.26 |   NA | 1.63 |\n",
       "| R100323 | 113424 | 2895      | Cirrhosis | 1 | 1 | 42.0 | Human | µM | NA | ⋯ | 1.67 | NA | NA |   NA | 2.03 |   NA | 0.17 | 0.43 |   NA |   NA |\n",
       "| R100323 | 113425 | 2915      | Cirrhosis | 1 | 1 | 40.8 | Human | µM | NA | ⋯ | 2.70 | NA | NA |   NA | 2.07 | 2.93 | 0.25 | 0.51 |   NA | 1.63 |\n",
       "| R100323 | 113426 | 2956      | Cirrhosis | 1 | 1 | 49.2 | Human | µM | NA | ⋯ | 1.73 | NA | NA |   NA | 2.28 |   NA | 0.15 | 0.58 |   NA | 1.63 |\n",
       "| R100323 | 113427 | 2978      | Cirrhosis | 1 | 1 | 62.2 | Human | µM | NA | ⋯ | 1.81 | NA | NA | 2.30 | 1.93 |   NA | 0.04 | 0.32 |   NA | 1.63 |\n",
       "| R100323 | 113428 | 2985      | Cirrhosis | 1 | 1 | 57.4 | Human | µM | NA | ⋯ | 2.14 | NA | NA |   NA | 1.91 | 2.66 | 0.32 | 0.33 |   NA |   NA |\n",
       "| R100323 | 113429 | 3058      | PSVD      | 2 | 1 | 56.2 | Human | µM | NA | ⋯ | 1.72 | NA | NA |   NA | 1.91 |   NA | 0.12 | 0.33 |   NA |   NA |\n",
       "| R100323 | 113430 | 3116      | PSVD      | 2 | 1 | 49.9 | Human | µM | NA | ⋯ | 1.78 | NA | NA |   NA | 1.95 |   NA | 0.16 | 0.35 |   NA |   NA |\n",
       "| R100323 | 113431 | 3220      | PSVD      | 2 | 1 | 60.0 | Human | µM | NA | ⋯ | 2.11 | NA | NA | 2.28 | 2.12 |   NA | 0.18 | 0.47 |   NA | 1.63 |\n",
       "| R100323 | 113432 | 3251      | PSVD      | 2 | 2 | 57.5 | Human | µM | NA | ⋯ | 2.39 | NA | NA |   NA | 2.14 | 3.02 | 0.29 | 0.60 |   NA | 1.63 |\n",
       "| R100323 | 113433 | 3272      | Cirrhosis | 1 | 2 | 40.4 | Human | µM | NA | ⋯ | 1.54 | NA | NA |   NA | 2.03 | 2.50 | 0.28 | 0.42 | 2.40 |   NA |\n",
       "| R100323 | 113434 | 3295      | Cirrhosis | 1 | 1 | 64.6 | Human | µM | NA | ⋯ | 1.63 | NA | NA |   NA | 1.86 |   NA | 0.06 | 0.32 |   NA | 1.63 |\n",
       "| R100323 | 113435 | 3310      | PSVD      | 2 | 1 | 53.9 | Human | µM | NA | ⋯ | 1.59 | NA | NA | 2.30 | 1.88 |   NA | 0.10 | 0.33 |   NA |   NA |\n",
       "| R100323 | 113436 | 3364      | PSVD      | 2 | 1 | 40.8 | Human | µM | NA | ⋯ | 1.55 | NA | NA |   NA | 1.88 |   NA | 0.05 | 0.28 | 2.27 |   NA |\n",
       "| R100323 | 113437 | 3446      | PSVD      | 2 | 1 | 55.1 | Human | µM | NA | ⋯ | 1.65 | NA | NA | 2.27 | 1.86 |   NA | 0.05 | 0.29 |   NA |   NA |\n",
       "| R100323 | 113438 | 3531      | PSVD      | 2 | 2 | 34.2 | Human | µM | NA | ⋯ | 2.56 | NA | NA |   NA | 1.89 |   NA | 0.39 | 0.39 | 2.41 |   NA |\n",
       "| R100323 | 113439 | 3516      | PSVD      | 2 | 1 | 19.0 | Human | µM | NA | ⋯ | 1.67 | NA | NA |   NA | 1.87 |   NA | 0.14 | 0.30 | 2.29 |   NA |\n",
       "| R100323 | 113440 | VALID-104 | PSVD      | 2 | 1 | 52.0 | Human | µM | NA | ⋯ | 1.80 | NA | NA |   NA | 1.99 |   NA | 0.16 | 0.37 |   NA |   NA |\n",
       "| R100323 | 113441 | VALID-172 | PSVD      | 2 | 1 | 54.5 | Human | µM | NA | ⋯ | 1.74 | NA | NA |   NA | 1.85 |   NA | 0.07 | 0.30 |   NA | 1.63 |\n",
       "| R100323 | 113442 | CON1      | Control   | 3 | 2 | 29.3 | Human | µM | NA | ⋯ | 1.56 | NA | NA |   NA | 1.89 |   NA | 0.16 | 0.30 |   NA |   NA |\n",
       "| R100323 | 113443 | CON2      | Control   | 3 | 2 | 37.8 | Human | µM | NA | ⋯ | 1.65 | NA | NA |   NA | 1.87 |   NA | 0.10 | 0.39 |   NA | 1.63 |\n",
       "| R100323 | 113444 | CON3      | Control   | 3 | 2 | 54.5 | Human | µM | NA | ⋯ | 1.70 | NA | NA | 2.29 | 1.83 |   NA |   NA | 0.30 | 2.25 | 1.62 |\n",
       "| R100323 | 113445 | CON4      | Control   | 3 | 1 | 75.6 | Human | µM | NA | ⋯ | 1.92 | NA | NA |   NA | 2.00 |   NA | 0.13 | 0.45 |   NA |   NA |\n",
       "| R100323 | 113446 | CON5      | Control   | 3 | 1 | 43.4 | Human | µM | NA | ⋯ | 1.66 | NA | NA |   NA | 1.88 |   NA | 0.18 | 0.31 |   NA |   NA |\n",
       "| R100323 | 113447 | CON6      | Control   | 3 | 2 | 62.6 | Human | µM | NA | ⋯ | 1.71 | NA | NA |   NA | 1.91 |   NA | 0.20 | 0.44 |   NA |   NA |\n",
       "| R100323 | 113448 | CON7      | Control   | 3 | 1 | 30.5 | Human | µM | NA | ⋯ | 1.53 | NA | NA |   NA | 1.89 |   NA | 0.07 | 0.34 |   NA | 1.63 |\n",
       "| R100323 | 113449 | CON8      | Control   | 3 | 1 | 53.8 | Human | µM | NA | ⋯ | 1.70 | NA | NA |   NA | 1.86 |   NA | 0.02 | 0.33 |   NA |   NA |\n",
       "| R100323 | 113450 | CON11     | Control   | 3 | 1 | 52.3 | Human | µM | NA | ⋯ | 2.05 | NA | NA |   NA | 1.89 |   NA | 0.24 | 0.33 |   NA | 1.63 |\n",
       "| R100323 | 113451 | CON12     | Control   | 3 | 1 | 62.5 | Human | µM | NA | ⋯ | 1.68 | NA | NA |   NA | 1.91 |   NA | 0.22 | 0.42 |   NA |   NA |\n",
       "| R100323 | 113452 | CON17     | Control   | 3 | 1 | 40.3 | Human | µM | NA | ⋯ | 1.64 | NA | NA |   NA | 1.93 |   NA | 0.12 | 0.39 |   NA |   NA |\n",
       "| R100323 | 113453 | CON18     | Control   | 3 | 1 | 32.8 | Human | µM | NA | ⋯ | 1.72 | NA | NA |   NA | 1.88 |   NA | 0.13 | 0.37 |   NA |   NA |\n",
       "| R100323 | 113454 | CON19     | Control   | 3 | 2 | 43.2 | Human | µM | NA | ⋯ | 1.63 | NA | NA |   NA | 1.84 |   NA | 0.14 | 0.35 |   NA |   NA |\n",
       "| R100323 | 113455 | CON20     | Control   | 3 | 1 | 43.1 | Human | µM | NA | ⋯ | 1.80 | NA | NA |   NA | 1.93 |   NA | 0.11 | 0.41 |   NA | 1.63 |\n",
       "| R100323 | 113456 | CON21     | Control   | 3 | 1 | 34.7 | Human | µM | NA | ⋯ | 1.51 | NA | NA |   NA | 1.85 |   NA | 0.17 | 0.32 |   NA |   NA |\n",
       "| R100323 | 113457 | CON22     | Control   | 3 | 1 | 64.3 | Human | µM | NA | ⋯ | 1.97 | NA | NA | 2.33 | 1.90 | 2.81 | 0.51 | 0.36 | 2.39 | 1.64 |\n",
       "| R100323 | 113458 | CON23     | Control   | 3 | 2 | 63.5 | Human | µM | NA | ⋯ | 1.59 | NA | NA |   NA | 1.84 |   NA | 0.15 | 0.32 |   NA | 1.63 |\n",
       "| R100323 | 113459 | CON24     | Control   | 3 | 1 | 55.8 | Human | µM | NA | ⋯ | 1.59 | NA | NA |   NA | 1.88 |   NA | 0.17 | 0.34 |   NA |   NA |\n",
       "| R100323 | 113460 | CON25     | Control   | 3 | 2 | 52.1 | Human | µM | NA | ⋯ | 1.86 | NA | NA |   NA | 1.90 |   NA | 0.12 | 0.40 |   NA | 1.63 |\n",
       "| R100323 | 113461 | CON26     | Control   | 3 | 1 | 57.7 | Human | µM | NA | ⋯ | 1.65 | NA | NA | 2.35 | 1.85 |   NA | 0.12 | 0.35 |   NA |   NA |\n",
       "\n"
      ],
      "text/plain": [
       "   RunID   Sample Code Sample Identification Sample Description Group_123 Sex\n",
       "1  R100323 113402      2341                  Cirrhosis          1         1  \n",
       "2  R100323 113403      2344                  Cirrhosis          1         1  \n",
       "3  R100323 113404      2358                  PSVD               2         2  \n",
       "4  R100323 113405      2360                  Cirrhosis          1         2  \n",
       "5  R100323 113406      2390                  PSVD               2         2  \n",
       "6  R100323 113407      2427                  PSVD               2         1  \n",
       "7  R100323 113408      2432                  PSVD               2         2  \n",
       "8  R100323 113409      2486                  Cirrhosis          1         1  \n",
       "9  R100323 113410      2536                  Cirrhosis          1         1  \n",
       "10 R100323 113411      2578                  Cirrhosis          1         1  \n",
       "11 R100323 113412      2588                  PSVD               2         2  \n",
       "12 R100323 113413      2621                  PSVD               2         1  \n",
       "13 R100323 113414      2658                  PSVD               2         1  \n",
       "14 R100323 113415      2675                  PSVD               2         2  \n",
       "15 R100323 113416      2757                  Cirrhosis          1         1  \n",
       "16 R100323 113417      2792                  Cirrhosis          1         2  \n",
       "17 R100323 113418      2799                  Cirrhosis          1         1  \n",
       "18 R100323 113419      2805                  PSVD               2         1  \n",
       "19 R100323 113420      2807                  Cirrhosis          1         1  \n",
       "20 R100323 113421      2841                  Cirrhosis          1         1  \n",
       "21 R100323 113422      2874                  Cirrhosis          1         2  \n",
       "22 R100323 113423      2889                  Cirrhosis          1         1  \n",
       "23 R100323 113424      2895                  Cirrhosis          1         1  \n",
       "24 R100323 113425      2915                  Cirrhosis          1         1  \n",
       "25 R100323 113426      2956                  Cirrhosis          1         1  \n",
       "26 R100323 113427      2978                  Cirrhosis          1         1  \n",
       "27 R100323 113428      2985                  Cirrhosis          1         1  \n",
       "28 R100323 113429      3058                  PSVD               2         1  \n",
       "29 R100323 113430      3116                  PSVD               2         1  \n",
       "30 R100323 113431      3220                  PSVD               2         1  \n",
       "31 R100323 113432      3251                  PSVD               2         2  \n",
       "32 R100323 113433      3272                  Cirrhosis          1         2  \n",
       "33 R100323 113434      3295                  Cirrhosis          1         1  \n",
       "34 R100323 113435      3310                  PSVD               2         1  \n",
       "35 R100323 113436      3364                  PSVD               2         1  \n",
       "36 R100323 113437      3446                  PSVD               2         1  \n",
       "37 R100323 113438      3531                  PSVD               2         2  \n",
       "38 R100323 113439      3516                  PSVD               2         1  \n",
       "39 R100323 113440      VALID-104             PSVD               2         1  \n",
       "40 R100323 113441      VALID-172             PSVD               2         1  \n",
       "41 R100323 113442      CON1                  Control            3         2  \n",
       "42 R100323 113443      CON2                  Control            3         2  \n",
       "43 R100323 113444      CON3                  Control            3         2  \n",
       "44 R100323 113445      CON4                  Control            3         1  \n",
       "45 R100323 113446      CON5                  Control            3         1  \n",
       "46 R100323 113447      CON6                  Control            3         2  \n",
       "47 R100323 113448      CON7                  Control            3         1  \n",
       "48 R100323 113449      CON8                  Control            3         1  \n",
       "49 R100323 113450      CON11                 Control            3         1  \n",
       "50 R100323 113451      CON12                 Control            3         1  \n",
       "51 R100323 113452      CON17                 Control            3         1  \n",
       "52 R100323 113453      CON18                 Control            3         1  \n",
       "53 R100323 113454      CON19                 Control            3         2  \n",
       "54 R100323 113455      CON20                 Control            3         1  \n",
       "55 R100323 113456      CON21                 Control            3         1  \n",
       "56 R100323 113457      CON22                 Control            3         1  \n",
       "57 R100323 113458      CON23                 Control            3         2  \n",
       "58 R100323 113459      CON24                 Control            3         1  \n",
       "59 R100323 113460      CON25                 Control            3         2  \n",
       "60 R100323 113461      CON26                 Control            3         1  \n",
       "   Age  Specimen Unit Formic acid (C1:0) ⋯ Linolenic acid (C18:3)\n",
       "1  44.7 Human    µM   NA                 ⋯ 1.59                  \n",
       "2  40.8 Human    µM   NA                 ⋯ 2.50                  \n",
       "3  34.3 Human    µM   NA                 ⋯ 2.17                  \n",
       "4  48.5 Human    µM   NA                 ⋯ 1.67                  \n",
       "5  40.3 Human    µM   NA                 ⋯ 1.74                  \n",
       "6  57.8 Human    µM   NA                 ⋯ 1.62                  \n",
       "7  46.0 Human    µM   NA                 ⋯ 1.73                  \n",
       "8  53.7 Human    µM   NA                 ⋯ 1.76                  \n",
       "9  64.9 Human    µM   NA                 ⋯ 1.65                  \n",
       "10 48.2 Human    µM   NA                 ⋯ 1.59                  \n",
       "11 37.0 Human    µM   NA                 ⋯ 3.05                  \n",
       "12 54.9 Human    µM   NA                 ⋯ 1.72                  \n",
       "13 19.3 Human    µM   NA                 ⋯ 2.01                  \n",
       "14 52.8 Human    µM   NA                 ⋯ 2.20                  \n",
       "15 59.4 Human    µM   NA                 ⋯ 1.97                  \n",
       "16 52.2 Human    µM   NA                 ⋯ 4.18                  \n",
       "17 40.7 Human    µM   NA                 ⋯ 1.72                  \n",
       "18 20.6 Human    µM   NA                 ⋯ 1.81                  \n",
       "19 68.7 Human    µM   NA                 ⋯ 4.26                  \n",
       "20 72.5 Human    µM   NA                 ⋯ 1.76                  \n",
       "21 54.9 Human    µM   NA                 ⋯   NA                  \n",
       "22 55.3 Human    µM   NA                 ⋯ 1.55                  \n",
       "23 42.0 Human    µM   NA                 ⋯ 1.67                  \n",
       "24 40.8 Human    µM   NA                 ⋯ 2.70                  \n",
       "25 49.2 Human    µM   NA                 ⋯ 1.73                  \n",
       "26 62.2 Human    µM   NA                 ⋯ 1.81                  \n",
       "27 57.4 Human    µM   NA                 ⋯ 2.14                  \n",
       "28 56.2 Human    µM   NA                 ⋯ 1.72                  \n",
       "29 49.9 Human    µM   NA                 ⋯ 1.78                  \n",
       "30 60.0 Human    µM   NA                 ⋯ 2.11                  \n",
       "31 57.5 Human    µM   NA                 ⋯ 2.39                  \n",
       "32 40.4 Human    µM   NA                 ⋯ 1.54                  \n",
       "33 64.6 Human    µM   NA                 ⋯ 1.63                  \n",
       "34 53.9 Human    µM   NA                 ⋯ 1.59                  \n",
       "35 40.8 Human    µM   NA                 ⋯ 1.55                  \n",
       "36 55.1 Human    µM   NA                 ⋯ 1.65                  \n",
       "37 34.2 Human    µM   NA                 ⋯ 2.56                  \n",
       "38 19.0 Human    µM   NA                 ⋯ 1.67                  \n",
       "39 52.0 Human    µM   NA                 ⋯ 1.80                  \n",
       "40 54.5 Human    µM   NA                 ⋯ 1.74                  \n",
       "41 29.3 Human    µM   NA                 ⋯ 1.56                  \n",
       "42 37.8 Human    µM   NA                 ⋯ 1.65                  \n",
       "43 54.5 Human    µM   NA                 ⋯ 1.70                  \n",
       "44 75.6 Human    µM   NA                 ⋯ 1.92                  \n",
       "45 43.4 Human    µM   NA                 ⋯ 1.66                  \n",
       "46 62.6 Human    µM   NA                 ⋯ 1.71                  \n",
       "47 30.5 Human    µM   NA                 ⋯ 1.53                  \n",
       "48 53.8 Human    µM   NA                 ⋯ 1.70                  \n",
       "49 52.3 Human    µM   NA                 ⋯ 2.05                  \n",
       "50 62.5 Human    µM   NA                 ⋯ 1.68                  \n",
       "51 40.3 Human    µM   NA                 ⋯ 1.64                  \n",
       "52 32.8 Human    µM   NA                 ⋯ 1.72                  \n",
       "53 43.2 Human    µM   NA                 ⋯ 1.63                  \n",
       "54 43.1 Human    µM   NA                 ⋯ 1.80                  \n",
       "55 34.7 Human    µM   NA                 ⋯ 1.51                  \n",
       "56 64.3 Human    µM   NA                 ⋯ 1.97                  \n",
       "57 63.5 Human    µM   NA                 ⋯ 1.59                  \n",
       "58 55.8 Human    µM   NA                 ⋯ 1.59                  \n",
       "59 52.1 Human    µM   NA                 ⋯ 1.86                  \n",
       "60 57.7 Human    µM   NA                 ⋯ 1.65                  \n",
       "   Nonadecanoic acid (C19:0) isononadecanoic acid (17-Me-18:0)\n",
       "1  NA                        NA                               \n",
       "2  NA                        NA                               \n",
       "3  NA                        NA                               \n",
       "4  NA                        NA                               \n",
       "5  NA                        NA                               \n",
       "6  NA                        NA                               \n",
       "7  NA                        NA                               \n",
       "8  NA                        NA                               \n",
       "9  NA                        NA                               \n",
       "10 NA                        NA                               \n",
       "11 NA                        NA                               \n",
       "12 NA                        NA                               \n",
       "13 NA                        NA                               \n",
       "14 NA                        NA                               \n",
       "15 NA                        NA                               \n",
       "16 NA                        NA                               \n",
       "17 NA                        NA                               \n",
       "18 NA                        NA                               \n",
       "19 NA                        NA                               \n",
       "20 NA                        NA                               \n",
       "21 NA                        NA                               \n",
       "22 NA                        NA                               \n",
       "23 NA                        NA                               \n",
       "24 NA                        NA                               \n",
       "25 NA                        NA                               \n",
       "26 NA                        NA                               \n",
       "27 NA                        NA                               \n",
       "28 NA                        NA                               \n",
       "29 NA                        NA                               \n",
       "30 NA                        NA                               \n",
       "31 NA                        NA                               \n",
       "32 NA                        NA                               \n",
       "33 NA                        NA                               \n",
       "34 NA                        NA                               \n",
       "35 NA                        NA                               \n",
       "36 NA                        NA                               \n",
       "37 NA                        NA                               \n",
       "38 NA                        NA                               \n",
       "39 NA                        NA                               \n",
       "40 NA                        NA                               \n",
       "41 NA                        NA                               \n",
       "42 NA                        NA                               \n",
       "43 NA                        NA                               \n",
       "44 NA                        NA                               \n",
       "45 NA                        NA                               \n",
       "46 NA                        NA                               \n",
       "47 NA                        NA                               \n",
       "48 NA                        NA                               \n",
       "49 NA                        NA                               \n",
       "50 NA                        NA                               \n",
       "51 NA                        NA                               \n",
       "52 NA                        NA                               \n",
       "53 NA                        NA                               \n",
       "54 NA                        NA                               \n",
       "55 NA                        NA                               \n",
       "56 NA                        NA                               \n",
       "57 NA                        NA                               \n",
       "58 NA                        NA                               \n",
       "59 NA                        NA                               \n",
       "60 NA                        NA                               \n",
       "   Arachidic (C20:0) Arachidonic acid (20:4) Behenic acid (C22:0)\n",
       "1    NA              1.91                      NA                \n",
       "2    NA              1.94                      NA                \n",
       "3    NA              1.88                      NA                \n",
       "4  2.27              1.99                      NA                \n",
       "5  2.29              1.87                      NA                \n",
       "6  2.30              1.97                      NA                \n",
       "7    NA              1.91                      NA                \n",
       "8  2.30              1.85                      NA                \n",
       "9  2.30              1.87                      NA                \n",
       "10 2.26              1.86                      NA                \n",
       "11 2.34              2.25                      NA                \n",
       "12   NA              2.08                      NA                \n",
       "13 2.28              1.87                      NA                \n",
       "14   NA              2.09                      NA                \n",
       "15   NA              1.99                      NA                \n",
       "16 2.34              2.19                      NA                \n",
       "17   NA              1.84                      NA                \n",
       "18 2.28              1.90                      NA                \n",
       "19   NA              2.16                      NA                \n",
       "20   NA              2.03                      NA                \n",
       "21   NA              2.16                    2.71                \n",
       "22   NA              1.82                      NA                \n",
       "23   NA              2.03                      NA                \n",
       "24   NA              2.07                    2.93                \n",
       "25   NA              2.28                      NA                \n",
       "26 2.30              1.93                      NA                \n",
       "27   NA              1.91                    2.66                \n",
       "28   NA              1.91                      NA                \n",
       "29   NA              1.95                      NA                \n",
       "30 2.28              2.12                      NA                \n",
       "31   NA              2.14                    3.02                \n",
       "32   NA              2.03                    2.50                \n",
       "33   NA              1.86                      NA                \n",
       "34 2.30              1.88                      NA                \n",
       "35   NA              1.88                      NA                \n",
       "36 2.27              1.86                      NA                \n",
       "37   NA              1.89                      NA                \n",
       "38   NA              1.87                      NA                \n",
       "39   NA              1.99                      NA                \n",
       "40   NA              1.85                      NA                \n",
       "41   NA              1.89                      NA                \n",
       "42   NA              1.87                      NA                \n",
       "43 2.29              1.83                      NA                \n",
       "44   NA              2.00                      NA                \n",
       "45   NA              1.88                      NA                \n",
       "46   NA              1.91                      NA                \n",
       "47   NA              1.89                      NA                \n",
       "48   NA              1.86                      NA                \n",
       "49   NA              1.89                      NA                \n",
       "50   NA              1.91                      NA                \n",
       "51   NA              1.93                      NA                \n",
       "52   NA              1.88                      NA                \n",
       "53   NA              1.84                      NA                \n",
       "54   NA              1.93                      NA                \n",
       "55   NA              1.85                      NA                \n",
       "56 2.33              1.90                    2.81                \n",
       "57   NA              1.84                      NA                \n",
       "58   NA              1.88                      NA                \n",
       "59   NA              1.90                      NA                \n",
       "60 2.35              1.85                      NA                \n",
       "   Erucic acid (C22:1) cis-4,7,10,13,16,19-Docosahexaenoic acid (C22:6)\n",
       "1  0.23                0.26                                            \n",
       "2  0.20                0.39                                            \n",
       "3  0.12                0.33                                            \n",
       "4  0.08                0.33                                            \n",
       "5  0.15                0.33                                            \n",
       "6  0.19                0.35                                            \n",
       "7  0.07                0.30                                            \n",
       "8  0.06                0.29                                            \n",
       "9  0.04                0.32                                            \n",
       "10 0.04                0.28                                            \n",
       "11 0.35                0.64                                            \n",
       "12 0.10                0.40                                            \n",
       "13 0.15                0.29                                            \n",
       "14 0.13                0.56                                            \n",
       "15 0.30                0.38                                            \n",
       "16 0.68                0.50                                            \n",
       "17 0.05                0.28                                            \n",
       "18 0.07                0.31                                            \n",
       "19 0.34                0.39                                            \n",
       "20 0.12                0.35                                            \n",
       "21 0.74                0.59                                            \n",
       "22 0.09                0.26                                            \n",
       "23 0.17                0.43                                            \n",
       "24 0.25                0.51                                            \n",
       "25 0.15                0.58                                            \n",
       "26 0.04                0.32                                            \n",
       "27 0.32                0.33                                            \n",
       "28 0.12                0.33                                            \n",
       "29 0.16                0.35                                            \n",
       "30 0.18                0.47                                            \n",
       "31 0.29                0.60                                            \n",
       "32 0.28                0.42                                            \n",
       "33 0.06                0.32                                            \n",
       "34 0.10                0.33                                            \n",
       "35 0.05                0.28                                            \n",
       "36 0.05                0.29                                            \n",
       "37 0.39                0.39                                            \n",
       "38 0.14                0.30                                            \n",
       "39 0.16                0.37                                            \n",
       "40 0.07                0.30                                            \n",
       "41 0.16                0.30                                            \n",
       "42 0.10                0.39                                            \n",
       "43   NA                0.30                                            \n",
       "44 0.13                0.45                                            \n",
       "45 0.18                0.31                                            \n",
       "46 0.20                0.44                                            \n",
       "47 0.07                0.34                                            \n",
       "48 0.02                0.33                                            \n",
       "49 0.24                0.33                                            \n",
       "50 0.22                0.42                                            \n",
       "51 0.12                0.39                                            \n",
       "52 0.13                0.37                                            \n",
       "53 0.14                0.35                                            \n",
       "54 0.11                0.41                                            \n",
       "55 0.17                0.32                                            \n",
       "56 0.51                0.36                                            \n",
       "57 0.15                0.32                                            \n",
       "58 0.17                0.34                                            \n",
       "59 0.12                0.40                                            \n",
       "60 0.12                0.35                                            \n",
       "   Lignoceric acid (C24:0) Nervonic acid (C24:1)\n",
       "1    NA                    1.63                 \n",
       "2  2.32                    1.64                 \n",
       "3    NA                    1.63                 \n",
       "4  2.27                    1.63                 \n",
       "5  2.28                    1.65                 \n",
       "6    NA                    1.65                 \n",
       "7    NA                    1.63                 \n",
       "8    NA                    1.63                 \n",
       "9    NA                    1.63                 \n",
       "10   NA                    1.64                 \n",
       "11   NA                    1.66                 \n",
       "12   NA                      NA                 \n",
       "13 2.30                    1.63                 \n",
       "14   NA                    1.63                 \n",
       "15   NA                    1.63                 \n",
       "16   NA                    1.64                 \n",
       "17 2.25                      NA                 \n",
       "18   NA                      NA                 \n",
       "19   NA                      NA                 \n",
       "20   NA                    1.64                 \n",
       "21   NA                      NA                 \n",
       "22   NA                    1.63                 \n",
       "23   NA                      NA                 \n",
       "24   NA                    1.63                 \n",
       "25   NA                    1.63                 \n",
       "26   NA                    1.63                 \n",
       "27   NA                      NA                 \n",
       "28   NA                      NA                 \n",
       "29   NA                      NA                 \n",
       "30   NA                    1.63                 \n",
       "31   NA                    1.63                 \n",
       "32 2.40                      NA                 \n",
       "33   NA                    1.63                 \n",
       "34   NA                      NA                 \n",
       "35 2.27                      NA                 \n",
       "36   NA                      NA                 \n",
       "37 2.41                      NA                 \n",
       "38 2.29                      NA                 \n",
       "39   NA                      NA                 \n",
       "40   NA                    1.63                 \n",
       "41   NA                      NA                 \n",
       "42   NA                    1.63                 \n",
       "43 2.25                    1.62                 \n",
       "44   NA                      NA                 \n",
       "45   NA                      NA                 \n",
       "46   NA                      NA                 \n",
       "47   NA                    1.63                 \n",
       "48   NA                      NA                 \n",
       "49   NA                    1.63                 \n",
       "50   NA                      NA                 \n",
       "51   NA                      NA                 \n",
       "52   NA                      NA                 \n",
       "53   NA                      NA                 \n",
       "54   NA                    1.63                 \n",
       "55   NA                      NA                 \n",
       "56 2.39                    1.64                 \n",
       "57   NA                    1.63                 \n",
       "58   NA                      NA                 \n",
       "59   NA                    1.63                 \n",
       "60   NA                      NA                 "
      ]
     },
     "metadata": {},
     "output_type": "display_data"
    }
   ],
   "source": [
    "facid_raw"
   ]
  },
  {
   "cell_type": "code",
   "execution_count": 5,
   "metadata": {
    "vscode": {
     "languageId": "r"
    }
   },
   "outputs": [],
   "source": [
    "metadata <- facid_raw[, 3:7]\n",
    "names(metadata) <- make_clean_names(names(metadata))\n",
    "metadata <- metadata %>% dplyr::rename(\"sample_id\" = \"sample_identification\")"
   ]
  },
  {
   "attachments": {},
   "cell_type": "markdown",
   "metadata": {},
   "source": [
    "## Data cleaning"
   ]
  },
  {
   "cell_type": "code",
   "execution_count": 10,
   "metadata": {
    "vscode": {
     "languageId": "r"
    }
   },
   "outputs": [],
   "source": [
    "missing_threshold <- 5"
   ]
  },
  {
   "cell_type": "code",
   "execution_count": 11,
   "metadata": {
    "vscode": {
     "languageId": "r"
    }
   },
   "outputs": [
    {
     "data": {
      "text/html": [
       "'Columns with &gt;5% missing values in lipid_raw: 119. New number of columns: 173. Percentage of outliers: 40.75%'"
      ],
      "text/latex": [
       "'Columns with >5\\% missing values in lipid\\_raw: 119. New number of columns: 173. Percentage of outliers: 40.75\\%'"
      ],
      "text/markdown": [
       "'Columns with &gt;5% missing values in lipid_raw: 119. New number of columns: 173. Percentage of outliers: 40.75%'"
      ],
      "text/plain": [
       "[1] \"Columns with >5% missing values in lipid_raw: 119. New number of columns: 173. Percentage of outliers: 40.75%\""
      ]
     },
     "metadata": {},
     "output_type": "display_data"
    },
    {
     "data": {
      "text/html": [
       "'Columns with &gt;5% missing values in facid_raw: 16. New number of columns: 28. Percentage of outliers: 36.36%'"
      ],
      "text/latex": [
       "'Columns with >5\\% missing values in facid\\_raw: 16. New number of columns: 28. Percentage of outliers: 36.36\\%'"
      ],
      "text/markdown": [
       "'Columns with &gt;5% missing values in facid_raw: 16. New number of columns: 28. Percentage of outliers: 36.36%'"
      ],
      "text/plain": [
       "[1] \"Columns with >5% missing values in facid_raw: 16. New number of columns: 28. Percentage of outliers: 36.36%\""
      ]
     },
     "metadata": {},
     "output_type": "display_data"
    },
    {
     "data": {
      "text/html": [
       "'Columns with &gt;5% missing values in metab_raw: 113. New number of columns: 90. Percentage of outliers: 55.67%'"
      ],
      "text/latex": [
       "'Columns with >5\\% missing values in metab\\_raw: 113. New number of columns: 90. Percentage of outliers: 55.67\\%'"
      ],
      "text/markdown": [
       "'Columns with &gt;5% missing values in metab_raw: 113. New number of columns: 90. Percentage of outliers: 55.67%'"
      ],
      "text/plain": [
       "[1] \"Columns with >5% missing values in metab_raw: 113. New number of columns: 90. Percentage of outliers: 55.67%\""
      ]
     },
     "metadata": {},
     "output_type": "display_data"
    }
   ],
   "source": [
    "lipid_raw_na <- lipid_raw %>% purrr::discard(~sum(is.na(.x))/length(.x)* 100 >= missing_threshold)\n",
    "paste0(\"Columns with >\", missing_threshold, \"% missing values in lipid_raw: \", ncol(lipid_raw) - ncol(lipid_raw_na), \". New number of columns: \", ncol(lipid_raw_na), \". Percentage of outliers: \", round((ncol(lipid_raw) - ncol(lipid_raw_na)) * 100/ncol(lipid_raw), 2), \"%\")\n",
    "\n",
    "facid_raw_na <- facid_raw %>% purrr::discard(~sum(is.na(.x))/length(.x)* 100 >= missing_threshold)\n",
    "paste0(\"Columns with >\", missing_threshold, \"% missing values in facid_raw: \", ncol(facid_raw) - ncol(facid_raw_na), \". New number of columns: \", ncol(facid_raw_na), \". Percentage of outliers: \", round((ncol(facid_raw) - ncol(facid_raw_na)) * 100/ncol(facid_raw), 2), \"%\")\n",
    "\n",
    "metab_raw_na <- metab_raw %>% purrr::discard(~sum(is.na(.x))/length(.x)* 100 >= missing_threshold)\n",
    "paste0(\"Columns with >\", missing_threshold, \"% missing values in metab_raw: \", ncol(metab_raw) - ncol(metab_raw_na), \". New number of columns: \", ncol(metab_raw_na), \". Percentage of outliers: \", round((ncol(metab_raw) - ncol(metab_raw_na)) * 100/ncol(metab_raw), 2), \"%\")"
   ]
  },
  {
   "cell_type": "code",
   "execution_count": 12,
   "metadata": {
    "vscode": {
     "languageId": "r"
    }
   },
   "outputs": [],
   "source": [
    "lipid_raw_na <- remove_constant(lipid_raw_na)\n",
    "facid_raw_na <- remove_constant(facid_raw_na)\n",
    "metab_raw_na <- remove_constant(metab_raw_na)"
   ]
  },
  {
   "cell_type": "code",
   "execution_count": 13,
   "metadata": {
    "vscode": {
     "languageId": "r"
    }
   },
   "outputs": [],
   "source": [
    "names(lipid_raw_na) <- make_clean_names(names(lipid_raw_na))\n",
    "names(facid_raw_na) <- make_clean_names(names(facid_raw_na))\n",
    "names(metab_raw_na) <- make_clean_names(names(metab_raw_na))"
   ]
  },
  {
   "cell_type": "code",
   "execution_count": 14,
   "metadata": {
    "vscode": {
     "languageId": "r"
    }
   },
   "outputs": [],
   "source": [
    "lipid_raw_na <- lipid_raw_na %>% select(-sample_id, -sample_description, -group_123, -sex, -age)\n",
    "facid_raw_na <- facid_raw_na %>% select(-sample_code, -sample_description, -group_123, -sex, -age)\n",
    "metab_raw_na <- metab_raw_na %>% select(-group_123, -sex, -age)"
   ]
  },
  {
   "cell_type": "code",
   "execution_count": 15,
   "metadata": {
    "vscode": {
     "languageId": "r"
    }
   },
   "outputs": [],
   "source": [
    "lipid_raw_na <- lipid_raw_na %>% dplyr::rename(\"sample_id\" = \"label\")\n",
    "facid_raw_na <- facid_raw_na %>% dplyr::rename(\"sample_id\" = \"sample_identification\")\n",
    "metab_raw_na <- metab_raw_na %>% dplyr::rename(\"sample_id\" = \"sample_identification\") "
   ]
  },
  {
   "attachments": {},
   "cell_type": "markdown",
   "metadata": {},
   "source": [
    "## Imputation, normalization, scaling and outliers"
   ]
  },
  {
   "cell_type": "code",
   "execution_count": 52,
   "metadata": {
    "vscode": {
     "languageId": "r"
    }
   },
   "outputs": [],
   "source": [
    "lipid_se <- PomaSummarizedExperiment(target = metadata, features = lipid_raw_na[2:ncol(lipid_raw_na)])\n",
    "facid_se <- PomaSummarizedExperiment(target = metadata, features = facid_raw_na[2:ncol(facid_raw_na)])\n",
    "metab_se <- PomaSummarizedExperiment(target = metadata, features = metab_raw_na[2:ncol(metab_raw_na)])\n"
   ]
  },
  {
   "cell_type": "code",
   "execution_count": 53,
   "metadata": {
    "vscode": {
     "languageId": "r"
    }
   },
   "outputs": [
    {
     "name": "stderr",
     "output_type": "stream",
     "text": [
      "Warning message in FUN(newX[, i], ...):\n",
      "“NaNs produced”\n",
      "Warning message in mean(log10(x + 1), na.rm = TRUE):\n",
      "“NaNs produced”\n",
      "Warning message in sd(log10(x + 1), na.rm = TRUE):\n",
      "“NaNs produced”\n"
     ]
    }
   ],
   "source": [
    "lipid_se <- PomaImpute(lipid_se, ZerosAsNA = TRUE, cutoff = 20, method = \"knn\") %>% PomaNorm(method = \"log_pareto\") %>% PomaOutliers(coef = 3)\n",
    "facid_se <- PomaImpute(facid_se, ZerosAsNA = TRUE, cutoff = 20, method = \"knn\") %>% PomaNorm(method = \"log_pareto\") %>% PomaOutliers(coef = 3)\n",
    "metab_se <- PomaImpute(metab_se, ZerosAsNA = TRUE, cutoff = 20, method = \"knn\") %>% PomaNorm(method = \"log_pareto\") %>% PomaOutliers(coef = 3)\n",
    "\n",
    "lipid_se <- as.data.frame(t(assay(lipid_se))) %>% tibble::rownames_to_column(\"sample_id\")\n",
    "facid_se <- as.data.frame(t(assay(facid_se))) %>% tibble::rownames_to_column(\"sample_id\")\n",
    "metab_se <- as.data.frame(t(assay(metab_se))) %>% tibble::rownames_to_column(\"sample_id\")"
   ]
  },
  {
   "cell_type": "code",
   "execution_count": 54,
   "metadata": {
    "vscode": {
     "languageId": "r"
    }
   },
   "outputs": [],
   "source": [
    "lipid_se <- lipid_se %>% tibble::column_to_rownames(\"sample_id\") %>% as.matrix()\n",
    "lipid_se <- t(scale(t(lipid_se)))\n",
    "lipid_se <- lipid_se %>% as.data.frame() %>% tibble::rownames_to_column(\"sample_id\")\n",
    "\n",
    "facid_se <- facid_se %>% tibble::column_to_rownames(\"sample_id\") %>% as.matrix()\n",
    "facid_se <- t(scale(t(facid_se)))\n",
    "facid_se <- facid_se %>% as.data.frame() %>% tibble::rownames_to_column(\"sample_id\")\n",
    "\n",
    "metab_se <- metab_se %>% tibble::column_to_rownames(\"sample_id\") %>% as.matrix()\n",
    "metab_se <- t(scale(t(metab_se)))\n",
    "metab_se <- metab_se %>% as.data.frame() %>% tibble::rownames_to_column(\"sample_id\")"
   ]
  },
  {
   "attachments": {},
   "cell_type": "markdown",
   "metadata": {},
   "source": [
    "## Integration"
   ]
  },
  {
   "cell_type": "code",
   "execution_count": 55,
   "metadata": {
    "vscode": {
     "languageId": "r"
    }
   },
   "outputs": [],
   "source": [
    "metabolomics_merged <- merge(lipid_se, facid_se, by=\"sample_id\")\n",
    "metabolomics_merged <- merge(metabolomics_merged, metab_se, by = \"sample_id\")"
   ]
  },
  {
   "cell_type": "code",
   "execution_count": 37,
   "metadata": {
    "vscode": {
     "languageId": "r"
    }
   },
   "outputs": [],
   "source": [
    "write.csv(metabolomics_merged, \"outputs/01_metabolomics_merged.csv\")"
   ]
  },
  {
   "cell_type": "code",
   "execution_count": 38,
   "metadata": {
    "vscode": {
     "languageId": "r"
    }
   },
   "outputs": [],
   "source": [
    "write.csv(metadata, \"outputs/01_metadata.csv\")"
   ]
  }
 ],
 "metadata": {
  "kernelspec": {
   "display_name": "2022_PSVD_metabolomics",
   "language": "R",
   "name": "2022_psvd_metabolomics"
  },
  "language_info": {
   "codemirror_mode": "r",
   "file_extension": ".r",
   "mimetype": "text/x-r-source",
   "name": "R",
   "pygments_lexer": "r",
   "version": "4.2.2"
  },
  "orig_nbformat": 4
 },
 "nbformat": 4,
 "nbformat_minor": 2
}
